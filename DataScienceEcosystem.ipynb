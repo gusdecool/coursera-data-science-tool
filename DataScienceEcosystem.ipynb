{
 "cells": [
  {
   "cell_type": "markdown",
   "source": [
    "# Data Science Tools and Ecosystem\n"
   ],
   "metadata": {
    "collapsed": false
   },
   "id": "48a945d2128e1305"
  },
  {
   "cell_type": "markdown",
   "source": [
    "In this notebook, Data Science Tools and Ecosystem are summarized.\n"
   ],
   "metadata": {
    "collapsed": false
   },
   "id": "34600b7efd002ac6"
  },
  {
   "cell_type": "markdown",
   "source": [
    "**Objectives:**\n",
    "- Julia\n",
    "- Python\n",
    "- R\n",
    "- Java\n",
    "- Javascript\n",
    "- Go\n",
    "\n",
    "## Author Budi Arsana"
   ],
   "metadata": {
    "collapsed": false
   },
   "id": "9d67a9fff9d8501d"
  },
  {
   "cell_type": "markdown",
   "source": [
    "Some of the popular languages that Data Scientists use are:\n",
    "1. Julia\n",
    "2. Python\n",
    "3. R"
   ],
   "metadata": {
    "collapsed": false
   },
   "id": "aec3ee8c782f5cda"
  },
  {
   "cell_type": "markdown",
   "source": [
    "Some of the commonly used libraries used by Data Scientists include:\n",
    "1. Numpy\n",
    "2. Pandas\n",
    "3. Matplotlib\n",
    "4. Seaborn\n",
    "5. Scikit-learn\n",
    "6. Tensorflow\n",
    "7. Keras"
   ],
   "metadata": {
    "collapsed": false
   },
   "id": "80757a81f2988828"
  },
  {
   "cell_type": "markdown",
   "source": [
    "| Data Science Tools |\n",
    "|--------------------|\n",
    "| Watson Studio      |\n",
    "| Jupyter            |\n",
    "| Google Colab       |"
   ],
   "metadata": {
    "collapsed": false
   },
   "id": "d2402ab0a7fdc3f7"
  },
  {
   "cell_type": "markdown",
   "source": [
    "### Below are a few examples of evaluating arithmetic expressions in Python"
   ],
   "metadata": {
    "collapsed": false
   },
   "id": "4cb5b8169f08de8a"
  },
  {
   "cell_type": "code",
   "execution_count": 1,
   "outputs": [
    {
     "data": {
      "text/plain": "17"
     },
     "execution_count": 1,
     "metadata": {},
     "output_type": "execute_result"
    }
   ],
   "source": [
    "# This a simple arithmetic expression to multiply then add integers\n",
    "(3*4)+5"
   ],
   "metadata": {
    "collapsed": false,
    "ExecuteTime": {
     "end_time": "2023-08-03T06:44:37.061719Z",
     "start_time": "2023-08-03T06:44:37.048829Z"
    }
   },
   "id": "87e9da31f2f21592"
  },
  {
   "cell_type": "code",
   "execution_count": 2,
   "outputs": [
    {
     "data": {
      "text/plain": "3.3333333333333335"
     },
     "execution_count": 2,
     "metadata": {},
     "output_type": "execute_result"
    }
   ],
   "source": [
    "# This will convert 200 minutes to hours by diving by 60\n",
    "200/60"
   ],
   "metadata": {
    "collapsed": false,
    "ExecuteTime": {
     "end_time": "2023-08-03T06:45:14.925524Z",
     "start_time": "2023-08-03T06:45:14.919749Z"
    }
   },
   "id": "e4ac4f076f4d86c6"
  }
 ],
 "metadata": {
  "kernelspec": {
   "display_name": "Python 3",
   "language": "python",
   "name": "python3"
  },
  "language_info": {
   "codemirror_mode": {
    "name": "ipython",
    "version": 2
   },
   "file_extension": ".py",
   "mimetype": "text/x-python",
   "name": "python",
   "nbconvert_exporter": "python",
   "pygments_lexer": "ipython2",
   "version": "2.7.6"
  }
 },
 "nbformat": 4,
 "nbformat_minor": 5
}
