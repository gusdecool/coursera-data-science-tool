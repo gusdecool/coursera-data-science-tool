{
 "cells": [
  {
   "cell_type": "markdown",
   "metadata": {},
   "source": [
    "<center>\n",
    "    <img src=\"https://cf-courses-data.s3.us.cloud-object-storage.appdomain.cloud/IBMDeveloperSkillsNetwork-DB0201EN-SkillsNetwork/labs/FinalModule_Coursera_V5/images/SN_web_lightmode.png\" width=\"300\" alt=\"cognitiveclass.ai logo\">\n",
    "</center>\n",
    "\n",
    "<h1 align=center><font size = 5>Assignment: Notebook for Peer Assignment</font></h1>\n"
   ]
  },
  {
   "cell_type": "markdown",
   "metadata": {},
   "source": [
    "# Introduction\n",
    "\n",
    "Using this Python notebook you will:\n",
    "\n",
    "1.  Understand three Chicago datasets\n",
    "2.  Load the three datasets into three tables in a SQLIte database\n",
    "3.  Execute SQL queries to answer assignment questions\n"
   ]
  },
  {
   "cell_type": "markdown",
   "metadata": {},
   "source": [
    "## Understand the datasets\n",
    "\n",
    "To complete the assignment problems in this notebook you will be using three datasets that are available on the city of Chicago's Data Portal:\n",
    "\n",
    "1.  <a href=\"https://data.cityofchicago.org/Health-Human-Services/Census-Data-Selected-socioeconomic-indicators-in-C/kn9c-c2s2?utm_medium=Exinfluencer&utm_source=Exinfluencer&utm_content=000026UJ&utm_term=10006555&utm_id=NA-SkillsNetwork-Channel-SkillsNetworkCoursesIBMDeveloperSkillsNetworkDB0201ENSkillsNetwork20127838-2021-01-01\">Socioeconomic Indicators in Chicago</a>\n",
    "2.  <a href=\"https://data.cityofchicago.org/Education/Chicago-Public-Schools-Progress-Report-Cards-2011-/9xs2-f89t?utm_medium=Exinfluencer&utm_source=Exinfluencer&utm_content=000026UJ&utm_term=10006555&utm_id=NA-SkillsNetwork-Channel-SkillsNetworkCoursesIBMDeveloperSkillsNetworkDB0201ENSkillsNetwork20127838-2021-01-01\">Chicago Public Schools</a>\n",
    "3.  <a href=\"https://data.cityofchicago.org/Public-Safety/Crimes-2001-to-present/ijzp-q8t2?utm_medium=Exinfluencer&utm_source=Exinfluencer&utm_content=000026UJ&utm_term=10006555&utm_id=NA-SkillsNetwork-Channel-SkillsNetworkCoursesIBMDeveloperSkillsNetworkDB0201ENSkillsNetwork20127838-2021-01-01\">Chicago Crime Data</a>\n",
    "\n",
    "### 1. Socioeconomic Indicators in Chicago\n",
    "\n",
    "This dataset contains a selection of six socioeconomic indicators of public health significance and a “hardship index,” for each Chicago community area, for the years 2008 – 2012.\n",
    "\n",
    "A detailed description of this dataset and the original dataset can be obtained from the Chicago Data Portal at:\n",
    "[https://data.cityofchicago.org/Health-Human-Services/Census-Data-Selected-socioeconomic-indicators-in-C/kn9c-c2s2](https://data.cityofchicago.org/Health-Human-Services/Census-Data-Selected-socioeconomic-indicators-in-C/kn9c-c2s2?utm_medium=Exinfluencer&utm_source=Exinfluencer&utm_content=000026UJ&utm_term=10006555&utm_id=NA-SkillsNetwork-Channel-SkillsNetworkCoursesIBMDeveloperSkillsNetworkDB0201ENSkillsNetwork20127838-2021-01-01&cm_mmc=Email_Newsletter-_-Developer_Ed%2BTech-_-WW_WW-_-SkillsNetwork-Courses-IBMDeveloperSkillsNetwork-DB0201EN-SkillsNetwork-20127838&cm_mmca1=000026UJ&cm_mmca2=10006555&cm_mmca3=M12345678&cvosrc=email.Newsletter.M12345678&cvo_campaign=000026UJ)\n",
    "\n",
    "### 2. Chicago Public Schools\n",
    "\n",
    "This dataset shows all school level performance data used to create CPS School Report Cards for the 2011-2012 school year. This dataset is provided by the city of Chicago's Data Portal.\n",
    "\n",
    "A detailed description of this dataset and the original dataset can be obtained from the Chicago Data Portal at:\n",
    "[https://data.cityofchicago.org/Education/Chicago-Public-Schools-Progress-Report-Cards-2011-/9xs2-f89t](https://data.cityofchicago.org/Education/Chicago-Public-Schools-Progress-Report-Cards-2011-/9xs2-f89t?utm_medium=Exinfluencer&utm_source=Exinfluencer&utm_content=000026UJ&utm_term=10006555&utm_id=NA-SkillsNetwork-Channel-SkillsNetworkCoursesIBMDeveloperSkillsNetworkDB0201ENSkillsNetwork20127838-2021-01-01&cm_mmc=Email_Newsletter-_-Developer_Ed%2BTech-_-WW_WW-_-SkillsNetwork-Courses-IBMDeveloperSkillsNetwork-DB0201EN-SkillsNetwork-20127838&cm_mmca1=000026UJ&cm_mmca2=10006555&cm_mmca3=M12345678&cvosrc=email.Newsletter.M12345678&cvo_campaign=000026UJ)\n",
    "\n",
    "### 3. Chicago Crime Data\n",
    "\n",
    "This dataset reflects reported incidents of crime (with the exception of murders where data exists for each victim) that occurred in the City of Chicago from 2001 to present, minus the most recent seven days.\n",
    "\n",
    "A detailed description of this dataset and the original dataset can be obtained from the Chicago Data Portal at:\n",
    "[https://data.cityofchicago.org/Public-Safety/Crimes-2001-to-present/ijzp-q8t2](https://data.cityofchicago.org/Public-Safety/Crimes-2001-to-present/ijzp-q8t2?utm_medium=Exinfluencer&utm_source=Exinfluencer&utm_content=000026UJ&utm_term=10006555&utm_id=NA-SkillsNetwork-Channel-SkillsNetworkCoursesIBMDeveloperSkillsNetworkDB0201ENSkillsNetwork20127838-2021-01-01&cm_mmc=Email_Newsletter-_-Developer_Ed%2BTech-_-WW_WW-_-SkillsNetwork-Courses-IBMDeveloperSkillsNetwork-DB0201EN-SkillsNetwork-20127838&cm_mmca1=000026UJ&cm_mmca2=10006555&cm_mmca3=M12345678&cvosrc=email.Newsletter.M12345678&cvo_campaign=000026UJ)\n"
   ]
  },
  {
   "cell_type": "markdown",
   "metadata": {},
   "source": [
    "### Download the datasets\n",
    "\n",
    "This assignment requires you to have these three tables populated with a subset of the whole datasets.\n",
    "\n",
    "In many cases the dataset to be analyzed is available as a .CSV (comma separated values) file, perhaps on the internet. Click on the links below to download and save the datasets (.CSV files):\n",
    "\n",
    "*   <a href=\"https://cf-courses-data.s3.us.cloud-object-storage.appdomain.cloud/IBMDeveloperSkillsNetwork-DB0201EN-SkillsNetwork/labs/FinalModule_Coursera_V5/data/ChicagoCensusData.csv?utm_medium=Exinfluencer&utm_source=Exinfluencer&utm_content=000026UJ&utm_term=10006555&utm_id=NA-SkillsNetwork-Channel-SkillsNetworkCoursesIBMDeveloperSkillsNetworkDB0201ENSkillsNetwork20127838-2021-01-01\" target=\"_blank\">Chicago Census Data</a>\n",
    "\n",
    "*   <a href=\"https://cf-courses-data.s3.us.cloud-object-storage.appdomain.cloud/IBMDeveloperSkillsNetwork-DB0201EN-SkillsNetwork/labs/FinalModule_Coursera_V5/data/ChicagoPublicSchools.csv?utm_medium=Exinfluencer&utm_source=Exinfluencer&utm_content=000026UJ&utm_term=10006555&utm_id=NA-SkillsNetwork-Channel-SkillsNetworkCoursesIBMDeveloperSkillsNetworkDB0201ENSkillsNetwork20127838-2021-01-01\" target=\"_blank\">Chicago Public Schools</a>\n",
    "\n",
    "*   <a href=\"https://cf-courses-data.s3.us.cloud-object-storage.appdomain.cloud/IBMDeveloperSkillsNetwork-DB0201EN-SkillsNetwork/labs/FinalModule_Coursera_V5/data/ChicagoCrimeData.csv?utm_medium=Exinfluencer&utm_source=Exinfluencer&utm_content=000026UJ&utm_term=10006555&utm_id=NA-SkillsNetwork-Channel-SkillsNetworkCoursesIBMDeveloperSkillsNetworkDB0201ENSkillsNetwork20127838-2021-01-01\" target=\"_blank\">Chicago Crime Data</a>\n",
    "\n",
    "**NOTE:** Ensure you have downloaded the datasets using the links above instead of directly from the Chicago Data Portal. The versions linked here are subsets of the original datasets and have some of the column names modified to be more database friendly which will make it easier to complete this assignment.\n"
   ]
  },
  {
   "cell_type": "markdown",
   "metadata": {},
   "source": [
    "### Store the datasets in database tables\n",
    "\n",
    "To analyze the data using SQL, it first needs to be loaded into SQLite DB.\n",
    "We will create three tables in as under:\n",
    "\n",
    "1.  **CENSUS_DATA**\n",
    "2.  **CHICAGO_PUBLIC_SCHOOLS**\n",
    "3.  **CHICAGO_CRIME_DATA**\n",
    "\n",
    "Let us now load the ipython-sql  extension and establish a connection with the database\n",
    "\n",
    "* Here you will be loading the csv files into the pandas Dataframe and then loading the data into the above mentioned sqlite tables.\n",
    "\n",
    "* Next you will be connecting to the sqlite database  **FinalDB**.\n",
    "\n",
    "Refer to the previous lab for hints .\n",
    "\n",
    "<a href =\"https://cf-courses-data.s3.us.cloud-object-storage.appdomain.cloud/IBMDeveloperSkillsNetwork-DB0201EN-SkillsNetwork/labs/Module%205/DB0201EN-Week3-1-4-Analyzing_SQLite.ipynb\">Hands-on Lab: Analyzing a real World Data Set</a>\n",
    "\n",
    "\n",
    "\n"
   ]
  },
  {
   "cell_type": "code",
   "metadata": {
    "ExecuteTime": {
     "end_time": "2023-09-11T09:45:40.007032Z",
     "start_time": "2023-09-11T09:45:35.982356Z"
    }
   },
   "outputs": [],
   "source": [
    "%load_ext sql"
   ],
   "execution_count": 1
  },
  {
   "cell_type": "code",
   "metadata": {
    "ExecuteTime": {
     "end_time": "2023-09-11T09:47:32.273543Z",
     "start_time": "2023-09-11T09:47:32.267340Z"
    }
   },
   "outputs": [],
   "source": [
    "# create a database name assignment.db\n",
    "import sqlite3\n",
    "\n",
    "con = sqlite3.connect(\"assignment.db\")\n",
    "cur = con.cursor()"
   ],
   "execution_count": 2
  },
  {
   "cell_type": "code",
   "metadata": {},
   "outputs": [],
   "source": [
    "# !pip install -q pandas==1.1.5"
   ]
  },
  {
   "cell_type": "code",
   "metadata": {
    "ExecuteTime": {
     "end_time": "2023-09-11T09:48:44.082108Z",
     "start_time": "2023-09-11T09:48:43.964299Z"
    }
   },
   "outputs": [
    {
     "data": {
      "text/plain": "566"
     },
     "execution_count": 3,
     "metadata": {},
     "output_type": "execute_result"
    }
   ],
   "source": [
    "# add the csv into sqlite database\n",
    "import pandas as pd\n",
    "\n",
    "df = pd.read_csv('ChicagoCensusData.csv')\n",
    "df.to_sql(\"CENSUS_DATA\", con, if_exists='replace', index=False, method=\"multi\")\n",
    "\n",
    "df = pd.read_csv('ChicagoCrimeData.csv')\n",
    "df.to_sql(\"CHICAGO_CRIME_DATA\", con, if_exists='replace', index=False, method=\"multi\")\n",
    "\n",
    "df = pd.read_csv('ChicagoPublicSchools.csv')\n",
    "df.to_sql(\"CHICAGO_PUBLIC_SCHOOLS_DATA\", con, if_exists='replace', index=False, method=\"multi\")"
   ],
   "execution_count": 3
  },
  {
   "cell_type": "code",
   "metadata": {
    "ExecuteTime": {
     "end_time": "2023-09-11T09:49:25.631738Z",
     "start_time": "2023-09-11T09:49:25.213400Z"
    }
   },
   "outputs": [],
   "source": [
    "# connect to SQLite database\n",
    "%sql sqlite:///assignment.db\n"
   ],
   "execution_count": 5
  },
  {
   "cell_type": "code",
   "execution_count": 6,
   "outputs": [
    {
     "data": {
      "text/plain": "Running query in 'sqlite:///assignment.db'",
      "text/html": "<span style=\"None\">Running query in &#x27;sqlite:///assignment.db&#x27;</span>"
     },
     "metadata": {},
     "output_type": "display_data"
    },
    {
     "data": {
      "text/plain": "+----------+-------------+------------+--------------------------+------+--------------+-------------------------------+------------------------------+--------+----------+------+----------+------+-----------------------+---------+--------------+--------------+------+-------------+--------------+-------------------------------+\n|    ID    | CASE_NUMBER |    DATE    |          BLOCK           | IUCR | PRIMARY_TYPE |          DESCRIPTION          |     LOCATION_DESCRIPTION     | ARREST | DOMESTIC | BEAT | DISTRICT | WARD | COMMUNITY_AREA_NUMBER | FBICODE | X_COORDINATE | Y_COORDINATE | YEAR |   LATITUDE  |  LONGITUDE   |            LOCATION           |\n+----------+-------------+------------+--------------------------+------+--------------+-------------------------------+------------------------------+--------+----------+------+----------+------+-----------------------+---------+--------------+--------------+------+-------------+--------------+-------------------------------+\n| 3512276  |   HK587712  | 2004-08-28 |    047XX S KEDZIE AVE    | 890  |    THEFT     |         FROM BUILDING         |      SMALL RETAIL STORE      |   0    |    0     | 911  |    9     | 14.0 |          58.0         |    6    |  1155838.0   |  1873050.0   | 2004 |  41.8074405 | -87.70395585 |  (41.8074405, -87.703955849)  |\n| 3406613  |   HK456306  | 2004-06-26 | 009XX N CENTRAL PARK AVE | 820  |    THEFT     |         $500 AND UNDER        |            OTHER             |   0    |    0     | 1112 |    11    | 27.0 |          23.0         |    6    |  1152206.0   |  1906127.0   | 2004 | 41.89827996 | -87.71640551 | (41.898279962, -87.716405505) |\n| 8002131  |   HT233595  | 2011-04-04 |    043XX S WABASH AVE    | 820  |    THEFT     |         $500 AND UNDER        | NURSING HOME/RETIREMENT HOME |   0    |    0     | 221  |    2     | 3.0  |          38.0         |    6    |  1177436.0   |  1876313.0   | 2011 | 41.81593313 | -87.62464213 | (41.815933131, -87.624642127) |\n| 7903289  |   HT133522  | 2010-12-30 |   083XX S KINGSTON AVE   | 840  |    THEFT     | FINANCIAL ID THEFT: OVER $300 |          RESIDENCE           |   0    |    0     | 423  |    4     | 7.0  |          46.0         |    6    |  1194622.0   |  1850125.0   | 2010 | 41.74366532 | -87.56246276 | (41.743665322, -87.562462756) |\n| 10402076 |   HZ138551  | 2016-02-02 |     033XX W 66TH ST      | 820  |    THEFT     |         $500 AND UNDER        |            ALLEY             |   0    |    0     | 831  |    8     | 15.0 |          66.0         |    6    |  1155240.0   |  1860661.0   | 2016 |  41.7734553 | -87.70648047 | (41.773455295, -87.706480471) |\n+----------+-------------+------------+--------------------------+------+--------------+-------------------------------+------------------------------+--------+----------+------+----------+------+-----------------------+---------+--------------+--------------+------+-------------+--------------+-------------------------------+",
      "text/html": "<table>\n    <thead>\n        <tr>\n            <th>ID</th>\n            <th>CASE_NUMBER</th>\n            <th>DATE</th>\n            <th>BLOCK</th>\n            <th>IUCR</th>\n            <th>PRIMARY_TYPE</th>\n            <th>DESCRIPTION</th>\n            <th>LOCATION_DESCRIPTION</th>\n            <th>ARREST</th>\n            <th>DOMESTIC</th>\n            <th>BEAT</th>\n            <th>DISTRICT</th>\n            <th>WARD</th>\n            <th>COMMUNITY_AREA_NUMBER</th>\n            <th>FBICODE</th>\n            <th>X_COORDINATE</th>\n            <th>Y_COORDINATE</th>\n            <th>YEAR</th>\n            <th>LATITUDE</th>\n            <th>LONGITUDE</th>\n            <th>LOCATION</th>\n        </tr>\n    </thead>\n    <tbody>\n        <tr>\n            <td>3512276</td>\n            <td>HK587712</td>\n            <td>2004-08-28</td>\n            <td>047XX S KEDZIE AVE</td>\n            <td>890</td>\n            <td>THEFT</td>\n            <td>FROM BUILDING</td>\n            <td>SMALL RETAIL STORE</td>\n            <td>0</td>\n            <td>0</td>\n            <td>911</td>\n            <td>9</td>\n            <td>14.0</td>\n            <td>58.0</td>\n            <td>6</td>\n            <td>1155838.0</td>\n            <td>1873050.0</td>\n            <td>2004</td>\n            <td>41.8074405</td>\n            <td>-87.70395585</td>\n            <td>(41.8074405, -87.703955849)</td>\n        </tr>\n        <tr>\n            <td>3406613</td>\n            <td>HK456306</td>\n            <td>2004-06-26</td>\n            <td>009XX N CENTRAL PARK AVE</td>\n            <td>820</td>\n            <td>THEFT</td>\n            <td>$500 AND UNDER</td>\n            <td>OTHER</td>\n            <td>0</td>\n            <td>0</td>\n            <td>1112</td>\n            <td>11</td>\n            <td>27.0</td>\n            <td>23.0</td>\n            <td>6</td>\n            <td>1152206.0</td>\n            <td>1906127.0</td>\n            <td>2004</td>\n            <td>41.89827996</td>\n            <td>-87.71640551</td>\n            <td>(41.898279962, -87.716405505)</td>\n        </tr>\n        <tr>\n            <td>8002131</td>\n            <td>HT233595</td>\n            <td>2011-04-04</td>\n            <td>043XX S WABASH AVE</td>\n            <td>820</td>\n            <td>THEFT</td>\n            <td>$500 AND UNDER</td>\n            <td>NURSING HOME/RETIREMENT HOME</td>\n            <td>0</td>\n            <td>0</td>\n            <td>221</td>\n            <td>2</td>\n            <td>3.0</td>\n            <td>38.0</td>\n            <td>6</td>\n            <td>1177436.0</td>\n            <td>1876313.0</td>\n            <td>2011</td>\n            <td>41.81593313</td>\n            <td>-87.62464213</td>\n            <td>(41.815933131, -87.624642127)</td>\n        </tr>\n        <tr>\n            <td>7903289</td>\n            <td>HT133522</td>\n            <td>2010-12-30</td>\n            <td>083XX S KINGSTON AVE</td>\n            <td>840</td>\n            <td>THEFT</td>\n            <td>FINANCIAL ID THEFT: OVER $300</td>\n            <td>RESIDENCE</td>\n            <td>0</td>\n            <td>0</td>\n            <td>423</td>\n            <td>4</td>\n            <td>7.0</td>\n            <td>46.0</td>\n            <td>6</td>\n            <td>1194622.0</td>\n            <td>1850125.0</td>\n            <td>2010</td>\n            <td>41.74366532</td>\n            <td>-87.56246276</td>\n            <td>(41.743665322, -87.562462756)</td>\n        </tr>\n        <tr>\n            <td>10402076</td>\n            <td>HZ138551</td>\n            <td>2016-02-02</td>\n            <td>033XX W 66TH ST</td>\n            <td>820</td>\n            <td>THEFT</td>\n            <td>$500 AND UNDER</td>\n            <td>ALLEY</td>\n            <td>0</td>\n            <td>0</td>\n            <td>831</td>\n            <td>8</td>\n            <td>15.0</td>\n            <td>66.0</td>\n            <td>6</td>\n            <td>1155240.0</td>\n            <td>1860661.0</td>\n            <td>2016</td>\n            <td>41.7734553</td>\n            <td>-87.70648047</td>\n            <td>(41.773455295, -87.706480471)</td>\n        </tr>\n    </tbody>\n</table>"
     },
     "execution_count": 6,
     "metadata": {},
     "output_type": "execute_result"
    }
   ],
   "source": [
    "# test run SQL\n",
    "%sql select * from CHICAGO_CRIME_DATA limit 5;"
   ],
   "metadata": {
    "collapsed": false,
    "ExecuteTime": {
     "end_time": "2023-09-11T09:49:39.447824Z",
     "start_time": "2023-09-11T09:49:38.945083Z"
    }
   }
  },
  {
   "cell_type": "markdown",
   "metadata": {},
   "source": [
    "## Problems\n",
    "\n",
    "Now write and execute SQL queries to solve assignment problems\n",
    "\n",
    "### Problem 1\n",
    "\n",
    "##### Find the total number of crimes recorded in the CRIME table.\n"
   ]
  },
  {
   "cell_type": "code",
   "metadata": {
    "ExecuteTime": {
     "end_time": "2023-09-11T09:50:04.495517Z",
     "start_time": "2023-09-11T09:50:04.037128Z"
    }
   },
   "outputs": [
    {
     "data": {
      "text/plain": "Running query in 'sqlite:///assignment.db'",
      "text/html": "<span style=\"None\">Running query in &#x27;sqlite:///assignment.db&#x27;</span>"
     },
     "metadata": {},
     "output_type": "display_data"
    },
    {
     "data": {
      "text/plain": "+----------+\n| COUNT(*) |\n+----------+\n|   533    |\n+----------+",
      "text/html": "<table>\n    <thead>\n        <tr>\n            <th>COUNT(*)</th>\n        </tr>\n    </thead>\n    <tbody>\n        <tr>\n            <td>533</td>\n        </tr>\n    </tbody>\n</table>"
     },
     "execution_count": 7,
     "metadata": {},
     "output_type": "execute_result"
    }
   ],
   "source": [
    "%sql SELECT COUNT(*) FROM CHICAGO_CRIME_DATA;"
   ],
   "execution_count": 7
  },
  {
   "cell_type": "markdown",
   "metadata": {},
   "source": [
    "### Problem 2\n",
    "\n",
    "##### List community areas with per capita income less than 11000.\n"
   ]
  },
  {
   "cell_type": "code",
   "metadata": {
    "ExecuteTime": {
     "end_time": "2023-09-11T09:51:02.183609Z",
     "start_time": "2023-09-11T09:51:01.714422Z"
    }
   },
   "outputs": [
    {
     "data": {
      "text/plain": "Running query in 'sqlite:///assignment.db'",
      "text/html": "<span style=\"None\">Running query in &#x27;sqlite:///assignment.db&#x27;</span>"
     },
     "metadata": {},
     "output_type": "display_data"
    },
    {
     "data": {
      "text/plain": "+---------------------+\n| COMMUNITY_AREA_NAME |\n+---------------------+\n|  West Garfield Park |\n|    South Lawndale   |\n|     Fuller Park     |\n|      Riverdale      |\n+---------------------+",
      "text/html": "<table>\n    <thead>\n        <tr>\n            <th>COMMUNITY_AREA_NAME</th>\n        </tr>\n    </thead>\n    <tbody>\n        <tr>\n            <td>West Garfield Park</td>\n        </tr>\n        <tr>\n            <td>South Lawndale</td>\n        </tr>\n        <tr>\n            <td>Fuller Park</td>\n        </tr>\n        <tr>\n            <td>Riverdale</td>\n        </tr>\n    </tbody>\n</table>"
     },
     "execution_count": 8,
     "metadata": {},
     "output_type": "execute_result"
    }
   ],
   "source": [
    "%sql SELECT COMMUNITY_AREA_NAME FROM CENSUS_DATA WHERE PER_CAPITA_INCOME < 11000;"
   ],
   "execution_count": 8
  },
  {
   "cell_type": "markdown",
   "metadata": {},
   "source": [
    "### Problem 3\n",
    "\n",
    "##### List all case numbers for crimes  involving minors?(children are not considered minors for the purposes of crime analysis)\n"
   ]
  },
  {
   "cell_type": "code",
   "metadata": {
    "ExecuteTime": {
     "end_time": "2023-09-11T09:51:39.679681Z",
     "start_time": "2023-09-11T09:51:39.283068Z"
    }
   },
   "outputs": [
    {
     "data": {
      "text/plain": "Running query in 'sqlite:///assignment.db'",
      "text/html": "<span style=\"None\">Running query in &#x27;sqlite:///assignment.db&#x27;</span>"
     },
     "metadata": {},
     "output_type": "display_data"
    },
    {
     "data": {
      "text/plain": "+-------------+\n| CASE_NUMBER |\n+-------------+\n|   HL266884  |\n|   HK238408  |\n+-------------+",
      "text/html": "<table>\n    <thead>\n        <tr>\n            <th>CASE_NUMBER</th>\n        </tr>\n    </thead>\n    <tbody>\n        <tr>\n            <td>HL266884</td>\n        </tr>\n        <tr>\n            <td>HK238408</td>\n        </tr>\n    </tbody>\n</table>"
     },
     "execution_count": 9,
     "metadata": {},
     "output_type": "execute_result"
    }
   ],
   "source": [
    "%sql SELECT CASE_NUMBER FROM CHICAGO_CRIME_DATA WHERE DESCRIPTION LIKE '%MINOR%';"
   ],
   "execution_count": 9
  },
  {
   "cell_type": "markdown",
   "metadata": {},
   "source": [
    "### Problem 4\n",
    "\n",
    "##### List all kidnapping crimes involving a child?\n"
   ]
  },
  {
   "cell_type": "code",
   "metadata": {
    "ExecuteTime": {
     "end_time": "2023-09-11T09:52:01.510516Z",
     "start_time": "2023-09-11T09:52:01.078085Z"
    }
   },
   "outputs": [
    {
     "data": {
      "text/plain": "Running query in 'sqlite:///assignment.db'",
      "text/html": "<span style=\"None\">Running query in &#x27;sqlite:///assignment.db&#x27;</span>"
     },
     "metadata": {},
     "output_type": "display_data"
    },
    {
     "data": {
      "text/plain": "+---------+-------------+------------+----------------------+------+--------------+--------------------------+----------------------+--------+----------+------+----------+------+-----------------------+---------+--------------+--------------+------+-------------+--------------+-------------------------------+\n|    ID   | CASE_NUMBER |    DATE    |        BLOCK         | IUCR | PRIMARY_TYPE |       DESCRIPTION        | LOCATION_DESCRIPTION | ARREST | DOMESTIC | BEAT | DISTRICT | WARD | COMMUNITY_AREA_NUMBER | FBICODE | X_COORDINATE | Y_COORDINATE | YEAR |   LATITUDE  |  LONGITUDE   |            LOCATION           |\n+---------+-------------+------------+----------------------+------+--------------+--------------------------+----------------------+--------+----------+------+----------+------+-----------------------+---------+--------------+--------------+------+-------------+--------------+-------------------------------+\n| 5276766 |   HN144152  | 2007-01-26 | 050XX W VAN BUREN ST | 1792 |  KIDNAPPING  | CHILD ABDUCTION/STRANGER |        STREET        |   0    |    0     | 1533 |    15    | 29.0 |          25.0         |    20   |  1143050.0   |  1897546.0   | 2007 | 41.87490841 | -87.75024931 | (41.874908413, -87.750249307) |\n+---------+-------------+------------+----------------------+------+--------------+--------------------------+----------------------+--------+----------+------+----------+------+-----------------------+---------+--------------+--------------+------+-------------+--------------+-------------------------------+",
      "text/html": "<table>\n    <thead>\n        <tr>\n            <th>ID</th>\n            <th>CASE_NUMBER</th>\n            <th>DATE</th>\n            <th>BLOCK</th>\n            <th>IUCR</th>\n            <th>PRIMARY_TYPE</th>\n            <th>DESCRIPTION</th>\n            <th>LOCATION_DESCRIPTION</th>\n            <th>ARREST</th>\n            <th>DOMESTIC</th>\n            <th>BEAT</th>\n            <th>DISTRICT</th>\n            <th>WARD</th>\n            <th>COMMUNITY_AREA_NUMBER</th>\n            <th>FBICODE</th>\n            <th>X_COORDINATE</th>\n            <th>Y_COORDINATE</th>\n            <th>YEAR</th>\n            <th>LATITUDE</th>\n            <th>LONGITUDE</th>\n            <th>LOCATION</th>\n        </tr>\n    </thead>\n    <tbody>\n        <tr>\n            <td>5276766</td>\n            <td>HN144152</td>\n            <td>2007-01-26</td>\n            <td>050XX W VAN BUREN ST</td>\n            <td>1792</td>\n            <td>KIDNAPPING</td>\n            <td>CHILD ABDUCTION/STRANGER</td>\n            <td>STREET</td>\n            <td>0</td>\n            <td>0</td>\n            <td>1533</td>\n            <td>15</td>\n            <td>29.0</td>\n            <td>25.0</td>\n            <td>20</td>\n            <td>1143050.0</td>\n            <td>1897546.0</td>\n            <td>2007</td>\n            <td>41.87490841</td>\n            <td>-87.75024931</td>\n            <td>(41.874908413, -87.750249307)</td>\n        </tr>\n    </tbody>\n</table>"
     },
     "execution_count": 10,
     "metadata": {},
     "output_type": "execute_result"
    }
   ],
   "source": [
    "%sql SELECT * FROM CHICAGO_CRIME_DATA WHERE PRIMARY_TYPE LIKE '%KIDNAPPING%' AND DESCRIPTION LIKE '%CHILD%';"
   ],
   "execution_count": 10
  },
  {
   "cell_type": "markdown",
   "metadata": {},
   "source": [
    "### Problem 5\n",
    "\n",
    "##### What kinds of crimes were recorded at schools?\n"
   ]
  },
  {
   "cell_type": "code",
   "metadata": {
    "ExecuteTime": {
     "end_time": "2023-09-11T09:52:21.194076Z",
     "start_time": "2023-09-11T09:52:20.758367Z"
    }
   },
   "outputs": [
    {
     "data": {
      "text/plain": "Running query in 'sqlite:///assignment.db'",
      "text/html": "<span style=\"None\">Running query in &#x27;sqlite:///assignment.db&#x27;</span>"
     },
     "metadata": {},
     "output_type": "display_data"
    },
    {
     "data": {
      "text/plain": "+------------------------+\n|      PRIMARY_TYPE      |\n+------------------------+\n|        BATTERY         |\n|    CRIMINAL DAMAGE     |\n|       NARCOTICS        |\n|        ASSAULT         |\n|   CRIMINAL TRESPASS    |\n| PUBLIC PEACE VIOLATION |\n+------------------------+",
      "text/html": "<table>\n    <thead>\n        <tr>\n            <th>PRIMARY_TYPE</th>\n        </tr>\n    </thead>\n    <tbody>\n        <tr>\n            <td>BATTERY</td>\n        </tr>\n        <tr>\n            <td>CRIMINAL DAMAGE</td>\n        </tr>\n        <tr>\n            <td>NARCOTICS</td>\n        </tr>\n        <tr>\n            <td>ASSAULT</td>\n        </tr>\n        <tr>\n            <td>CRIMINAL TRESPASS</td>\n        </tr>\n        <tr>\n            <td>PUBLIC PEACE VIOLATION</td>\n        </tr>\n    </tbody>\n</table>"
     },
     "execution_count": 11,
     "metadata": {},
     "output_type": "execute_result"
    }
   ],
   "source": [
    "%sql SELECT DISTINCT PRIMARY_TYPE FROM CHICAGO_CRIME_DATA WHERE LOCATION_DESCRIPTION LIKE '%SCHOOL%';"
   ],
   "execution_count": 11
  },
  {
   "cell_type": "markdown",
   "metadata": {},
   "source": [
    "### Problem 6\n",
    "\n",
    "##### List the average safety score for each type of school.\n"
   ]
  },
  {
   "cell_type": "code",
   "metadata": {
    "ExecuteTime": {
     "end_time": "2023-09-11T09:52:42.135810Z",
     "start_time": "2023-09-11T09:52:41.573150Z"
    }
   },
   "outputs": [
    {
     "data": {
      "text/plain": "Running query in 'sqlite:///assignment.db'",
      "text/html": "<span style=\"None\">Running query in &#x27;sqlite:///assignment.db&#x27;</span>"
     },
     "metadata": {},
     "output_type": "display_data"
    },
    {
     "data": {
      "text/plain": "+------------------------------------+-------------------+\n| Elementary, Middle, or High School | AVG(SAFETY_SCORE) |\n+------------------------------------+-------------------+\n|                 ES                 | 49.52038369304557 |\n|                 HS                 | 49.62352941176471 |\n|                 MS                 |        48.0       |\n+------------------------------------+-------------------+",
      "text/html": "<table>\n    <thead>\n        <tr>\n            <th>Elementary, Middle, or High School</th>\n            <th>AVG(SAFETY_SCORE)</th>\n        </tr>\n    </thead>\n    <tbody>\n        <tr>\n            <td>ES</td>\n            <td>49.52038369304557</td>\n        </tr>\n        <tr>\n            <td>HS</td>\n            <td>49.62352941176471</td>\n        </tr>\n        <tr>\n            <td>MS</td>\n            <td>48.0</td>\n        </tr>\n    </tbody>\n</table>"
     },
     "execution_count": 12,
     "metadata": {},
     "output_type": "execute_result"
    }
   ],
   "source": [
    "%sql SELECT \"Elementary, Middle, or High School\", AVG(SAFETY_SCORE) FROM CHICAGO_PUBLIC_SCHOOLS_DATA GROUP BY \"Elementary, Middle, or High School\";"
   ],
   "execution_count": 12
  },
  {
   "cell_type": "markdown",
   "metadata": {},
   "source": [
    "### Problem 7\n",
    "\n",
    "##### List 5 community areas with highest % of households below poverty line\n"
   ]
  },
  {
   "cell_type": "code",
   "metadata": {
    "ExecuteTime": {
     "end_time": "2023-09-11T09:53:07.194071Z",
     "start_time": "2023-09-11T09:53:06.751114Z"
    }
   },
   "outputs": [
    {
     "data": {
      "text/plain": "Running query in 'sqlite:///assignment.db'",
      "text/html": "<span style=\"None\">Running query in &#x27;sqlite:///assignment.db&#x27;</span>"
     },
     "metadata": {},
     "output_type": "display_data"
    },
    {
     "data": {
      "text/plain": "+---------------------+----------------------------------+\n| COMMUNITY_AREA_NAME | PERCENT_HOUSEHOLDS_BELOW_POVERTY |\n+---------------------+----------------------------------+\n|      Riverdale      |               56.5               |\n|     Fuller Park     |               51.2               |\n|      Englewood      |               46.6               |\n|    North Lawndale   |               43.1               |\n|  East Garfield Park |               42.4               |\n+---------------------+----------------------------------+",
      "text/html": "<table>\n    <thead>\n        <tr>\n            <th>COMMUNITY_AREA_NAME</th>\n            <th>PERCENT_HOUSEHOLDS_BELOW_POVERTY</th>\n        </tr>\n    </thead>\n    <tbody>\n        <tr>\n            <td>Riverdale</td>\n            <td>56.5</td>\n        </tr>\n        <tr>\n            <td>Fuller Park</td>\n            <td>51.2</td>\n        </tr>\n        <tr>\n            <td>Englewood</td>\n            <td>46.6</td>\n        </tr>\n        <tr>\n            <td>North Lawndale</td>\n            <td>43.1</td>\n        </tr>\n        <tr>\n            <td>East Garfield Park</td>\n            <td>42.4</td>\n        </tr>\n    </tbody>\n</table>"
     },
     "execution_count": 13,
     "metadata": {},
     "output_type": "execute_result"
    }
   ],
   "source": [
    "%sql SELECT COMMUNITY_AREA_NAME, PERCENT_HOUSEHOLDS_BELOW_POVERTY FROM CENSUS_DATA ORDER BY PERCENT_HOUSEHOLDS_BELOW_POVERTY DESC LIMIT 5;"
   ],
   "execution_count": 13
  },
  {
   "cell_type": "markdown",
   "metadata": {},
   "source": [
    "### Problem 8\n",
    "\n",
    "##### Which community area is most crime prone?\n"
   ]
  },
  {
   "cell_type": "code",
   "metadata": {
    "ExecuteTime": {
     "end_time": "2023-09-11T09:53:27.049925Z",
     "start_time": "2023-09-11T09:53:26.625981Z"
    }
   },
   "outputs": [
    {
     "data": {
      "text/plain": "Running query in 'sqlite:///assignment.db'",
      "text/html": "<span style=\"None\">Running query in &#x27;sqlite:///assignment.db&#x27;</span>"
     },
     "metadata": {},
     "output_type": "display_data"
    },
    {
     "data": {
      "text/plain": "+-----------------------+\n| COMMUNITY_AREA_NUMBER |\n+-----------------------+\n|          25.0         |\n+-----------------------+",
      "text/html": "<table>\n    <thead>\n        <tr>\n            <th>COMMUNITY_AREA_NUMBER</th>\n        </tr>\n    </thead>\n    <tbody>\n        <tr>\n            <td>25.0</td>\n        </tr>\n    </tbody>\n</table>"
     },
     "execution_count": 14,
     "metadata": {},
     "output_type": "execute_result"
    }
   ],
   "source": [
    "%sql SELECT COMMUNITY_AREA_NUMBER FROM CHICAGO_CRIME_DATA GROUP BY COMMUNITY_AREA_NUMBER ORDER BY COUNT(*) DESC LIMIT 1;"
   ],
   "execution_count": 14
  },
  {
   "cell_type": "markdown",
   "metadata": {},
   "source": [
    "Double-click **here** for a hint\n",
    "\n",
    "<!--\n",
    "Query for the 'community area number' that is most crime prone.\n",
    "-->\n"
   ]
  },
  {
   "cell_type": "markdown",
   "metadata": {},
   "source": [
    "### Problem 9\n",
    "\n",
    "##### Use a sub-query to find the name of the community area with highest hardship index\n"
   ]
  },
  {
   "cell_type": "code",
   "metadata": {
    "ExecuteTime": {
     "end_time": "2023-09-11T09:53:46.599143Z",
     "start_time": "2023-09-11T09:53:46.155114Z"
    }
   },
   "outputs": [
    {
     "data": {
      "text/plain": "Running query in 'sqlite:///assignment.db'",
      "text/html": "<span style=\"None\">Running query in &#x27;sqlite:///assignment.db&#x27;</span>"
     },
     "metadata": {},
     "output_type": "display_data"
    },
    {
     "data": {
      "text/plain": "+---------------------+\n| COMMUNITY_AREA_NAME |\n+---------------------+\n|      Riverdale      |\n+---------------------+",
      "text/html": "<table>\n    <thead>\n        <tr>\n            <th>COMMUNITY_AREA_NAME</th>\n        </tr>\n    </thead>\n    <tbody>\n        <tr>\n            <td>Riverdale</td>\n        </tr>\n    </tbody>\n</table>"
     },
     "execution_count": 15,
     "metadata": {},
     "output_type": "execute_result"
    }
   ],
   "source": [
    "%sql SELECT COMMUNITY_AREA_NAME FROM CENSUS_DATA WHERE HARDSHIP_INDEX = (SELECT MAX(HARDSHIP_INDEX) FROM CENSUS_DATA);"
   ],
   "execution_count": 15
  },
  {
   "cell_type": "markdown",
   "metadata": {},
   "source": [
    "### Problem 10\n",
    "\n",
    "##### Use a sub-query to determine the Community Area Name with most number of crimes?\n"
   ]
  },
  {
   "cell_type": "code",
   "metadata": {
    "ExecuteTime": {
     "end_time": "2023-09-11T09:54:22.309027Z",
     "start_time": "2023-09-11T09:54:21.881127Z"
    }
   },
   "outputs": [
    {
     "data": {
      "text/plain": "Running query in 'sqlite:///assignment.db'",
      "text/html": "<span style=\"None\">Running query in &#x27;sqlite:///assignment.db&#x27;</span>"
     },
     "metadata": {},
     "output_type": "display_data"
    },
    {
     "data": {
      "text/plain": "+---------------------+\n| COMMUNITY_AREA_NAME |\n+---------------------+\n|        Austin       |\n+---------------------+",
      "text/html": "<table>\n    <thead>\n        <tr>\n            <th>COMMUNITY_AREA_NAME</th>\n        </tr>\n    </thead>\n    <tbody>\n        <tr>\n            <td>Austin</td>\n        </tr>\n    </tbody>\n</table>"
     },
     "execution_count": 16,
     "metadata": {},
     "output_type": "execute_result"
    }
   ],
   "source": [
    "%sql SELECT COMMUNITY_AREA_NAME \\\n",
    "FROM CENSUS_DATA \\\n",
    "WHERE COMMUNITY_AREA_NUMBER = (SELECT COMMUNITY_AREA_NUMBER FROM CHICAGO_CRIME_DATA GROUP BY COMMUNITY_AREA_NUMBER ORDER BY COUNT(*) DESC LIMIT 1);"
   ],
   "execution_count": 16
  },
  {
   "cell_type": "markdown",
   "metadata": {},
   "source": [
    "Copyright © 2020 This notebook and its source code are released under the terms of the [MIT License](https://bigdatauniversity.com/mit-license?utm_medium=Exinfluencer&utm_source=Exinfluencer&utm_content=000026UJ&utm_term=10006555&utm_id=NA-SkillsNetwork-Channel-SkillsNetworkCoursesIBMDeveloperSkillsNetworkDB0201ENSkillsNetwork20127838-2021-01-01&cm_mmc=Email_Newsletter-_-Developer_Ed%2BTech-_-WW_WW-_-SkillsNetwork-Courses-IBMDeveloperSkillsNetwork-DB0201EN-SkillsNetwork-20127838&cm_mmca1=000026UJ&cm_mmca2=10006555&cm_mmca3=M12345678&cvosrc=email.Newsletter.M12345678&cvo_campaign=000026UJ).\n"
   ]
  },
  {
   "cell_type": "markdown",
   "metadata": {},
   "source": [
    "## Author(s)\n",
    "\n",
    "<h4> Hima Vasudevan </h4>\n",
    "<h4> Rav Ahuja </h4>\n",
    "<h4> Ramesh Sannreddy </h4>\n",
    "\n",
    "## Contribtuor(s)\n",
    "\n",
    "<h4> Malika Singla </h4>\n",
    "\n",
    "## Change log\n",
    "\n",
    "| Date       | Version | Changed by        | Change Description                             |\n",
    "| ---------- | ------- | ----------------- | ---------------------------------------------- |\n",
    "| 2022-03-04 | 2.5     | Lakshmi Holla     | Changed markdown.                   |\n",
    "| 2021-05-19 | 2.4     | Lakshmi Holla     | Updated the question                           |\n",
    "| 2021-04-30 | 2.3     | Malika Singla     | Updated the libraries                          |\n",
    "| 2021-01-15 | 2.2     | Rav Ahuja         | Removed problem 11 and fixed changelog         |\n",
    "| 2020-11-25 | 2.1     | Ramesh Sannareddy | Updated the problem statements, and datasets   |\n",
    "| 2020-09-05 | 2.0     | Malika Singla     | Moved lab to course repo in GitLab             |\n",
    "| 2018-07-18 | 1.0     | Rav Ahuja         | Several updates including loading instructions |\n",
    "| 2018-05-04 | 0.1     | Hima Vasudevan    | Created initial version                        |\n",
    "\n",
    "## <h3 align=\"center\"> © IBM Corporation 2020. All rights reserved. <h3/>\n"
   ]
  }
 ],
 "metadata": {
  "kernelspec": {
   "name": "python3",
   "language": "python",
   "display_name": "Python 3 (ipykernel)"
  },
  "language_info": {
   "name": ""
  }
 },
 "nbformat": 4,
 "nbformat_minor": 4
}
