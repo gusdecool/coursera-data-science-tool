{
 "cells": [
  {
   "cell_type": "code",
   "execution_count": 1,
   "id": "initial_id",
   "metadata": {
    "collapsed": true,
    "ExecuteTime": {
     "end_time": "2023-08-25T08:53:19.837455Z",
     "start_time": "2023-08-25T08:53:17.760340Z"
    }
   },
   "outputs": [],
   "source": [
    "import numpy as np"
   ]
  },
  {
   "cell_type": "code",
   "execution_count": 2,
   "outputs": [
    {
     "data": {
      "text/plain": "0"
     },
     "execution_count": 2,
     "metadata": {},
     "output_type": "execute_result"
    }
   ],
   "source": [
    "a = np.array([0, 1])\n",
    "b = np.array([1, 0])\n",
    "np.dot(a, b)"
   ],
   "metadata": {
    "collapsed": false,
    "ExecuteTime": {
     "end_time": "2023-08-25T08:53:19.852861Z",
     "start_time": "2023-08-25T08:53:19.844996Z"
    }
   },
   "id": "ae1aa5e510ab4207"
  },
  {
   "cell_type": "code",
   "execution_count": 1,
   "outputs": [],
   "source": [
    "a = \"01234567\""
   ],
   "metadata": {
    "collapsed": false,
    "ExecuteTime": {
     "end_time": "2023-08-29T12:50:52.602060Z",
     "start_time": "2023-08-29T12:50:52.594718Z"
    }
   },
   "id": "cb4e2543277e4941"
  },
  {
   "cell_type": "code",
   "execution_count": 3,
   "outputs": [
    {
     "data": {
      "text/plain": "'0246'"
     },
     "execution_count": 3,
     "metadata": {},
     "output_type": "execute_result"
    }
   ],
   "source": [
    "a[::2]"
   ],
   "metadata": {
    "collapsed": false,
    "ExecuteTime": {
     "end_time": "2023-08-29T12:50:57.308991Z",
     "start_time": "2023-08-29T12:50:57.295141Z"
    }
   },
   "id": "e3ba90e8e21dbab2"
  },
  {
   "cell_type": "code",
   "execution_count": 4,
   "outputs": [],
   "source": [
    "name = \"Emily\""
   ],
   "metadata": {
    "collapsed": false,
    "ExecuteTime": {
     "end_time": "2023-08-29T12:51:22.803745Z",
     "start_time": "2023-08-29T12:51:22.776923Z"
    }
   },
   "id": "cc37b011e67de2b7"
  },
  {
   "cell_type": "code",
   "execution_count": 5,
   "outputs": [
    {
     "data": {
      "text/plain": "0"
     },
     "execution_count": 5,
     "metadata": {},
     "output_type": "execute_result"
    }
   ],
   "source": [
    "name.find(\"E\")"
   ],
   "metadata": {
    "collapsed": false,
    "ExecuteTime": {
     "end_time": "2023-08-29T12:51:30.327617Z",
     "start_time": "2023-08-29T12:51:30.306944Z"
    }
   },
   "id": "1fee6d124409fd61"
  },
  {
   "cell_type": "code",
   "execution_count": 6,
   "outputs": [],
   "source": [
    "a = '1:2,3:4'"
   ],
   "metadata": {
    "collapsed": false,
    "ExecuteTime": {
     "end_time": "2023-08-29T12:52:30.038423Z",
     "start_time": "2023-08-29T12:52:30.014412Z"
    }
   },
   "id": "d1ca475f8b4985dd"
  },
  {
   "cell_type": "code",
   "execution_count": 7,
   "outputs": [
    {
     "data": {
      "text/plain": "['1', '2,3', '4']"
     },
     "execution_count": 7,
     "metadata": {},
     "output_type": "execute_result"
    }
   ],
   "source": [
    "a.split(':')"
   ],
   "metadata": {
    "collapsed": false,
    "ExecuteTime": {
     "end_time": "2023-08-29T12:52:33.256959Z",
     "start_time": "2023-08-29T12:52:33.240955Z"
    }
   },
   "id": "e11547eecfbc1310"
  },
  {
   "cell_type": "code",
   "execution_count": 8,
   "outputs": [
    {
     "name": "stdout",
     "output_type": "stream",
     "text": [
      "1\n",
      "3\n",
      "4\n"
     ]
    }
   ],
   "source": [
    "for i in range(1,5):\n",
    "    if i != 2:\n",
    "        print(i)"
   ],
   "metadata": {
    "collapsed": false,
    "ExecuteTime": {
     "end_time": "2023-08-29T12:56:12.244935Z",
     "start_time": "2023-08-29T12:56:12.232834Z"
    }
   },
   "id": "40654cfff746b321"
  },
  {
   "cell_type": "code",
   "execution_count": 10,
   "outputs": [
    {
     "name": "stdout",
     "output_type": "stream",
     "text": [
      "1\n",
      "2\n",
      "3\n",
      "4\n"
     ]
    }
   ],
   "source": [
    "for i in range(1,5):\n",
    "    print(i)"
   ],
   "metadata": {
    "collapsed": false,
    "ExecuteTime": {
     "end_time": "2023-08-29T12:56:54.411025Z",
     "start_time": "2023-08-29T12:56:54.393645Z"
    }
   },
   "id": "36e7d508f52b179e"
  },
  {
   "cell_type": "code",
   "execution_count": 12,
   "outputs": [],
   "source": [
    "import numpy as np\n",
    "a = np.array([0,1,0,1,0])\n",
    "b = np.array([1,0,1,0,1])"
   ],
   "metadata": {
    "collapsed": false,
    "ExecuteTime": {
     "end_time": "2023-08-29T12:58:17.428139Z",
     "start_time": "2023-08-29T12:58:15.899524Z"
    }
   },
   "id": "3270ad897198b96b"
  },
  {
   "cell_type": "code",
   "execution_count": 13,
   "outputs": [
    {
     "name": "stderr",
     "output_type": "stream",
     "text": [
      "/var/folders/bm/cj5jz6q14kg5wgk9hyqnlzyh0000gn/T/ipykernel_41844/3318604225.py:1: RuntimeWarning: divide by zero encountered in divide\n",
      "  a/b\n"
     ]
    },
    {
     "data": {
      "text/plain": "array([ 0., inf,  0., inf,  0.])"
     },
     "execution_count": 13,
     "metadata": {},
     "output_type": "execute_result"
    }
   ],
   "source": [
    "a/b"
   ],
   "metadata": {
    "collapsed": false,
    "ExecuteTime": {
     "end_time": "2023-08-29T12:58:22.543021Z",
     "start_time": "2023-08-29T12:58:22.519273Z"
    }
   },
   "id": "b442e553af16fd3"
  },
  {
   "cell_type": "code",
   "execution_count": 14,
   "outputs": [
    {
     "data": {
      "text/plain": "array([11, 11, 11, 11, 11])"
     },
     "execution_count": 14,
     "metadata": {},
     "output_type": "execute_result"
    }
   ],
   "source": [
    "a = np.array([1,1,1,1,1])\n",
    "a + 10"
   ],
   "metadata": {
    "collapsed": false,
    "ExecuteTime": {
     "end_time": "2023-08-29T12:58:47.615796Z",
     "start_time": "2023-08-29T12:58:47.595406Z"
    }
   },
   "id": "9dbd84229dd20277"
  },
  {
   "cell_type": "code",
   "execution_count": null,
   "outputs": [],
   "source": [],
   "metadata": {
    "collapsed": false
   },
   "id": "a49faefc621d4555"
  }
 ],
 "metadata": {
  "kernelspec": {
   "display_name": "Python 3",
   "language": "python",
   "name": "python3"
  },
  "language_info": {
   "codemirror_mode": {
    "name": "ipython",
    "version": 2
   },
   "file_extension": ".py",
   "mimetype": "text/x-python",
   "name": "python",
   "nbconvert_exporter": "python",
   "pygments_lexer": "ipython2",
   "version": "2.7.6"
  }
 },
 "nbformat": 4,
 "nbformat_minor": 5
}
