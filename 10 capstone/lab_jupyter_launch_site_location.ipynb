{
 "cells": [
  {
   "cell_type": "markdown",
   "metadata": {
    "id": "3n3ltmfnrqpi",
    "outputId": "a2d4f52a-2fb7-4668-f5f0-fe862aab8eb0",
    "papermill": {
     "duration": 1.489571,
     "end_time": "2020-09-19T06:26:57.168979",
     "exception": false,
     "start_time": "2020-09-19T06:26:55.679408",
     "status": "completed"
    },
    "tags": []
   },
   "source": [
    "<p style=\"text-align:center\">\n",
    "    <a href=\"https://skills.network/?utm_medium=Exinfluencer&utm_source=Exinfluencer&utm_content=000026UJ&utm_term=10006555&utm_id=NA-SkillsNetwork-Channel-SkillsNetworkCoursesIBMDS0321ENSkillsNetwork865-2023-01-01\">\n",
    "    <img src=\"https://cf-courses-data.s3.us.cloud-object-storage.appdomain.cloud/assets/logos/SN_web_lightmode.png\" width=\"200\" alt=\"Skills Network Logo\"  />\n",
    "    </a>\n",
    "</p>\n"
   ]
  },
  {
   "cell_type": "markdown",
   "metadata": {},
   "source": [
    "# **Launch Sites Locations Analysis with Folium**\n"
   ]
  },
  {
   "cell_type": "markdown",
   "metadata": {},
   "source": [
    "Estimated time needed: **40** minutes\n"
   ]
  },
  {
   "cell_type": "markdown",
   "metadata": {},
   "source": [
    "The launch success rate may depend on many factors such as payload mass, orbit type, and so on. It may also depend on the location and proximities of a launch site, i.e., the initial position of rocket trajectories. Finding an optimal location for building a launch site certainly involves many factors and hopefully we could discover some of the factors by analyzing the existing launch site locations.\n"
   ]
  },
  {
   "cell_type": "markdown",
   "metadata": {},
   "source": [
    "In the previous exploratory data analysis labs, you have visualized the SpaceX launch dataset using `matplotlib` and `seaborn` and discovered some preliminary correlations between the launch site and success rates. In this lab, you will be performing more interactive visual analytics using `Folium`.\n"
   ]
  },
  {
   "cell_type": "markdown",
   "metadata": {},
   "source": [
    "## Objectives\n"
   ]
  },
  {
   "cell_type": "markdown",
   "metadata": {},
   "source": [
    "This lab contains the following tasks:\n",
    "- **TASK 1:** Mark all launch sites on a map\n",
    "- **TASK 2:** Mark the success/failed launches for each site on the map\n",
    "- **TASK 3:** Calculate the distances between a launch site to its proximities\n",
    "\n",
    "After completed the above tasks, you should be able to find some geographical patterns about launch sites.\n"
   ]
  },
  {
   "cell_type": "markdown",
   "metadata": {},
   "source": [
    "Let's first import required Python packages for this lab:\n"
   ]
  },
  {
   "cell_type": "code",
   "execution_count": null,
   "metadata": {},
   "outputs": [],
   "source": [
    "# !pip3 install folium\n",
    "# !pip3 install wget"
   ]
  },
  {
   "cell_type": "code",
   "execution_count": 2,
   "metadata": {
    "ExecuteTime": {
     "end_time": "2023-11-09T11:25:43.679804Z",
     "start_time": "2023-11-09T11:25:43.668634Z"
    }
   },
   "outputs": [],
   "source": [
    "import folium\n",
    "import wget\n",
    "import pandas as pd"
   ]
  },
  {
   "cell_type": "code",
   "execution_count": 3,
   "metadata": {
    "ExecuteTime": {
     "end_time": "2023-11-09T11:25:45.900680Z",
     "start_time": "2023-11-09T11:25:45.650668Z"
    }
   },
   "outputs": [],
   "source": [
    "# Import folium MarkerCluster plugin\n",
    "from folium.plugins import MarkerCluster\n",
    "# Import folium MousePosition plugin\n",
    "from folium.plugins import MousePosition\n",
    "# Import folium DivIcon plugin\n",
    "from folium.features import DivIcon"
   ]
  },
  {
   "cell_type": "markdown",
   "metadata": {},
   "source": [
    "If you need to refresh your memory about folium, you may download and refer to this previous folium lab:\n"
   ]
  },
  {
   "cell_type": "markdown",
   "metadata": {},
   "source": [
    "[Generating Maps with Python](https://cf-courses-data.s3.us.cloud-object-storage.appdomain.cloud/IBM-DS0321EN-SkillsNetwork/labs/module_3/DV0101EN-3-5-1-Generating-Maps-in-Python-py-v2.0.ipynb)\n"
   ]
  },
  {
   "cell_type": "markdown",
   "metadata": {},
   "source": [
    "## Task 1: Mark all launch sites on a map\n"
   ]
  },
  {
   "cell_type": "markdown",
   "metadata": {},
   "source": [
    "First, let's try to add each site's location on a map using site's latitude and longitude coordinates\n"
   ]
  },
  {
   "cell_type": "markdown",
   "metadata": {},
   "source": [
    "The following dataset with the name `spacex_launch_geo.csv` is an augmented dataset with latitude and longitude added for each site. \n"
   ]
  },
  {
   "cell_type": "code",
   "execution_count": 4,
   "metadata": {
    "ExecuteTime": {
     "end_time": "2023-11-09T11:26:03.188924Z",
     "start_time": "2023-11-09T11:26:01.663938Z"
    }
   },
   "outputs": [],
   "source": [
    "# Download and read the `spacex_launch_geo.csv`\n",
    "spacex_csv_file = wget.download('https://cf-courses-data.s3.us.cloud-object-storage.appdomain.cloud/IBM-DS0321EN-SkillsNetwork/datasets/spacex_launch_geo.csv')\n",
    "spacex_df=pd.read_csv(spacex_csv_file)"
   ]
  },
  {
   "cell_type": "markdown",
   "metadata": {},
   "source": [
    "Now, you can take a look at what are the coordinates for each site.\n"
   ]
  },
  {
   "cell_type": "code",
   "execution_count": 5,
   "metadata": {
    "ExecuteTime": {
     "end_time": "2023-11-09T11:26:07.287313Z",
     "start_time": "2023-11-09T11:26:07.190445Z"
    }
   },
   "outputs": [
    {
     "data": {
      "text/plain": "    Launch Site        Lat        Long\n0   CCAFS LC-40  28.562302  -80.577356\n1  CCAFS SLC-40  28.563197  -80.576820\n2    KSC LC-39A  28.573255  -80.646895\n3   VAFB SLC-4E  34.632834 -120.610745",
      "text/html": "<div>\n<style scoped>\n    .dataframe tbody tr th:only-of-type {\n        vertical-align: middle;\n    }\n\n    .dataframe tbody tr th {\n        vertical-align: top;\n    }\n\n    .dataframe thead th {\n        text-align: right;\n    }\n</style>\n<table border=\"1\" class=\"dataframe\">\n  <thead>\n    <tr style=\"text-align: right;\">\n      <th></th>\n      <th>Launch Site</th>\n      <th>Lat</th>\n      <th>Long</th>\n    </tr>\n  </thead>\n  <tbody>\n    <tr>\n      <th>0</th>\n      <td>CCAFS LC-40</td>\n      <td>28.562302</td>\n      <td>-80.577356</td>\n    </tr>\n    <tr>\n      <th>1</th>\n      <td>CCAFS SLC-40</td>\n      <td>28.563197</td>\n      <td>-80.576820</td>\n    </tr>\n    <tr>\n      <th>2</th>\n      <td>KSC LC-39A</td>\n      <td>28.573255</td>\n      <td>-80.646895</td>\n    </tr>\n    <tr>\n      <th>3</th>\n      <td>VAFB SLC-4E</td>\n      <td>34.632834</td>\n      <td>-120.610745</td>\n    </tr>\n  </tbody>\n</table>\n</div>"
     },
     "execution_count": 5,
     "metadata": {},
     "output_type": "execute_result"
    }
   ],
   "source": [
    "# Select relevant sub-columns: `Launch Site`, `Lat(Latitude)`, `Long(Longitude)`, `class`\n",
    "spacex_df = spacex_df[['Launch Site', 'Lat', 'Long', 'class']]\n",
    "launch_sites_df = spacex_df.groupby(['Launch Site'], as_index=False).first()\n",
    "launch_sites_df = launch_sites_df[['Launch Site', 'Lat', 'Long']]\n",
    "launch_sites_df"
   ]
  },
  {
   "cell_type": "markdown",
   "metadata": {},
   "source": [
    "Above coordinates are just plain numbers that can not give you any intuitive insights about where are those launch sites. If you are very good at geography, you can interpret those numbers directly in your mind. If not, that's fine too. Let's visualize those locations by pinning them on a map.\n"
   ]
  },
  {
   "cell_type": "markdown",
   "metadata": {},
   "source": [
    "We first need to create a folium `Map` object, with an initial center location to be NASA Johnson Space Center at Houston, Texas.\n"
   ]
  },
  {
   "cell_type": "code",
   "execution_count": 17,
   "metadata": {
    "ExecuteTime": {
     "end_time": "2023-11-09T11:33:32.084285Z",
     "start_time": "2023-11-09T11:33:32.062380Z"
    }
   },
   "outputs": [],
   "source": [
    "# Start location is NASA Johnson Space Center\n",
    "nasa_coordinate = [29.559684888503615, -95.0830971930759]\n",
    "site_map = folium.Map(location=nasa_coordinate, zoom_start=10)"
   ]
  },
  {
   "cell_type": "markdown",
   "metadata": {},
   "source": [
    "We could use `folium.Circle` to add a highlighted circle area with a text label on a specific coordinate. For example, \n"
   ]
  },
  {
   "cell_type": "code",
   "execution_count": 19,
   "metadata": {
    "ExecuteTime": {
     "end_time": "2023-11-09T11:33:44.050908Z",
     "start_time": "2023-11-09T11:33:44.012888Z"
    }
   },
   "outputs": [
    {
     "data": {
      "text/plain": "<folium.folium.Map at 0x11d06da10>",
      "text/html": "<div style=\"width:100%;\"><div style=\"position:relative;width:100%;height:0;padding-bottom:60%;\"><span style=\"color:#565656\">Make this Notebook Trusted to load map: File -> Trust Notebook</span><iframe srcdoc=\"&lt;!DOCTYPE html&gt;\n&lt;html&gt;\n&lt;head&gt;\n    \n    &lt;meta http-equiv=&quot;content-type&quot; content=&quot;text/html; charset=UTF-8&quot; /&gt;\n    \n        &lt;script&gt;\n            L_NO_TOUCH = false;\n            L_DISABLE_3D = false;\n        &lt;/script&gt;\n    \n    &lt;style&gt;html, body {width: 100%;height: 100%;margin: 0;padding: 0;}&lt;/style&gt;\n    &lt;style&gt;#map {position:absolute;top:0;bottom:0;right:0;left:0;}&lt;/style&gt;\n    &lt;script src=&quot;https://cdn.jsdelivr.net/npm/leaflet@1.9.3/dist/leaflet.js&quot;&gt;&lt;/script&gt;\n    &lt;script src=&quot;https://code.jquery.com/jquery-1.12.4.min.js&quot;&gt;&lt;/script&gt;\n    &lt;script src=&quot;https://cdn.jsdelivr.net/npm/bootstrap@5.2.2/dist/js/bootstrap.bundle.min.js&quot;&gt;&lt;/script&gt;\n    &lt;script src=&quot;https://cdnjs.cloudflare.com/ajax/libs/Leaflet.awesome-markers/2.0.2/leaflet.awesome-markers.js&quot;&gt;&lt;/script&gt;\n    &lt;link rel=&quot;stylesheet&quot; href=&quot;https://cdn.jsdelivr.net/npm/leaflet@1.9.3/dist/leaflet.css&quot;/&gt;\n    &lt;link rel=&quot;stylesheet&quot; href=&quot;https://cdn.jsdelivr.net/npm/bootstrap@5.2.2/dist/css/bootstrap.min.css&quot;/&gt;\n    &lt;link rel=&quot;stylesheet&quot; href=&quot;https://netdna.bootstrapcdn.com/bootstrap/3.0.0/css/bootstrap.min.css&quot;/&gt;\n    &lt;link rel=&quot;stylesheet&quot; href=&quot;https://cdn.jsdelivr.net/npm/@fortawesome/fontawesome-free@6.2.0/css/all.min.css&quot;/&gt;\n    &lt;link rel=&quot;stylesheet&quot; href=&quot;https://cdnjs.cloudflare.com/ajax/libs/Leaflet.awesome-markers/2.0.2/leaflet.awesome-markers.css&quot;/&gt;\n    &lt;link rel=&quot;stylesheet&quot; href=&quot;https://cdn.jsdelivr.net/gh/python-visualization/folium/folium/templates/leaflet.awesome.rotate.min.css&quot;/&gt;\n    \n            &lt;meta name=&quot;viewport&quot; content=&quot;width=device-width,\n                initial-scale=1.0, maximum-scale=1.0, user-scalable=no&quot; /&gt;\n            &lt;style&gt;\n                #map_27aea164d8105c885d4d327cad5bd4b8 {\n                    position: relative;\n                    width: 100.0%;\n                    height: 100.0%;\n                    left: 0.0%;\n                    top: 0.0%;\n                }\n                .leaflet-container { font-size: 1rem; }\n            &lt;/style&gt;\n        \n&lt;/head&gt;\n&lt;body&gt;\n    \n    \n            &lt;div class=&quot;folium-map&quot; id=&quot;map_27aea164d8105c885d4d327cad5bd4b8&quot; &gt;&lt;/div&gt;\n        \n&lt;/body&gt;\n&lt;script&gt;\n    \n    \n            var map_27aea164d8105c885d4d327cad5bd4b8 = L.map(\n                &quot;map_27aea164d8105c885d4d327cad5bd4b8&quot;,\n                {\n                    center: [29.559684888503615, -95.0830971930759],\n                    crs: L.CRS.EPSG3857,\n                    zoom: 10,\n                    zoomControl: true,\n                    preferCanvas: false,\n                }\n            );\n\n            \n\n        \n    \n            var tile_layer_9c3d0b633c97793f709a37b03ef7fc9d = L.tileLayer(\n                &quot;https://{s}.tile.openstreetmap.org/{z}/{x}/{y}.png&quot;,\n                {&quot;attribution&quot;: &quot;Data by \\u0026copy; \\u003ca target=\\&quot;_blank\\&quot; href=\\&quot;http://openstreetmap.org\\&quot;\\u003eOpenStreetMap\\u003c/a\\u003e, under \\u003ca target=\\&quot;_blank\\&quot; href=\\&quot;http://www.openstreetmap.org/copyright\\&quot;\\u003eODbL\\u003c/a\\u003e.&quot;, &quot;detectRetina&quot;: false, &quot;maxNativeZoom&quot;: 18, &quot;maxZoom&quot;: 18, &quot;minZoom&quot;: 0, &quot;noWrap&quot;: false, &quot;opacity&quot;: 1, &quot;subdomains&quot;: &quot;abc&quot;, &quot;tms&quot;: false}\n            ).addTo(map_27aea164d8105c885d4d327cad5bd4b8);\n        \n    \n            var circle_cc5a574f18fb421c5617945d3b600b39 = L.circle(\n                [29.559684888503615, -95.0830971930759],\n                {&quot;bubblingMouseEvents&quot;: true, &quot;color&quot;: &quot;#d35400&quot;, &quot;dashArray&quot;: null, &quot;dashOffset&quot;: null, &quot;fill&quot;: true, &quot;fillColor&quot;: &quot;#d35400&quot;, &quot;fillOpacity&quot;: 0.2, &quot;fillRule&quot;: &quot;evenodd&quot;, &quot;lineCap&quot;: &quot;round&quot;, &quot;lineJoin&quot;: &quot;round&quot;, &quot;opacity&quot;: 1.0, &quot;radius&quot;: 1000, &quot;stroke&quot;: true, &quot;weight&quot;: 3}\n            ).addTo(map_27aea164d8105c885d4d327cad5bd4b8);\n        \n    \n        var popup_5be0372d3f8c4766869aa57ca916018e = L.popup({&quot;maxWidth&quot;: &quot;100%&quot;});\n\n        \n            \n                var html_6a87f971080174ea303ec580950e7cee = $(`&lt;div id=&quot;html_6a87f971080174ea303ec580950e7cee&quot; style=&quot;width: 100.0%; height: 100.0%;&quot;&gt;NASA Johnson Space Center&lt;/div&gt;`)[0];\n                popup_5be0372d3f8c4766869aa57ca916018e.setContent(html_6a87f971080174ea303ec580950e7cee);\n            \n        \n\n        circle_cc5a574f18fb421c5617945d3b600b39.bindPopup(popup_5be0372d3f8c4766869aa57ca916018e)\n        ;\n\n        \n    \n&lt;/script&gt;\n&lt;/html&gt;\" style=\"position:absolute;width:100%;height:100%;left:0;top:0;border:none !important;\" allowfullscreen webkitallowfullscreen mozallowfullscreen></iframe></div></div>"
     },
     "execution_count": 19,
     "metadata": {},
     "output_type": "execute_result"
    }
   ],
   "source": [
    "# Create a blue circle at NASA Johnson Space Center's coordinate with a popup label showing its name\n",
    "circle = (folium.Circle(nasa_coordinate, radius=1000, color='#d35400', fill=True)\n",
    "          .add_child(folium.Popup('NASA Johnson Space Center')))\n",
    "site_map.add_child(circle)\n",
    "\n",
    "site_map.add\n",
    "\n",
    "# Create a blue circle at NASA Johnson Space Center's coordinate with an icon showing its name\n",
    "# marker = folium.map.Marker(\n",
    "#     nasa_coordinate,\n",
    "#     # Create an icon as a text label\n",
    "#     icon=DivIcon(\n",
    "#         icon_size=(20,20),\n",
    "#         icon_anchor=(0,0),\n",
    "#         html='<div style=\"font-size: 12; color:#d35400;\"><b>%s</b></div>' % 'NASA JSC',\n",
    "#         )\n",
    "#     )\n",
    "# \n",
    "# site_map.add_child(marker)"
   ]
  },
  {
   "cell_type": "markdown",
   "metadata": {},
   "source": [
    "and you should find a small yellow circle near the city of Houston and you can zoom-in to see a larger circle. \n"
   ]
  },
  {
   "cell_type": "markdown",
   "metadata": {},
   "source": [
    "Now, let's add a circle for each launch site in data frame `launch_sites`\n"
   ]
  },
  {
   "cell_type": "markdown",
   "metadata": {},
   "source": [
    "_TODO:_  Create and add `folium.Circle` and `folium.Marker` for each launch site on the site map\n"
   ]
  },
  {
   "cell_type": "markdown",
   "metadata": {},
   "source": [
    "An example of folium.Circle:\n"
   ]
  },
  {
   "cell_type": "markdown",
   "metadata": {},
   "source": [
    "`folium.Circle(coordinate, radius=1000, color='#000000', fill=True).add_child(folium.Popup(...))`\n"
   ]
  },
  {
   "cell_type": "markdown",
   "metadata": {},
   "source": [
    "An example of folium.Marker:\n"
   ]
  },
  {
   "cell_type": "markdown",
   "metadata": {},
   "source": [
    "`folium.map.Marker(coordinate, icon=DivIcon(icon_size=(20,20),icon_anchor=(0,0), html='<div style=\"font-size: 12; color:#d35400;\"><b>%s</b></div>' % 'label', ))`\n"
   ]
  },
  {
   "cell_type": "code",
   "execution_count": 40,
   "metadata": {
    "ExecuteTime": {
     "end_time": "2023-11-09T11:43:06.545780Z",
     "start_time": "2023-11-09T11:43:06.515095Z"
    }
   },
   "outputs": [
    {
     "data": {
      "text/plain": "<folium.folium.Map at 0x11d15f110>",
      "text/html": "<div style=\"width:100%;\"><div style=\"position:relative;width:100%;height:0;padding-bottom:60%;\"><span style=\"color:#565656\">Make this Notebook Trusted to load map: File -> Trust Notebook</span><iframe srcdoc=\"&lt;!DOCTYPE html&gt;\n&lt;html&gt;\n&lt;head&gt;\n    \n    &lt;meta http-equiv=&quot;content-type&quot; content=&quot;text/html; charset=UTF-8&quot; /&gt;\n    \n        &lt;script&gt;\n            L_NO_TOUCH = false;\n            L_DISABLE_3D = false;\n        &lt;/script&gt;\n    \n    &lt;style&gt;html, body {width: 100%;height: 100%;margin: 0;padding: 0;}&lt;/style&gt;\n    &lt;style&gt;#map {position:absolute;top:0;bottom:0;right:0;left:0;}&lt;/style&gt;\n    &lt;script src=&quot;https://cdn.jsdelivr.net/npm/leaflet@1.9.3/dist/leaflet.js&quot;&gt;&lt;/script&gt;\n    &lt;script src=&quot;https://code.jquery.com/jquery-1.12.4.min.js&quot;&gt;&lt;/script&gt;\n    &lt;script src=&quot;https://cdn.jsdelivr.net/npm/bootstrap@5.2.2/dist/js/bootstrap.bundle.min.js&quot;&gt;&lt;/script&gt;\n    &lt;script src=&quot;https://cdnjs.cloudflare.com/ajax/libs/Leaflet.awesome-markers/2.0.2/leaflet.awesome-markers.js&quot;&gt;&lt;/script&gt;\n    &lt;link rel=&quot;stylesheet&quot; href=&quot;https://cdn.jsdelivr.net/npm/leaflet@1.9.3/dist/leaflet.css&quot;/&gt;\n    &lt;link rel=&quot;stylesheet&quot; href=&quot;https://cdn.jsdelivr.net/npm/bootstrap@5.2.2/dist/css/bootstrap.min.css&quot;/&gt;\n    &lt;link rel=&quot;stylesheet&quot; href=&quot;https://netdna.bootstrapcdn.com/bootstrap/3.0.0/css/bootstrap.min.css&quot;/&gt;\n    &lt;link rel=&quot;stylesheet&quot; href=&quot;https://cdn.jsdelivr.net/npm/@fortawesome/fontawesome-free@6.2.0/css/all.min.css&quot;/&gt;\n    &lt;link rel=&quot;stylesheet&quot; href=&quot;https://cdnjs.cloudflare.com/ajax/libs/Leaflet.awesome-markers/2.0.2/leaflet.awesome-markers.css&quot;/&gt;\n    &lt;link rel=&quot;stylesheet&quot; href=&quot;https://cdn.jsdelivr.net/gh/python-visualization/folium/folium/templates/leaflet.awesome.rotate.min.css&quot;/&gt;\n    \n            &lt;meta name=&quot;viewport&quot; content=&quot;width=device-width,\n                initial-scale=1.0, maximum-scale=1.0, user-scalable=no&quot; /&gt;\n            &lt;style&gt;\n                #map_f6a5cee732f4c78af0497aa04d72f9ad {\n                    position: relative;\n                    width: 100.0%;\n                    height: 100.0%;\n                    left: 0.0%;\n                    top: 0.0%;\n                }\n                .leaflet-container { font-size: 1rem; }\n            &lt;/style&gt;\n        \n&lt;/head&gt;\n&lt;body&gt;\n    \n    \n            &lt;div class=&quot;folium-map&quot; id=&quot;map_f6a5cee732f4c78af0497aa04d72f9ad&quot; &gt;&lt;/div&gt;\n        \n&lt;/body&gt;\n&lt;script&gt;\n    \n    \n            var map_f6a5cee732f4c78af0497aa04d72f9ad = L.map(\n                &quot;map_f6a5cee732f4c78af0497aa04d72f9ad&quot;,\n                {\n                    center: [29.559684888503615, -95.0830971930759],\n                    crs: L.CRS.EPSG3857,\n                    zoom: 5,\n                    zoomControl: true,\n                    preferCanvas: false,\n                }\n            );\n\n            \n\n        \n    \n            var tile_layer_f9e58fdb2a08bc0695a454326ef3281c = L.tileLayer(\n                &quot;https://{s}.tile.openstreetmap.org/{z}/{x}/{y}.png&quot;,\n                {&quot;attribution&quot;: &quot;Data by \\u0026copy; \\u003ca target=\\&quot;_blank\\&quot; href=\\&quot;http://openstreetmap.org\\&quot;\\u003eOpenStreetMap\\u003c/a\\u003e, under \\u003ca target=\\&quot;_blank\\&quot; href=\\&quot;http://www.openstreetmap.org/copyright\\&quot;\\u003eODbL\\u003c/a\\u003e.&quot;, &quot;detectRetina&quot;: false, &quot;maxNativeZoom&quot;: 18, &quot;maxZoom&quot;: 18, &quot;minZoom&quot;: 0, &quot;noWrap&quot;: false, &quot;opacity&quot;: 1, &quot;subdomains&quot;: &quot;abc&quot;, &quot;tms&quot;: false}\n            ).addTo(map_f6a5cee732f4c78af0497aa04d72f9ad);\n        \n    \n            var circle_f3fad42c67286f8b16c78a11fd2a7db2 = L.circle(\n                [28.56230197, -80.57735648],\n                {&quot;bubblingMouseEvents&quot;: true, &quot;color&quot;: &quot;#d35400&quot;, &quot;dashArray&quot;: null, &quot;dashOffset&quot;: null, &quot;fill&quot;: true, &quot;fillColor&quot;: &quot;#d35400&quot;, &quot;fillOpacity&quot;: 0.2, &quot;fillRule&quot;: &quot;evenodd&quot;, &quot;lineCap&quot;: &quot;round&quot;, &quot;lineJoin&quot;: &quot;round&quot;, &quot;opacity&quot;: 1.0, &quot;radius&quot;: 1000, &quot;stroke&quot;: true, &quot;weight&quot;: 3}\n            ).addTo(map_f6a5cee732f4c78af0497aa04d72f9ad);\n        \n    \n        var popup_1a7e747e8e25e117f81f0ddb7b151afd = L.popup({&quot;maxWidth&quot;: &quot;100%&quot;});\n\n        \n            \n                var html_813283eb0a7def9dadf5ac66817ac741 = $(`&lt;div id=&quot;html_813283eb0a7def9dadf5ac66817ac741&quot; style=&quot;width: 100.0%; height: 100.0%;&quot;&gt;CCAFS LC-40&lt;/div&gt;`)[0];\n                popup_1a7e747e8e25e117f81f0ddb7b151afd.setContent(html_813283eb0a7def9dadf5ac66817ac741);\n            \n        \n\n        circle_f3fad42c67286f8b16c78a11fd2a7db2.bindPopup(popup_1a7e747e8e25e117f81f0ddb7b151afd)\n        ;\n\n        \n    \n    \n            var marker_54413c576aff8a0ec337e976ac276251 = L.marker(\n                [28.56230197, -80.57735648],\n                {}\n            ).addTo(map_f6a5cee732f4c78af0497aa04d72f9ad);\n        \n    \n            var div_icon_5c0ee23724911440f23ac4e894d33bff = L.divIcon({&quot;className&quot;: &quot;empty&quot;, &quot;html&quot;: &quot;\\u003cdiv style=\\&quot;font-size: 12; color:#d35400;\\&quot;\\u003e\\u003cb\\u003eCCAFS LC-40\\u003c/b\\u003e\\u003c/div\\u003e&quot;, &quot;iconAnchor&quot;: [0, 0], &quot;iconSize&quot;: [20, 20]});\n            marker_54413c576aff8a0ec337e976ac276251.setIcon(div_icon_5c0ee23724911440f23ac4e894d33bff);\n        \n    \n            var circle_8ff7c804a0b7fe267fc9b7e5597d8d78 = L.circle(\n                [28.56319718, -80.57682003],\n                {&quot;bubblingMouseEvents&quot;: true, &quot;color&quot;: &quot;#d35400&quot;, &quot;dashArray&quot;: null, &quot;dashOffset&quot;: null, &quot;fill&quot;: true, &quot;fillColor&quot;: &quot;#d35400&quot;, &quot;fillOpacity&quot;: 0.2, &quot;fillRule&quot;: &quot;evenodd&quot;, &quot;lineCap&quot;: &quot;round&quot;, &quot;lineJoin&quot;: &quot;round&quot;, &quot;opacity&quot;: 1.0, &quot;radius&quot;: 1000, &quot;stroke&quot;: true, &quot;weight&quot;: 3}\n            ).addTo(map_f6a5cee732f4c78af0497aa04d72f9ad);\n        \n    \n        var popup_885029632cda23b98c00df6a9dedfb66 = L.popup({&quot;maxWidth&quot;: &quot;100%&quot;});\n\n        \n            \n                var html_995b94f4f834e9e802f5738db33739ea = $(`&lt;div id=&quot;html_995b94f4f834e9e802f5738db33739ea&quot; style=&quot;width: 100.0%; height: 100.0%;&quot;&gt;CCAFS SLC-40&lt;/div&gt;`)[0];\n                popup_885029632cda23b98c00df6a9dedfb66.setContent(html_995b94f4f834e9e802f5738db33739ea);\n            \n        \n\n        circle_8ff7c804a0b7fe267fc9b7e5597d8d78.bindPopup(popup_885029632cda23b98c00df6a9dedfb66)\n        ;\n\n        \n    \n    \n            var marker_16eb4588ea0f10445c42d3d82f316893 = L.marker(\n                [28.56319718, -80.57682003],\n                {}\n            ).addTo(map_f6a5cee732f4c78af0497aa04d72f9ad);\n        \n    \n            var div_icon_6c935108609d3ade08f7c04be9d9e028 = L.divIcon({&quot;className&quot;: &quot;empty&quot;, &quot;html&quot;: &quot;\\u003cdiv style=\\&quot;font-size: 12; color:#d35400;\\&quot;\\u003e\\u003cb\\u003eCCAFS SLC-40\\u003c/b\\u003e\\u003c/div\\u003e&quot;, &quot;iconAnchor&quot;: [0, 0], &quot;iconSize&quot;: [20, 20]});\n            marker_16eb4588ea0f10445c42d3d82f316893.setIcon(div_icon_6c935108609d3ade08f7c04be9d9e028);\n        \n    \n            var circle_29411a35e445efe77e9a8863d253f757 = L.circle(\n                [28.57325457, -80.64689529],\n                {&quot;bubblingMouseEvents&quot;: true, &quot;color&quot;: &quot;#d35400&quot;, &quot;dashArray&quot;: null, &quot;dashOffset&quot;: null, &quot;fill&quot;: true, &quot;fillColor&quot;: &quot;#d35400&quot;, &quot;fillOpacity&quot;: 0.2, &quot;fillRule&quot;: &quot;evenodd&quot;, &quot;lineCap&quot;: &quot;round&quot;, &quot;lineJoin&quot;: &quot;round&quot;, &quot;opacity&quot;: 1.0, &quot;radius&quot;: 1000, &quot;stroke&quot;: true, &quot;weight&quot;: 3}\n            ).addTo(map_f6a5cee732f4c78af0497aa04d72f9ad);\n        \n    \n        var popup_d605e5600f1564a203cb17bae12b3245 = L.popup({&quot;maxWidth&quot;: &quot;100%&quot;});\n\n        \n            \n                var html_740f5670f49cb700138d0f35a8a40fd8 = $(`&lt;div id=&quot;html_740f5670f49cb700138d0f35a8a40fd8&quot; style=&quot;width: 100.0%; height: 100.0%;&quot;&gt;KSC LC-39A&lt;/div&gt;`)[0];\n                popup_d605e5600f1564a203cb17bae12b3245.setContent(html_740f5670f49cb700138d0f35a8a40fd8);\n            \n        \n\n        circle_29411a35e445efe77e9a8863d253f757.bindPopup(popup_d605e5600f1564a203cb17bae12b3245)\n        ;\n\n        \n    \n    \n            var marker_97884ba61cbfa00ad0cc42fce1887e94 = L.marker(\n                [28.57325457, -80.64689529],\n                {}\n            ).addTo(map_f6a5cee732f4c78af0497aa04d72f9ad);\n        \n    \n            var div_icon_6cb19151ab7f84e272afe0966b12a73e = L.divIcon({&quot;className&quot;: &quot;empty&quot;, &quot;html&quot;: &quot;\\u003cdiv style=\\&quot;font-size: 12; color:#d35400;\\&quot;\\u003e\\u003cb\\u003eKSC LC-39A\\u003c/b\\u003e\\u003c/div\\u003e&quot;, &quot;iconAnchor&quot;: [0, 0], &quot;iconSize&quot;: [20, 20]});\n            marker_97884ba61cbfa00ad0cc42fce1887e94.setIcon(div_icon_6cb19151ab7f84e272afe0966b12a73e);\n        \n    \n            var circle_92b91433f5b28cdd8adb4fea38ad039c = L.circle(\n                [34.63283416, -120.6107455],\n                {&quot;bubblingMouseEvents&quot;: true, &quot;color&quot;: &quot;#d35400&quot;, &quot;dashArray&quot;: null, &quot;dashOffset&quot;: null, &quot;fill&quot;: true, &quot;fillColor&quot;: &quot;#d35400&quot;, &quot;fillOpacity&quot;: 0.2, &quot;fillRule&quot;: &quot;evenodd&quot;, &quot;lineCap&quot;: &quot;round&quot;, &quot;lineJoin&quot;: &quot;round&quot;, &quot;opacity&quot;: 1.0, &quot;radius&quot;: 1000, &quot;stroke&quot;: true, &quot;weight&quot;: 3}\n            ).addTo(map_f6a5cee732f4c78af0497aa04d72f9ad);\n        \n    \n        var popup_277b8b6d3079abeadce38e3fac55a671 = L.popup({&quot;maxWidth&quot;: &quot;100%&quot;});\n\n        \n            \n                var html_65949f1e977c3a9fb1e80deb3fbb8215 = $(`&lt;div id=&quot;html_65949f1e977c3a9fb1e80deb3fbb8215&quot; style=&quot;width: 100.0%; height: 100.0%;&quot;&gt;VAFB SLC-4E&lt;/div&gt;`)[0];\n                popup_277b8b6d3079abeadce38e3fac55a671.setContent(html_65949f1e977c3a9fb1e80deb3fbb8215);\n            \n        \n\n        circle_92b91433f5b28cdd8adb4fea38ad039c.bindPopup(popup_277b8b6d3079abeadce38e3fac55a671)\n        ;\n\n        \n    \n    \n            var marker_68ec483a0300e07bc3111d49169972fe = L.marker(\n                [34.63283416, -120.6107455],\n                {}\n            ).addTo(map_f6a5cee732f4c78af0497aa04d72f9ad);\n        \n    \n            var div_icon_08037c41c3fa68d68671fdb0521b78b2 = L.divIcon({&quot;className&quot;: &quot;empty&quot;, &quot;html&quot;: &quot;\\u003cdiv style=\\&quot;font-size: 12; color:#d35400;\\&quot;\\u003e\\u003cb\\u003eVAFB SLC-4E\\u003c/b\\u003e\\u003c/div\\u003e&quot;, &quot;iconAnchor&quot;: [0, 0], &quot;iconSize&quot;: [20, 20]});\n            marker_68ec483a0300e07bc3111d49169972fe.setIcon(div_icon_08037c41c3fa68d68671fdb0521b78b2);\n        \n&lt;/script&gt;\n&lt;/html&gt;\" style=\"position:absolute;width:100%;height:100%;left:0;top:0;border:none !important;\" allowfullscreen webkitallowfullscreen mozallowfullscreen></iframe></div></div>"
     },
     "execution_count": 40,
     "metadata": {},
     "output_type": "execute_result"
    }
   ],
   "source": [
    "# Initial the map\n",
    "site_map = folium.Map(location=nasa_coordinate, zoom_start=5)\n",
    "\n",
    "# For each launch site, add a Circle object based on its coordinate (Lat, Long) values. In addition, add Launch site name as a popup label\n",
    "for index, record in launch_sites_df.iterrows():\n",
    "    # add circle\n",
    "    circle = (\n",
    "        folium.Circle((record['Lat'], record['Long']), radius=1000, color='#d35400', fill=True)\n",
    "            .add_child(folium.Popup(record['Launch Site']))\n",
    "    )\n",
    "\n",
    "    site_map.add_child(circle)\n",
    "    \n",
    "    \n",
    "    # add marker\n",
    "    marker = folium.map.Marker(\n",
    "        (record['Lat'], record['Long']),\n",
    "        icon=DivIcon(\n",
    "            icon_size=(20,20),\n",
    "            icon_anchor=(0,0),\n",
    "            html='<div style=\"font-size: 12; color:#d35400;\"><b>%s</b></div>' % record['Launch Site'],\n",
    "        )\n",
    "    )\n",
    "    site_map.add_child(marker)\n",
    "\n",
    "# display map\n",
    "site_map"
   ]
  },
  {
   "cell_type": "markdown",
   "metadata": {},
   "source": [
    "The generated map with marked launch sites should look similar to the following:\n"
   ]
  },
  {
   "cell_type": "markdown",
   "metadata": {},
   "source": [
    "<center>\n",
    "    <img src=\"https://cf-courses-data.s3.us.cloud-object-storage.appdomain.cloud/IBM-DS0321EN-SkillsNetwork/labs/module_3/images/launch_site_markers.png\">\n",
    "</center>\n"
   ]
  },
  {
   "cell_type": "markdown",
   "metadata": {},
   "source": [
    "Now, you can explore the map by zoom-in/out the marked areas\n",
    ", and try to answer the following questions:\n",
    "- Are all launch sites in proximity to the Equator line?\n",
    "- Are all launch sites in very close proximity to the coast?\n",
    "\n",
    "Also please try to explain your findings.\n"
   ]
  },
  {
   "cell_type": "markdown",
   "metadata": {},
   "source": [
    "# Task 2: Mark the success/failed launches for each site on the map\n"
   ]
  },
  {
   "cell_type": "markdown",
   "metadata": {},
   "source": [
    "Next, let's try to enhance the map by adding the launch outcomes for each site, and see which sites have high success rates.\n",
    "Recall that data frame spacex_df has detailed launch records, and the `class` column indicates if this launch was successful or not\n"
   ]
  },
  {
   "cell_type": "code",
   "execution_count": 41,
   "metadata": {
    "ExecuteTime": {
     "end_time": "2023-11-09T11:43:18.837544Z",
     "start_time": "2023-11-09T11:43:18.826791Z"
    }
   },
   "outputs": [
    {
     "data": {
      "text/plain": "     Launch Site        Lat       Long  class\n46    KSC LC-39A  28.573255 -80.646895      1\n47    KSC LC-39A  28.573255 -80.646895      1\n48    KSC LC-39A  28.573255 -80.646895      1\n49  CCAFS SLC-40  28.563197 -80.576820      1\n50  CCAFS SLC-40  28.563197 -80.576820      1\n51  CCAFS SLC-40  28.563197 -80.576820      0\n52  CCAFS SLC-40  28.563197 -80.576820      0\n53  CCAFS SLC-40  28.563197 -80.576820      0\n54  CCAFS SLC-40  28.563197 -80.576820      1\n55  CCAFS SLC-40  28.563197 -80.576820      0",
      "text/html": "<div>\n<style scoped>\n    .dataframe tbody tr th:only-of-type {\n        vertical-align: middle;\n    }\n\n    .dataframe tbody tr th {\n        vertical-align: top;\n    }\n\n    .dataframe thead th {\n        text-align: right;\n    }\n</style>\n<table border=\"1\" class=\"dataframe\">\n  <thead>\n    <tr style=\"text-align: right;\">\n      <th></th>\n      <th>Launch Site</th>\n      <th>Lat</th>\n      <th>Long</th>\n      <th>class</th>\n    </tr>\n  </thead>\n  <tbody>\n    <tr>\n      <th>46</th>\n      <td>KSC LC-39A</td>\n      <td>28.573255</td>\n      <td>-80.646895</td>\n      <td>1</td>\n    </tr>\n    <tr>\n      <th>47</th>\n      <td>KSC LC-39A</td>\n      <td>28.573255</td>\n      <td>-80.646895</td>\n      <td>1</td>\n    </tr>\n    <tr>\n      <th>48</th>\n      <td>KSC LC-39A</td>\n      <td>28.573255</td>\n      <td>-80.646895</td>\n      <td>1</td>\n    </tr>\n    <tr>\n      <th>49</th>\n      <td>CCAFS SLC-40</td>\n      <td>28.563197</td>\n      <td>-80.576820</td>\n      <td>1</td>\n    </tr>\n    <tr>\n      <th>50</th>\n      <td>CCAFS SLC-40</td>\n      <td>28.563197</td>\n      <td>-80.576820</td>\n      <td>1</td>\n    </tr>\n    <tr>\n      <th>51</th>\n      <td>CCAFS SLC-40</td>\n      <td>28.563197</td>\n      <td>-80.576820</td>\n      <td>0</td>\n    </tr>\n    <tr>\n      <th>52</th>\n      <td>CCAFS SLC-40</td>\n      <td>28.563197</td>\n      <td>-80.576820</td>\n      <td>0</td>\n    </tr>\n    <tr>\n      <th>53</th>\n      <td>CCAFS SLC-40</td>\n      <td>28.563197</td>\n      <td>-80.576820</td>\n      <td>0</td>\n    </tr>\n    <tr>\n      <th>54</th>\n      <td>CCAFS SLC-40</td>\n      <td>28.563197</td>\n      <td>-80.576820</td>\n      <td>1</td>\n    </tr>\n    <tr>\n      <th>55</th>\n      <td>CCAFS SLC-40</td>\n      <td>28.563197</td>\n      <td>-80.576820</td>\n      <td>0</td>\n    </tr>\n  </tbody>\n</table>\n</div>"
     },
     "execution_count": 41,
     "metadata": {},
     "output_type": "execute_result"
    }
   ],
   "source": [
    "spacex_df.tail(10)"
   ]
  },
  {
   "cell_type": "markdown",
   "metadata": {},
   "source": [
    "Next, let's create markers for all launch records. \n",
    "If a launch was successful `(class=1)`, then we use a green marker and if a launch was failed, we use a red marker `(class=0)`\n"
   ]
  },
  {
   "cell_type": "markdown",
   "metadata": {},
   "source": [
    "Note that a launch only happens in one of the four launch sites, which means many launch records will have the exact same coordinate. Marker clusters can be a good way to simplify a map containing many markers having the same coordinate.\n"
   ]
  },
  {
   "cell_type": "markdown",
   "metadata": {},
   "source": [
    "Let's first create a `MarkerCluster` object\n"
   ]
  },
  {
   "cell_type": "code",
   "execution_count": 42,
   "metadata": {
    "id": "wP9PVUZ7Jfjt",
    "outputId": "6a3b8164-940c-4b93-9f3d-c655c4a0c683",
    "papermill": {
     "duration": 0.904519,
     "end_time": "2020-09-19T06:27:38.357041",
     "exception": false,
     "start_time": "2020-09-19T06:27:37.452522",
     "status": "completed"
    },
    "tags": [],
    "ExecuteTime": {
     "end_time": "2023-11-09T11:44:34.067897Z",
     "start_time": "2023-11-09T11:44:34.061986Z"
    }
   },
   "outputs": [],
   "source": [
    "marker_cluster = MarkerCluster()\n"
   ]
  },
  {
   "cell_type": "markdown",
   "metadata": {},
   "source": [
    "_TODO:_ Create a new column in `launch_sites` dataframe called `marker_color` to store the marker colors based on the `class` value\n"
   ]
  },
  {
   "cell_type": "code",
   "execution_count": null,
   "metadata": {},
   "outputs": [],
   "source": [
    "\n",
    "# Apply a function to check the value of `class` column\n",
    "# If class=1, marker_color value will be green\n",
    "# If class=0, marker_color value will be red\n",
    "# launch_sites_df['marker_color'] = launch_sites_df['class'].apply(...)\n"
   ]
  },
  {
   "cell_type": "code",
   "execution_count": 43,
   "metadata": {
    "ExecuteTime": {
     "end_time": "2023-11-09T11:45:28.897007Z",
     "start_time": "2023-11-09T11:45:28.887881Z"
    }
   },
   "outputs": [
    {
     "data": {
      "text/plain": "     Launch Site        Lat       Long  class marker_color\n46    KSC LC-39A  28.573255 -80.646895      1        green\n47    KSC LC-39A  28.573255 -80.646895      1        green\n48    KSC LC-39A  28.573255 -80.646895      1        green\n49  CCAFS SLC-40  28.563197 -80.576820      1        green\n50  CCAFS SLC-40  28.563197 -80.576820      1        green\n51  CCAFS SLC-40  28.563197 -80.576820      0          red\n52  CCAFS SLC-40  28.563197 -80.576820      0          red\n53  CCAFS SLC-40  28.563197 -80.576820      0          red\n54  CCAFS SLC-40  28.563197 -80.576820      1        green\n55  CCAFS SLC-40  28.563197 -80.576820      0          red",
      "text/html": "<div>\n<style scoped>\n    .dataframe tbody tr th:only-of-type {\n        vertical-align: middle;\n    }\n\n    .dataframe tbody tr th {\n        vertical-align: top;\n    }\n\n    .dataframe thead th {\n        text-align: right;\n    }\n</style>\n<table border=\"1\" class=\"dataframe\">\n  <thead>\n    <tr style=\"text-align: right;\">\n      <th></th>\n      <th>Launch Site</th>\n      <th>Lat</th>\n      <th>Long</th>\n      <th>class</th>\n      <th>marker_color</th>\n    </tr>\n  </thead>\n  <tbody>\n    <tr>\n      <th>46</th>\n      <td>KSC LC-39A</td>\n      <td>28.573255</td>\n      <td>-80.646895</td>\n      <td>1</td>\n      <td>green</td>\n    </tr>\n    <tr>\n      <th>47</th>\n      <td>KSC LC-39A</td>\n      <td>28.573255</td>\n      <td>-80.646895</td>\n      <td>1</td>\n      <td>green</td>\n    </tr>\n    <tr>\n      <th>48</th>\n      <td>KSC LC-39A</td>\n      <td>28.573255</td>\n      <td>-80.646895</td>\n      <td>1</td>\n      <td>green</td>\n    </tr>\n    <tr>\n      <th>49</th>\n      <td>CCAFS SLC-40</td>\n      <td>28.563197</td>\n      <td>-80.576820</td>\n      <td>1</td>\n      <td>green</td>\n    </tr>\n    <tr>\n      <th>50</th>\n      <td>CCAFS SLC-40</td>\n      <td>28.563197</td>\n      <td>-80.576820</td>\n      <td>1</td>\n      <td>green</td>\n    </tr>\n    <tr>\n      <th>51</th>\n      <td>CCAFS SLC-40</td>\n      <td>28.563197</td>\n      <td>-80.576820</td>\n      <td>0</td>\n      <td>red</td>\n    </tr>\n    <tr>\n      <th>52</th>\n      <td>CCAFS SLC-40</td>\n      <td>28.563197</td>\n      <td>-80.576820</td>\n      <td>0</td>\n      <td>red</td>\n    </tr>\n    <tr>\n      <th>53</th>\n      <td>CCAFS SLC-40</td>\n      <td>28.563197</td>\n      <td>-80.576820</td>\n      <td>0</td>\n      <td>red</td>\n    </tr>\n    <tr>\n      <th>54</th>\n      <td>CCAFS SLC-40</td>\n      <td>28.563197</td>\n      <td>-80.576820</td>\n      <td>1</td>\n      <td>green</td>\n    </tr>\n    <tr>\n      <th>55</th>\n      <td>CCAFS SLC-40</td>\n      <td>28.563197</td>\n      <td>-80.576820</td>\n      <td>0</td>\n      <td>red</td>\n    </tr>\n  </tbody>\n</table>\n</div>"
     },
     "execution_count": 43,
     "metadata": {},
     "output_type": "execute_result"
    }
   ],
   "source": [
    "# Function to assign color to launch outcome\n",
    "def assign_marker_color(launch_outcome):\n",
    "    if launch_outcome == 1:\n",
    "        return 'green'\n",
    "    else:\n",
    "        return 'red'\n",
    "    \n",
    "spacex_df['marker_color'] = spacex_df['class'].apply(assign_marker_color)\n",
    "spacex_df.tail(10)"
   ]
  },
  {
   "cell_type": "markdown",
   "metadata": {},
   "source": [
    "_TODO:_ For each launch result in `spacex_df` data frame, add a `folium.Marker` to `marker_cluster`\n"
   ]
  },
  {
   "cell_type": "code",
   "execution_count": 44,
   "metadata": {
    "ExecuteTime": {
     "end_time": "2023-11-09T11:45:58.494389Z",
     "start_time": "2023-11-09T11:45:58.420416Z"
    }
   },
   "outputs": [
    {
     "data": {
      "text/plain": "<folium.folium.Map at 0x11d15f110>",
      "text/html": "<div style=\"width:100%;\"><div style=\"position:relative;width:100%;height:0;padding-bottom:60%;\"><span style=\"color:#565656\">Make this Notebook Trusted to load map: File -> Trust Notebook</span><iframe srcdoc=\"&lt;!DOCTYPE html&gt;\n&lt;html&gt;\n&lt;head&gt;\n    \n    &lt;meta http-equiv=&quot;content-type&quot; content=&quot;text/html; charset=UTF-8&quot; /&gt;\n    \n        &lt;script&gt;\n            L_NO_TOUCH = false;\n            L_DISABLE_3D = false;\n        &lt;/script&gt;\n    \n    &lt;style&gt;html, body {width: 100%;height: 100%;margin: 0;padding: 0;}&lt;/style&gt;\n    &lt;style&gt;#map {position:absolute;top:0;bottom:0;right:0;left:0;}&lt;/style&gt;\n    &lt;script src=&quot;https://cdn.jsdelivr.net/npm/leaflet@1.9.3/dist/leaflet.js&quot;&gt;&lt;/script&gt;\n    &lt;script src=&quot;https://code.jquery.com/jquery-1.12.4.min.js&quot;&gt;&lt;/script&gt;\n    &lt;script src=&quot;https://cdn.jsdelivr.net/npm/bootstrap@5.2.2/dist/js/bootstrap.bundle.min.js&quot;&gt;&lt;/script&gt;\n    &lt;script src=&quot;https://cdnjs.cloudflare.com/ajax/libs/Leaflet.awesome-markers/2.0.2/leaflet.awesome-markers.js&quot;&gt;&lt;/script&gt;\n    &lt;link rel=&quot;stylesheet&quot; href=&quot;https://cdn.jsdelivr.net/npm/leaflet@1.9.3/dist/leaflet.css&quot;/&gt;\n    &lt;link rel=&quot;stylesheet&quot; href=&quot;https://cdn.jsdelivr.net/npm/bootstrap@5.2.2/dist/css/bootstrap.min.css&quot;/&gt;\n    &lt;link rel=&quot;stylesheet&quot; href=&quot;https://netdna.bootstrapcdn.com/bootstrap/3.0.0/css/bootstrap.min.css&quot;/&gt;\n    &lt;link rel=&quot;stylesheet&quot; href=&quot;https://cdn.jsdelivr.net/npm/@fortawesome/fontawesome-free@6.2.0/css/all.min.css&quot;/&gt;\n    &lt;link rel=&quot;stylesheet&quot; href=&quot;https://cdnjs.cloudflare.com/ajax/libs/Leaflet.awesome-markers/2.0.2/leaflet.awesome-markers.css&quot;/&gt;\n    &lt;link rel=&quot;stylesheet&quot; href=&quot;https://cdn.jsdelivr.net/gh/python-visualization/folium/folium/templates/leaflet.awesome.rotate.min.css&quot;/&gt;\n    \n            &lt;meta name=&quot;viewport&quot; content=&quot;width=device-width,\n                initial-scale=1.0, maximum-scale=1.0, user-scalable=no&quot; /&gt;\n            &lt;style&gt;\n                #map_f6a5cee732f4c78af0497aa04d72f9ad {\n                    position: relative;\n                    width: 100.0%;\n                    height: 100.0%;\n                    left: 0.0%;\n                    top: 0.0%;\n                }\n                .leaflet-container { font-size: 1rem; }\n            &lt;/style&gt;\n        \n    &lt;script src=&quot;https://cdnjs.cloudflare.com/ajax/libs/leaflet.markercluster/1.1.0/leaflet.markercluster.js&quot;&gt;&lt;/script&gt;\n    &lt;link rel=&quot;stylesheet&quot; href=&quot;https://cdnjs.cloudflare.com/ajax/libs/leaflet.markercluster/1.1.0/MarkerCluster.css&quot;/&gt;\n    &lt;link rel=&quot;stylesheet&quot; href=&quot;https://cdnjs.cloudflare.com/ajax/libs/leaflet.markercluster/1.1.0/MarkerCluster.Default.css&quot;/&gt;\n&lt;/head&gt;\n&lt;body&gt;\n    \n    \n            &lt;div class=&quot;folium-map&quot; id=&quot;map_f6a5cee732f4c78af0497aa04d72f9ad&quot; &gt;&lt;/div&gt;\n        \n&lt;/body&gt;\n&lt;script&gt;\n    \n    \n            var map_f6a5cee732f4c78af0497aa04d72f9ad = L.map(\n                &quot;map_f6a5cee732f4c78af0497aa04d72f9ad&quot;,\n                {\n                    center: [29.559684888503615, -95.0830971930759],\n                    crs: L.CRS.EPSG3857,\n                    zoom: 5,\n                    zoomControl: true,\n                    preferCanvas: false,\n                }\n            );\n\n            \n\n        \n    \n            var tile_layer_f9e58fdb2a08bc0695a454326ef3281c = L.tileLayer(\n                &quot;https://{s}.tile.openstreetmap.org/{z}/{x}/{y}.png&quot;,\n                {&quot;attribution&quot;: &quot;Data by \\u0026copy; \\u003ca target=\\&quot;_blank\\&quot; href=\\&quot;http://openstreetmap.org\\&quot;\\u003eOpenStreetMap\\u003c/a\\u003e, under \\u003ca target=\\&quot;_blank\\&quot; href=\\&quot;http://www.openstreetmap.org/copyright\\&quot;\\u003eODbL\\u003c/a\\u003e.&quot;, &quot;detectRetina&quot;: false, &quot;maxNativeZoom&quot;: 18, &quot;maxZoom&quot;: 18, &quot;minZoom&quot;: 0, &quot;noWrap&quot;: false, &quot;opacity&quot;: 1, &quot;subdomains&quot;: &quot;abc&quot;, &quot;tms&quot;: false}\n            ).addTo(map_f6a5cee732f4c78af0497aa04d72f9ad);\n        \n    \n            var circle_f3fad42c67286f8b16c78a11fd2a7db2 = L.circle(\n                [28.56230197, -80.57735648],\n                {&quot;bubblingMouseEvents&quot;: true, &quot;color&quot;: &quot;#d35400&quot;, &quot;dashArray&quot;: null, &quot;dashOffset&quot;: null, &quot;fill&quot;: true, &quot;fillColor&quot;: &quot;#d35400&quot;, &quot;fillOpacity&quot;: 0.2, &quot;fillRule&quot;: &quot;evenodd&quot;, &quot;lineCap&quot;: &quot;round&quot;, &quot;lineJoin&quot;: &quot;round&quot;, &quot;opacity&quot;: 1.0, &quot;radius&quot;: 1000, &quot;stroke&quot;: true, &quot;weight&quot;: 3}\n            ).addTo(map_f6a5cee732f4c78af0497aa04d72f9ad);\n        \n    \n        var popup_1a7e747e8e25e117f81f0ddb7b151afd = L.popup({&quot;maxWidth&quot;: &quot;100%&quot;});\n\n        \n            \n                var html_813283eb0a7def9dadf5ac66817ac741 = $(`&lt;div id=&quot;html_813283eb0a7def9dadf5ac66817ac741&quot; style=&quot;width: 100.0%; height: 100.0%;&quot;&gt;CCAFS LC-40&lt;/div&gt;`)[0];\n                popup_1a7e747e8e25e117f81f0ddb7b151afd.setContent(html_813283eb0a7def9dadf5ac66817ac741);\n            \n        \n\n        circle_f3fad42c67286f8b16c78a11fd2a7db2.bindPopup(popup_1a7e747e8e25e117f81f0ddb7b151afd)\n        ;\n\n        \n    \n    \n            var marker_54413c576aff8a0ec337e976ac276251 = L.marker(\n                [28.56230197, -80.57735648],\n                {}\n            ).addTo(map_f6a5cee732f4c78af0497aa04d72f9ad);\n        \n    \n            var div_icon_5c0ee23724911440f23ac4e894d33bff = L.divIcon({&quot;className&quot;: &quot;empty&quot;, &quot;html&quot;: &quot;\\u003cdiv style=\\&quot;font-size: 12; color:#d35400;\\&quot;\\u003e\\u003cb\\u003eCCAFS LC-40\\u003c/b\\u003e\\u003c/div\\u003e&quot;, &quot;iconAnchor&quot;: [0, 0], &quot;iconSize&quot;: [20, 20]});\n            marker_54413c576aff8a0ec337e976ac276251.setIcon(div_icon_5c0ee23724911440f23ac4e894d33bff);\n        \n    \n            var circle_8ff7c804a0b7fe267fc9b7e5597d8d78 = L.circle(\n                [28.56319718, -80.57682003],\n                {&quot;bubblingMouseEvents&quot;: true, &quot;color&quot;: &quot;#d35400&quot;, &quot;dashArray&quot;: null, &quot;dashOffset&quot;: null, &quot;fill&quot;: true, &quot;fillColor&quot;: &quot;#d35400&quot;, &quot;fillOpacity&quot;: 0.2, &quot;fillRule&quot;: &quot;evenodd&quot;, &quot;lineCap&quot;: &quot;round&quot;, &quot;lineJoin&quot;: &quot;round&quot;, &quot;opacity&quot;: 1.0, &quot;radius&quot;: 1000, &quot;stroke&quot;: true, &quot;weight&quot;: 3}\n            ).addTo(map_f6a5cee732f4c78af0497aa04d72f9ad);\n        \n    \n        var popup_885029632cda23b98c00df6a9dedfb66 = L.popup({&quot;maxWidth&quot;: &quot;100%&quot;});\n\n        \n            \n                var html_995b94f4f834e9e802f5738db33739ea = $(`&lt;div id=&quot;html_995b94f4f834e9e802f5738db33739ea&quot; style=&quot;width: 100.0%; height: 100.0%;&quot;&gt;CCAFS SLC-40&lt;/div&gt;`)[0];\n                popup_885029632cda23b98c00df6a9dedfb66.setContent(html_995b94f4f834e9e802f5738db33739ea);\n            \n        \n\n        circle_8ff7c804a0b7fe267fc9b7e5597d8d78.bindPopup(popup_885029632cda23b98c00df6a9dedfb66)\n        ;\n\n        \n    \n    \n            var marker_16eb4588ea0f10445c42d3d82f316893 = L.marker(\n                [28.56319718, -80.57682003],\n                {}\n            ).addTo(map_f6a5cee732f4c78af0497aa04d72f9ad);\n        \n    \n            var div_icon_6c935108609d3ade08f7c04be9d9e028 = L.divIcon({&quot;className&quot;: &quot;empty&quot;, &quot;html&quot;: &quot;\\u003cdiv style=\\&quot;font-size: 12; color:#d35400;\\&quot;\\u003e\\u003cb\\u003eCCAFS SLC-40\\u003c/b\\u003e\\u003c/div\\u003e&quot;, &quot;iconAnchor&quot;: [0, 0], &quot;iconSize&quot;: [20, 20]});\n            marker_16eb4588ea0f10445c42d3d82f316893.setIcon(div_icon_6c935108609d3ade08f7c04be9d9e028);\n        \n    \n            var circle_29411a35e445efe77e9a8863d253f757 = L.circle(\n                [28.57325457, -80.64689529],\n                {&quot;bubblingMouseEvents&quot;: true, &quot;color&quot;: &quot;#d35400&quot;, &quot;dashArray&quot;: null, &quot;dashOffset&quot;: null, &quot;fill&quot;: true, &quot;fillColor&quot;: &quot;#d35400&quot;, &quot;fillOpacity&quot;: 0.2, &quot;fillRule&quot;: &quot;evenodd&quot;, &quot;lineCap&quot;: &quot;round&quot;, &quot;lineJoin&quot;: &quot;round&quot;, &quot;opacity&quot;: 1.0, &quot;radius&quot;: 1000, &quot;stroke&quot;: true, &quot;weight&quot;: 3}\n            ).addTo(map_f6a5cee732f4c78af0497aa04d72f9ad);\n        \n    \n        var popup_d605e5600f1564a203cb17bae12b3245 = L.popup({&quot;maxWidth&quot;: &quot;100%&quot;});\n\n        \n            \n                var html_740f5670f49cb700138d0f35a8a40fd8 = $(`&lt;div id=&quot;html_740f5670f49cb700138d0f35a8a40fd8&quot; style=&quot;width: 100.0%; height: 100.0%;&quot;&gt;KSC LC-39A&lt;/div&gt;`)[0];\n                popup_d605e5600f1564a203cb17bae12b3245.setContent(html_740f5670f49cb700138d0f35a8a40fd8);\n            \n        \n\n        circle_29411a35e445efe77e9a8863d253f757.bindPopup(popup_d605e5600f1564a203cb17bae12b3245)\n        ;\n\n        \n    \n    \n            var marker_97884ba61cbfa00ad0cc42fce1887e94 = L.marker(\n                [28.57325457, -80.64689529],\n                {}\n            ).addTo(map_f6a5cee732f4c78af0497aa04d72f9ad);\n        \n    \n            var div_icon_6cb19151ab7f84e272afe0966b12a73e = L.divIcon({&quot;className&quot;: &quot;empty&quot;, &quot;html&quot;: &quot;\\u003cdiv style=\\&quot;font-size: 12; color:#d35400;\\&quot;\\u003e\\u003cb\\u003eKSC LC-39A\\u003c/b\\u003e\\u003c/div\\u003e&quot;, &quot;iconAnchor&quot;: [0, 0], &quot;iconSize&quot;: [20, 20]});\n            marker_97884ba61cbfa00ad0cc42fce1887e94.setIcon(div_icon_6cb19151ab7f84e272afe0966b12a73e);\n        \n    \n            var circle_92b91433f5b28cdd8adb4fea38ad039c = L.circle(\n                [34.63283416, -120.6107455],\n                {&quot;bubblingMouseEvents&quot;: true, &quot;color&quot;: &quot;#d35400&quot;, &quot;dashArray&quot;: null, &quot;dashOffset&quot;: null, &quot;fill&quot;: true, &quot;fillColor&quot;: &quot;#d35400&quot;, &quot;fillOpacity&quot;: 0.2, &quot;fillRule&quot;: &quot;evenodd&quot;, &quot;lineCap&quot;: &quot;round&quot;, &quot;lineJoin&quot;: &quot;round&quot;, &quot;opacity&quot;: 1.0, &quot;radius&quot;: 1000, &quot;stroke&quot;: true, &quot;weight&quot;: 3}\n            ).addTo(map_f6a5cee732f4c78af0497aa04d72f9ad);\n        \n    \n        var popup_277b8b6d3079abeadce38e3fac55a671 = L.popup({&quot;maxWidth&quot;: &quot;100%&quot;});\n\n        \n            \n                var html_65949f1e977c3a9fb1e80deb3fbb8215 = $(`&lt;div id=&quot;html_65949f1e977c3a9fb1e80deb3fbb8215&quot; style=&quot;width: 100.0%; height: 100.0%;&quot;&gt;VAFB SLC-4E&lt;/div&gt;`)[0];\n                popup_277b8b6d3079abeadce38e3fac55a671.setContent(html_65949f1e977c3a9fb1e80deb3fbb8215);\n            \n        \n\n        circle_92b91433f5b28cdd8adb4fea38ad039c.bindPopup(popup_277b8b6d3079abeadce38e3fac55a671)\n        ;\n\n        \n    \n    \n            var marker_68ec483a0300e07bc3111d49169972fe = L.marker(\n                [34.63283416, -120.6107455],\n                {}\n            ).addTo(map_f6a5cee732f4c78af0497aa04d72f9ad);\n        \n    \n            var div_icon_08037c41c3fa68d68671fdb0521b78b2 = L.divIcon({&quot;className&quot;: &quot;empty&quot;, &quot;html&quot;: &quot;\\u003cdiv style=\\&quot;font-size: 12; color:#d35400;\\&quot;\\u003e\\u003cb\\u003eVAFB SLC-4E\\u003c/b\\u003e\\u003c/div\\u003e&quot;, &quot;iconAnchor&quot;: [0, 0], &quot;iconSize&quot;: [20, 20]});\n            marker_68ec483a0300e07bc3111d49169972fe.setIcon(div_icon_08037c41c3fa68d68671fdb0521b78b2);\n        \n    \n            var marker_cluster_dedd7febf2d41b4ababe7364f638909e = L.markerClusterGroup(\n                {}\n            );\n            map_f6a5cee732f4c78af0497aa04d72f9ad.addLayer(marker_cluster_dedd7febf2d41b4ababe7364f638909e);\n        \n    \n            var marker_63740bf706cdef235a9aa286f8b54c24 = L.marker(\n                [28.56230197, -80.57735648],\n                {}\n            ).addTo(marker_cluster_dedd7febf2d41b4ababe7364f638909e);\n        \n    \n            var icon_2223d806bee1e2520cb89cab27dd60e1 = L.AwesomeMarkers.icon(\n                {&quot;extraClasses&quot;: &quot;fa-rotate-0&quot;, &quot;icon&quot;: &quot;info-sign&quot;, &quot;iconColor&quot;: &quot;red&quot;, &quot;markerColor&quot;: &quot;white&quot;, &quot;prefix&quot;: &quot;glyphicon&quot;}\n            );\n            marker_63740bf706cdef235a9aa286f8b54c24.setIcon(icon_2223d806bee1e2520cb89cab27dd60e1);\n        \n    \n            var marker_fc2e24d2a421b91491c4740daf7a0504 = L.marker(\n                [28.56230197, -80.57735648],\n                {}\n            ).addTo(marker_cluster_dedd7febf2d41b4ababe7364f638909e);\n        \n    \n            var icon_98c477988cdb606b45dc7dff8c6b69db = L.AwesomeMarkers.icon(\n                {&quot;extraClasses&quot;: &quot;fa-rotate-0&quot;, &quot;icon&quot;: &quot;info-sign&quot;, &quot;iconColor&quot;: &quot;red&quot;, &quot;markerColor&quot;: &quot;white&quot;, &quot;prefix&quot;: &quot;glyphicon&quot;}\n            );\n            marker_fc2e24d2a421b91491c4740daf7a0504.setIcon(icon_98c477988cdb606b45dc7dff8c6b69db);\n        \n    \n            var marker_394985bcfb846f8b57741b81949cfd6f = L.marker(\n                [28.56230197, -80.57735648],\n                {}\n            ).addTo(marker_cluster_dedd7febf2d41b4ababe7364f638909e);\n        \n    \n            var icon_191f082e81eb2571161e6c9f66b0a3a5 = L.AwesomeMarkers.icon(\n                {&quot;extraClasses&quot;: &quot;fa-rotate-0&quot;, &quot;icon&quot;: &quot;info-sign&quot;, &quot;iconColor&quot;: &quot;red&quot;, &quot;markerColor&quot;: &quot;white&quot;, &quot;prefix&quot;: &quot;glyphicon&quot;}\n            );\n            marker_394985bcfb846f8b57741b81949cfd6f.setIcon(icon_191f082e81eb2571161e6c9f66b0a3a5);\n        \n    \n            var marker_49e6dfbf1b845c7f9adc188943b7fc8c = L.marker(\n                [28.56230197, -80.57735648],\n                {}\n            ).addTo(marker_cluster_dedd7febf2d41b4ababe7364f638909e);\n        \n    \n            var icon_1f5a774991e59cca26a356db236ae231 = L.AwesomeMarkers.icon(\n                {&quot;extraClasses&quot;: &quot;fa-rotate-0&quot;, &quot;icon&quot;: &quot;info-sign&quot;, &quot;iconColor&quot;: &quot;red&quot;, &quot;markerColor&quot;: &quot;white&quot;, &quot;prefix&quot;: &quot;glyphicon&quot;}\n            );\n            marker_49e6dfbf1b845c7f9adc188943b7fc8c.setIcon(icon_1f5a774991e59cca26a356db236ae231);\n        \n    \n            var marker_c94bf8065a943d80dd4757055a33832a = L.marker(\n                [28.56230197, -80.57735648],\n                {}\n            ).addTo(marker_cluster_dedd7febf2d41b4ababe7364f638909e);\n        \n    \n            var icon_5586ee30c4a84b518500fca48a8d559d = L.AwesomeMarkers.icon(\n                {&quot;extraClasses&quot;: &quot;fa-rotate-0&quot;, &quot;icon&quot;: &quot;info-sign&quot;, &quot;iconColor&quot;: &quot;red&quot;, &quot;markerColor&quot;: &quot;white&quot;, &quot;prefix&quot;: &quot;glyphicon&quot;}\n            );\n            marker_c94bf8065a943d80dd4757055a33832a.setIcon(icon_5586ee30c4a84b518500fca48a8d559d);\n        \n    \n            var marker_d0674b188cac3cec758322804fef4a2a = L.marker(\n                [28.56230197, -80.57735648],\n                {}\n            ).addTo(marker_cluster_dedd7febf2d41b4ababe7364f638909e);\n        \n    \n            var icon_e18c51b87d7c876da3d93db007831744 = L.AwesomeMarkers.icon(\n                {&quot;extraClasses&quot;: &quot;fa-rotate-0&quot;, &quot;icon&quot;: &quot;info-sign&quot;, &quot;iconColor&quot;: &quot;red&quot;, &quot;markerColor&quot;: &quot;white&quot;, &quot;prefix&quot;: &quot;glyphicon&quot;}\n            );\n            marker_d0674b188cac3cec758322804fef4a2a.setIcon(icon_e18c51b87d7c876da3d93db007831744);\n        \n    \n            var marker_dde9c34a1f3cfb9269979681383156eb = L.marker(\n                [28.56230197, -80.57735648],\n                {}\n            ).addTo(marker_cluster_dedd7febf2d41b4ababe7364f638909e);\n        \n    \n            var icon_05e454623c372f69b1e17861bde6f1c4 = L.AwesomeMarkers.icon(\n                {&quot;extraClasses&quot;: &quot;fa-rotate-0&quot;, &quot;icon&quot;: &quot;info-sign&quot;, &quot;iconColor&quot;: &quot;red&quot;, &quot;markerColor&quot;: &quot;white&quot;, &quot;prefix&quot;: &quot;glyphicon&quot;}\n            );\n            marker_dde9c34a1f3cfb9269979681383156eb.setIcon(icon_05e454623c372f69b1e17861bde6f1c4);\n        \n    \n            var marker_dbb0d1098a8cbd03d580d89b952f5448 = L.marker(\n                [28.56230197, -80.57735648],\n                {}\n            ).addTo(marker_cluster_dedd7febf2d41b4ababe7364f638909e);\n        \n    \n            var icon_de51d0fea42eb910d82b11aba32b779a = L.AwesomeMarkers.icon(\n                {&quot;extraClasses&quot;: &quot;fa-rotate-0&quot;, &quot;icon&quot;: &quot;info-sign&quot;, &quot;iconColor&quot;: &quot;red&quot;, &quot;markerColor&quot;: &quot;white&quot;, &quot;prefix&quot;: &quot;glyphicon&quot;}\n            );\n            marker_dbb0d1098a8cbd03d580d89b952f5448.setIcon(icon_de51d0fea42eb910d82b11aba32b779a);\n        \n    \n            var marker_3f3ee4c6872df6747dc4ebd89f30efa2 = L.marker(\n                [28.56230197, -80.57735648],\n                {}\n            ).addTo(marker_cluster_dedd7febf2d41b4ababe7364f638909e);\n        \n    \n            var icon_8e63382e0ed998ddb64b4d8a90507634 = L.AwesomeMarkers.icon(\n                {&quot;extraClasses&quot;: &quot;fa-rotate-0&quot;, &quot;icon&quot;: &quot;info-sign&quot;, &quot;iconColor&quot;: &quot;red&quot;, &quot;markerColor&quot;: &quot;white&quot;, &quot;prefix&quot;: &quot;glyphicon&quot;}\n            );\n            marker_3f3ee4c6872df6747dc4ebd89f30efa2.setIcon(icon_8e63382e0ed998ddb64b4d8a90507634);\n        \n    \n            var marker_8676fb22647565a2b7b6844b6a384ede = L.marker(\n                [28.56230197, -80.57735648],\n                {}\n            ).addTo(marker_cluster_dedd7febf2d41b4ababe7364f638909e);\n        \n    \n            var icon_e9758b6220e9677f6f5a0233d718b73d = L.AwesomeMarkers.icon(\n                {&quot;extraClasses&quot;: &quot;fa-rotate-0&quot;, &quot;icon&quot;: &quot;info-sign&quot;, &quot;iconColor&quot;: &quot;red&quot;, &quot;markerColor&quot;: &quot;white&quot;, &quot;prefix&quot;: &quot;glyphicon&quot;}\n            );\n            marker_8676fb22647565a2b7b6844b6a384ede.setIcon(icon_e9758b6220e9677f6f5a0233d718b73d);\n        \n    \n            var marker_6fd4d51bc59b96413d3ea96d04d731e2 = L.marker(\n                [28.56230197, -80.57735648],\n                {}\n            ).addTo(marker_cluster_dedd7febf2d41b4ababe7364f638909e);\n        \n    \n            var icon_38fe344fb3e15233bf48ad8d01c60796 = L.AwesomeMarkers.icon(\n                {&quot;extraClasses&quot;: &quot;fa-rotate-0&quot;, &quot;icon&quot;: &quot;info-sign&quot;, &quot;iconColor&quot;: &quot;red&quot;, &quot;markerColor&quot;: &quot;white&quot;, &quot;prefix&quot;: &quot;glyphicon&quot;}\n            );\n            marker_6fd4d51bc59b96413d3ea96d04d731e2.setIcon(icon_38fe344fb3e15233bf48ad8d01c60796);\n        \n    \n            var marker_969e69a8556032f535fcd306d2b1d2f2 = L.marker(\n                [28.56230197, -80.57735648],\n                {}\n            ).addTo(marker_cluster_dedd7febf2d41b4ababe7364f638909e);\n        \n    \n            var icon_9bd86f9b7de11823c53de15416240128 = L.AwesomeMarkers.icon(\n                {&quot;extraClasses&quot;: &quot;fa-rotate-0&quot;, &quot;icon&quot;: &quot;info-sign&quot;, &quot;iconColor&quot;: &quot;red&quot;, &quot;markerColor&quot;: &quot;white&quot;, &quot;prefix&quot;: &quot;glyphicon&quot;}\n            );\n            marker_969e69a8556032f535fcd306d2b1d2f2.setIcon(icon_9bd86f9b7de11823c53de15416240128);\n        \n    \n            var marker_7070ec50c12eb8277300eaf7f913a498 = L.marker(\n                [28.56230197, -80.57735648],\n                {}\n            ).addTo(marker_cluster_dedd7febf2d41b4ababe7364f638909e);\n        \n    \n            var icon_5e9a43fe511032dced3dddab045fcb50 = L.AwesomeMarkers.icon(\n                {&quot;extraClasses&quot;: &quot;fa-rotate-0&quot;, &quot;icon&quot;: &quot;info-sign&quot;, &quot;iconColor&quot;: &quot;red&quot;, &quot;markerColor&quot;: &quot;white&quot;, &quot;prefix&quot;: &quot;glyphicon&quot;}\n            );\n            marker_7070ec50c12eb8277300eaf7f913a498.setIcon(icon_5e9a43fe511032dced3dddab045fcb50);\n        \n    \n            var marker_d18c90565ad8f436effca9a7b59b41c1 = L.marker(\n                [28.56230197, -80.57735648],\n                {}\n            ).addTo(marker_cluster_dedd7febf2d41b4ababe7364f638909e);\n        \n    \n            var icon_c8e5ba08c873bc40557d8fa9d2fad101 = L.AwesomeMarkers.icon(\n                {&quot;extraClasses&quot;: &quot;fa-rotate-0&quot;, &quot;icon&quot;: &quot;info-sign&quot;, &quot;iconColor&quot;: &quot;red&quot;, &quot;markerColor&quot;: &quot;white&quot;, &quot;prefix&quot;: &quot;glyphicon&quot;}\n            );\n            marker_d18c90565ad8f436effca9a7b59b41c1.setIcon(icon_c8e5ba08c873bc40557d8fa9d2fad101);\n        \n    \n            var marker_54ece4779193ffa437fb7b4e0bf52b64 = L.marker(\n                [28.56230197, -80.57735648],\n                {}\n            ).addTo(marker_cluster_dedd7febf2d41b4ababe7364f638909e);\n        \n    \n            var icon_879306bb51bff8d75549b099964db2e0 = L.AwesomeMarkers.icon(\n                {&quot;extraClasses&quot;: &quot;fa-rotate-0&quot;, &quot;icon&quot;: &quot;info-sign&quot;, &quot;iconColor&quot;: &quot;red&quot;, &quot;markerColor&quot;: &quot;white&quot;, &quot;prefix&quot;: &quot;glyphicon&quot;}\n            );\n            marker_54ece4779193ffa437fb7b4e0bf52b64.setIcon(icon_879306bb51bff8d75549b099964db2e0);\n        \n    \n            var marker_2da373d2cd01ecff4d55c35c2a22e9fe = L.marker(\n                [28.56230197, -80.57735648],\n                {}\n            ).addTo(marker_cluster_dedd7febf2d41b4ababe7364f638909e);\n        \n    \n            var icon_900f341a96e956aa68502bbd45f62b83 = L.AwesomeMarkers.icon(\n                {&quot;extraClasses&quot;: &quot;fa-rotate-0&quot;, &quot;icon&quot;: &quot;info-sign&quot;, &quot;iconColor&quot;: &quot;red&quot;, &quot;markerColor&quot;: &quot;white&quot;, &quot;prefix&quot;: &quot;glyphicon&quot;}\n            );\n            marker_2da373d2cd01ecff4d55c35c2a22e9fe.setIcon(icon_900f341a96e956aa68502bbd45f62b83);\n        \n    \n            var marker_a47bc3e40da491b23bb4efc24eac1223 = L.marker(\n                [28.56230197, -80.57735648],\n                {}\n            ).addTo(marker_cluster_dedd7febf2d41b4ababe7364f638909e);\n        \n    \n            var icon_081c6533518b6f9a7286dad054ec358d = L.AwesomeMarkers.icon(\n                {&quot;extraClasses&quot;: &quot;fa-rotate-0&quot;, &quot;icon&quot;: &quot;info-sign&quot;, &quot;iconColor&quot;: &quot;red&quot;, &quot;markerColor&quot;: &quot;white&quot;, &quot;prefix&quot;: &quot;glyphicon&quot;}\n            );\n            marker_a47bc3e40da491b23bb4efc24eac1223.setIcon(icon_081c6533518b6f9a7286dad054ec358d);\n        \n    \n            var marker_b27d5c7816cace69ce901d54bfcc8a26 = L.marker(\n                [28.56230197, -80.57735648],\n                {}\n            ).addTo(marker_cluster_dedd7febf2d41b4ababe7364f638909e);\n        \n    \n            var icon_aa0dbfa4479181c50b0b2222650d734e = L.AwesomeMarkers.icon(\n                {&quot;extraClasses&quot;: &quot;fa-rotate-0&quot;, &quot;icon&quot;: &quot;info-sign&quot;, &quot;iconColor&quot;: &quot;green&quot;, &quot;markerColor&quot;: &quot;white&quot;, &quot;prefix&quot;: &quot;glyphicon&quot;}\n            );\n            marker_b27d5c7816cace69ce901d54bfcc8a26.setIcon(icon_aa0dbfa4479181c50b0b2222650d734e);\n        \n    \n            var marker_1bf9b9a7fa8582ac3af70d8764abfd6c = L.marker(\n                [28.56230197, -80.57735648],\n                {}\n            ).addTo(marker_cluster_dedd7febf2d41b4ababe7364f638909e);\n        \n    \n            var icon_2f874165ac50e84077e425618b1e765f = L.AwesomeMarkers.icon(\n                {&quot;extraClasses&quot;: &quot;fa-rotate-0&quot;, &quot;icon&quot;: &quot;info-sign&quot;, &quot;iconColor&quot;: &quot;green&quot;, &quot;markerColor&quot;: &quot;white&quot;, &quot;prefix&quot;: &quot;glyphicon&quot;}\n            );\n            marker_1bf9b9a7fa8582ac3af70d8764abfd6c.setIcon(icon_2f874165ac50e84077e425618b1e765f);\n        \n    \n            var marker_5541f2d81c98cbe9193703ff49a560b5 = L.marker(\n                [28.56230197, -80.57735648],\n                {}\n            ).addTo(marker_cluster_dedd7febf2d41b4ababe7364f638909e);\n        \n    \n            var icon_a523555c3248265763fe3e29a1bf94c8 = L.AwesomeMarkers.icon(\n                {&quot;extraClasses&quot;: &quot;fa-rotate-0&quot;, &quot;icon&quot;: &quot;info-sign&quot;, &quot;iconColor&quot;: &quot;red&quot;, &quot;markerColor&quot;: &quot;white&quot;, &quot;prefix&quot;: &quot;glyphicon&quot;}\n            );\n            marker_5541f2d81c98cbe9193703ff49a560b5.setIcon(icon_a523555c3248265763fe3e29a1bf94c8);\n        \n    \n            var marker_17c9841ac7f67c565fdf6319d5179078 = L.marker(\n                [28.56230197, -80.57735648],\n                {}\n            ).addTo(marker_cluster_dedd7febf2d41b4ababe7364f638909e);\n        \n    \n            var icon_969e2efd259591c0d4efb87828c976e9 = L.AwesomeMarkers.icon(\n                {&quot;extraClasses&quot;: &quot;fa-rotate-0&quot;, &quot;icon&quot;: &quot;info-sign&quot;, &quot;iconColor&quot;: &quot;green&quot;, &quot;markerColor&quot;: &quot;white&quot;, &quot;prefix&quot;: &quot;glyphicon&quot;}\n            );\n            marker_17c9841ac7f67c565fdf6319d5179078.setIcon(icon_969e2efd259591c0d4efb87828c976e9);\n        \n    \n            var marker_3fb297078e3e67dd42198883e57edceb = L.marker(\n                [28.56230197, -80.57735648],\n                {}\n            ).addTo(marker_cluster_dedd7febf2d41b4ababe7364f638909e);\n        \n    \n            var icon_dbd646d589153bf69acd586ac6de3ee9 = L.AwesomeMarkers.icon(\n                {&quot;extraClasses&quot;: &quot;fa-rotate-0&quot;, &quot;icon&quot;: &quot;info-sign&quot;, &quot;iconColor&quot;: &quot;green&quot;, &quot;markerColor&quot;: &quot;white&quot;, &quot;prefix&quot;: &quot;glyphicon&quot;}\n            );\n            marker_3fb297078e3e67dd42198883e57edceb.setIcon(icon_dbd646d589153bf69acd586ac6de3ee9);\n        \n    \n            var marker_f0e7c72feb0b84eab232219f668c9df0 = L.marker(\n                [28.56230197, -80.57735648],\n                {}\n            ).addTo(marker_cluster_dedd7febf2d41b4ababe7364f638909e);\n        \n    \n            var icon_9f09fd46c4c4a20daa02a22e03a58358 = L.AwesomeMarkers.icon(\n                {&quot;extraClasses&quot;: &quot;fa-rotate-0&quot;, &quot;icon&quot;: &quot;info-sign&quot;, &quot;iconColor&quot;: &quot;green&quot;, &quot;markerColor&quot;: &quot;white&quot;, &quot;prefix&quot;: &quot;glyphicon&quot;}\n            );\n            marker_f0e7c72feb0b84eab232219f668c9df0.setIcon(icon_9f09fd46c4c4a20daa02a22e03a58358);\n        \n    \n            var marker_31d06aa91a191fcac544f41864bb9c64 = L.marker(\n                [28.56230197, -80.57735648],\n                {}\n            ).addTo(marker_cluster_dedd7febf2d41b4ababe7364f638909e);\n        \n    \n            var icon_e6a19d9d479ef90419279102551ff03d = L.AwesomeMarkers.icon(\n                {&quot;extraClasses&quot;: &quot;fa-rotate-0&quot;, &quot;icon&quot;: &quot;info-sign&quot;, &quot;iconColor&quot;: &quot;red&quot;, &quot;markerColor&quot;: &quot;white&quot;, &quot;prefix&quot;: &quot;glyphicon&quot;}\n            );\n            marker_31d06aa91a191fcac544f41864bb9c64.setIcon(icon_e6a19d9d479ef90419279102551ff03d);\n        \n    \n            var marker_d4ca9320136e9cffe99b5ea9edc8746f = L.marker(\n                [28.56230197, -80.57735648],\n                {}\n            ).addTo(marker_cluster_dedd7febf2d41b4ababe7364f638909e);\n        \n    \n            var icon_c8a747b94c61e60c7264d7cdf089a025 = L.AwesomeMarkers.icon(\n                {&quot;extraClasses&quot;: &quot;fa-rotate-0&quot;, &quot;icon&quot;: &quot;info-sign&quot;, &quot;iconColor&quot;: &quot;green&quot;, &quot;markerColor&quot;: &quot;white&quot;, &quot;prefix&quot;: &quot;glyphicon&quot;}\n            );\n            marker_d4ca9320136e9cffe99b5ea9edc8746f.setIcon(icon_c8a747b94c61e60c7264d7cdf089a025);\n        \n    \n            var marker_f999cc973b6dc59c5e6b8c8a0d620b9f = L.marker(\n                [28.56230197, -80.57735648],\n                {}\n            ).addTo(marker_cluster_dedd7febf2d41b4ababe7364f638909e);\n        \n    \n            var icon_e61000628abbcd1fff16ab1bcb22d83a = L.AwesomeMarkers.icon(\n                {&quot;extraClasses&quot;: &quot;fa-rotate-0&quot;, &quot;icon&quot;: &quot;info-sign&quot;, &quot;iconColor&quot;: &quot;green&quot;, &quot;markerColor&quot;: &quot;white&quot;, &quot;prefix&quot;: &quot;glyphicon&quot;}\n            );\n            marker_f999cc973b6dc59c5e6b8c8a0d620b9f.setIcon(icon_e61000628abbcd1fff16ab1bcb22d83a);\n        \n    \n            var marker_3e35b3b96725223b829f1236ad35dffb = L.marker(\n                [34.63283416, -120.6107455],\n                {}\n            ).addTo(marker_cluster_dedd7febf2d41b4ababe7364f638909e);\n        \n    \n            var icon_62e0518cd244c22e61c4256dbcb6d887 = L.AwesomeMarkers.icon(\n                {&quot;extraClasses&quot;: &quot;fa-rotate-0&quot;, &quot;icon&quot;: &quot;info-sign&quot;, &quot;iconColor&quot;: &quot;red&quot;, &quot;markerColor&quot;: &quot;white&quot;, &quot;prefix&quot;: &quot;glyphicon&quot;}\n            );\n            marker_3e35b3b96725223b829f1236ad35dffb.setIcon(icon_62e0518cd244c22e61c4256dbcb6d887);\n        \n    \n            var marker_4faa1a3191eb759a1992cb9d74ad2f3d = L.marker(\n                [34.63283416, -120.6107455],\n                {}\n            ).addTo(marker_cluster_dedd7febf2d41b4ababe7364f638909e);\n        \n    \n            var icon_27fcf0acbfcd03e2593e726e91dc90ae = L.AwesomeMarkers.icon(\n                {&quot;extraClasses&quot;: &quot;fa-rotate-0&quot;, &quot;icon&quot;: &quot;info-sign&quot;, &quot;iconColor&quot;: &quot;red&quot;, &quot;markerColor&quot;: &quot;white&quot;, &quot;prefix&quot;: &quot;glyphicon&quot;}\n            );\n            marker_4faa1a3191eb759a1992cb9d74ad2f3d.setIcon(icon_27fcf0acbfcd03e2593e726e91dc90ae);\n        \n    \n            var marker_d4646d86070c44f67be2c475d304798a = L.marker(\n                [34.63283416, -120.6107455],\n                {}\n            ).addTo(marker_cluster_dedd7febf2d41b4ababe7364f638909e);\n        \n    \n            var icon_ed444bca6b49e9cd29e0bf5abe706b92 = L.AwesomeMarkers.icon(\n                {&quot;extraClasses&quot;: &quot;fa-rotate-0&quot;, &quot;icon&quot;: &quot;info-sign&quot;, &quot;iconColor&quot;: &quot;green&quot;, &quot;markerColor&quot;: &quot;white&quot;, &quot;prefix&quot;: &quot;glyphicon&quot;}\n            );\n            marker_d4646d86070c44f67be2c475d304798a.setIcon(icon_ed444bca6b49e9cd29e0bf5abe706b92);\n        \n    \n            var marker_de75ea38a63df9ab9763f487fd385b02 = L.marker(\n                [34.63283416, -120.6107455],\n                {}\n            ).addTo(marker_cluster_dedd7febf2d41b4ababe7364f638909e);\n        \n    \n            var icon_4333dcd3f132810b2b3651a55e08e9a4 = L.AwesomeMarkers.icon(\n                {&quot;extraClasses&quot;: &quot;fa-rotate-0&quot;, &quot;icon&quot;: &quot;info-sign&quot;, &quot;iconColor&quot;: &quot;green&quot;, &quot;markerColor&quot;: &quot;white&quot;, &quot;prefix&quot;: &quot;glyphicon&quot;}\n            );\n            marker_de75ea38a63df9ab9763f487fd385b02.setIcon(icon_4333dcd3f132810b2b3651a55e08e9a4);\n        \n    \n            var marker_e2d6e0fb11ffeb900fb7af0ecee358d6 = L.marker(\n                [34.63283416, -120.6107455],\n                {}\n            ).addTo(marker_cluster_dedd7febf2d41b4ababe7364f638909e);\n        \n    \n            var icon_2782a43b4c9e5d0cdcd4dd54dc234285 = L.AwesomeMarkers.icon(\n                {&quot;extraClasses&quot;: &quot;fa-rotate-0&quot;, &quot;icon&quot;: &quot;info-sign&quot;, &quot;iconColor&quot;: &quot;green&quot;, &quot;markerColor&quot;: &quot;white&quot;, &quot;prefix&quot;: &quot;glyphicon&quot;}\n            );\n            marker_e2d6e0fb11ffeb900fb7af0ecee358d6.setIcon(icon_2782a43b4c9e5d0cdcd4dd54dc234285);\n        \n    \n            var marker_26086e82114bfb966e33f570bf2912e7 = L.marker(\n                [34.63283416, -120.6107455],\n                {}\n            ).addTo(marker_cluster_dedd7febf2d41b4ababe7364f638909e);\n        \n    \n            var icon_cb9eb5c0d84c24d805ae83da43e3f19d = L.AwesomeMarkers.icon(\n                {&quot;extraClasses&quot;: &quot;fa-rotate-0&quot;, &quot;icon&quot;: &quot;info-sign&quot;, &quot;iconColor&quot;: &quot;green&quot;, &quot;markerColor&quot;: &quot;white&quot;, &quot;prefix&quot;: &quot;glyphicon&quot;}\n            );\n            marker_26086e82114bfb966e33f570bf2912e7.setIcon(icon_cb9eb5c0d84c24d805ae83da43e3f19d);\n        \n    \n            var marker_a6ad893867f29ca46661d28ed79eda0d = L.marker(\n                [34.63283416, -120.6107455],\n                {}\n            ).addTo(marker_cluster_dedd7febf2d41b4ababe7364f638909e);\n        \n    \n            var icon_f114e9d108f41cfd3090ee678547cf61 = L.AwesomeMarkers.icon(\n                {&quot;extraClasses&quot;: &quot;fa-rotate-0&quot;, &quot;icon&quot;: &quot;info-sign&quot;, &quot;iconColor&quot;: &quot;red&quot;, &quot;markerColor&quot;: &quot;white&quot;, &quot;prefix&quot;: &quot;glyphicon&quot;}\n            );\n            marker_a6ad893867f29ca46661d28ed79eda0d.setIcon(icon_f114e9d108f41cfd3090ee678547cf61);\n        \n    \n            var marker_89424d01d97c72ffe36ca1e5f3b82551 = L.marker(\n                [34.63283416, -120.6107455],\n                {}\n            ).addTo(marker_cluster_dedd7febf2d41b4ababe7364f638909e);\n        \n    \n            var icon_8f99656ffe0ded0947534015139c32a3 = L.AwesomeMarkers.icon(\n                {&quot;extraClasses&quot;: &quot;fa-rotate-0&quot;, &quot;icon&quot;: &quot;info-sign&quot;, &quot;iconColor&quot;: &quot;red&quot;, &quot;markerColor&quot;: &quot;white&quot;, &quot;prefix&quot;: &quot;glyphicon&quot;}\n            );\n            marker_89424d01d97c72ffe36ca1e5f3b82551.setIcon(icon_8f99656ffe0ded0947534015139c32a3);\n        \n    \n            var marker_c605fdb9a0399eff8935c5ca03b41bcd = L.marker(\n                [34.63283416, -120.6107455],\n                {}\n            ).addTo(marker_cluster_dedd7febf2d41b4ababe7364f638909e);\n        \n    \n            var icon_f5bbaa1e2834d314f26dedf6c276ad83 = L.AwesomeMarkers.icon(\n                {&quot;extraClasses&quot;: &quot;fa-rotate-0&quot;, &quot;icon&quot;: &quot;info-sign&quot;, &quot;iconColor&quot;: &quot;red&quot;, &quot;markerColor&quot;: &quot;white&quot;, &quot;prefix&quot;: &quot;glyphicon&quot;}\n            );\n            marker_c605fdb9a0399eff8935c5ca03b41bcd.setIcon(icon_f5bbaa1e2834d314f26dedf6c276ad83);\n        \n    \n            var marker_109df51c51ce61562e915b205ba2e064 = L.marker(\n                [34.63283416, -120.6107455],\n                {}\n            ).addTo(marker_cluster_dedd7febf2d41b4ababe7364f638909e);\n        \n    \n            var icon_ac78e7c67db594ef8cb890df52196297 = L.AwesomeMarkers.icon(\n                {&quot;extraClasses&quot;: &quot;fa-rotate-0&quot;, &quot;icon&quot;: &quot;info-sign&quot;, &quot;iconColor&quot;: &quot;red&quot;, &quot;markerColor&quot;: &quot;white&quot;, &quot;prefix&quot;: &quot;glyphicon&quot;}\n            );\n            marker_109df51c51ce61562e915b205ba2e064.setIcon(icon_ac78e7c67db594ef8cb890df52196297);\n        \n    \n            var marker_6c04489c8a41202b627fd5734cc64d06 = L.marker(\n                [28.57325457, -80.64689529],\n                {}\n            ).addTo(marker_cluster_dedd7febf2d41b4ababe7364f638909e);\n        \n    \n            var icon_f0dba8aa8b2aea9d46a1d069f135a2b6 = L.AwesomeMarkers.icon(\n                {&quot;extraClasses&quot;: &quot;fa-rotate-0&quot;, &quot;icon&quot;: &quot;info-sign&quot;, &quot;iconColor&quot;: &quot;green&quot;, &quot;markerColor&quot;: &quot;white&quot;, &quot;prefix&quot;: &quot;glyphicon&quot;}\n            );\n            marker_6c04489c8a41202b627fd5734cc64d06.setIcon(icon_f0dba8aa8b2aea9d46a1d069f135a2b6);\n        \n    \n            var marker_5b04ccf123d03746ad483b99bbf1627d = L.marker(\n                [28.57325457, -80.64689529],\n                {}\n            ).addTo(marker_cluster_dedd7febf2d41b4ababe7364f638909e);\n        \n    \n            var icon_c5d656f3380a5682a2fdc02cfba39110 = L.AwesomeMarkers.icon(\n                {&quot;extraClasses&quot;: &quot;fa-rotate-0&quot;, &quot;icon&quot;: &quot;info-sign&quot;, &quot;iconColor&quot;: &quot;red&quot;, &quot;markerColor&quot;: &quot;white&quot;, &quot;prefix&quot;: &quot;glyphicon&quot;}\n            );\n            marker_5b04ccf123d03746ad483b99bbf1627d.setIcon(icon_c5d656f3380a5682a2fdc02cfba39110);\n        \n    \n            var marker_c26e77b1f47236ec08c4867d96682886 = L.marker(\n                [28.57325457, -80.64689529],\n                {}\n            ).addTo(marker_cluster_dedd7febf2d41b4ababe7364f638909e);\n        \n    \n            var icon_10ef79a8eee690b5c9c3b6e1be97f44f = L.AwesomeMarkers.icon(\n                {&quot;extraClasses&quot;: &quot;fa-rotate-0&quot;, &quot;icon&quot;: &quot;info-sign&quot;, &quot;iconColor&quot;: &quot;green&quot;, &quot;markerColor&quot;: &quot;white&quot;, &quot;prefix&quot;: &quot;glyphicon&quot;}\n            );\n            marker_c26e77b1f47236ec08c4867d96682886.setIcon(icon_10ef79a8eee690b5c9c3b6e1be97f44f);\n        \n    \n            var marker_528979a3a7fc7f8f27f40504397f5cec = L.marker(\n                [28.57325457, -80.64689529],\n                {}\n            ).addTo(marker_cluster_dedd7febf2d41b4ababe7364f638909e);\n        \n    \n            var icon_cb3f767e79c0f4d4f1fa6d377a7a5cbf = L.AwesomeMarkers.icon(\n                {&quot;extraClasses&quot;: &quot;fa-rotate-0&quot;, &quot;icon&quot;: &quot;info-sign&quot;, &quot;iconColor&quot;: &quot;green&quot;, &quot;markerColor&quot;: &quot;white&quot;, &quot;prefix&quot;: &quot;glyphicon&quot;}\n            );\n            marker_528979a3a7fc7f8f27f40504397f5cec.setIcon(icon_cb3f767e79c0f4d4f1fa6d377a7a5cbf);\n        \n    \n            var marker_8b3b3df5bdfaf42077a9d743ed4cdc4a = L.marker(\n                [28.57325457, -80.64689529],\n                {}\n            ).addTo(marker_cluster_dedd7febf2d41b4ababe7364f638909e);\n        \n    \n            var icon_96ede3716e3f2f8112f9deef75980171 = L.AwesomeMarkers.icon(\n                {&quot;extraClasses&quot;: &quot;fa-rotate-0&quot;, &quot;icon&quot;: &quot;info-sign&quot;, &quot;iconColor&quot;: &quot;red&quot;, &quot;markerColor&quot;: &quot;white&quot;, &quot;prefix&quot;: &quot;glyphicon&quot;}\n            );\n            marker_8b3b3df5bdfaf42077a9d743ed4cdc4a.setIcon(icon_96ede3716e3f2f8112f9deef75980171);\n        \n    \n            var marker_2027db0f30cb849189af3cc57de12ad5 = L.marker(\n                [28.57325457, -80.64689529],\n                {}\n            ).addTo(marker_cluster_dedd7febf2d41b4ababe7364f638909e);\n        \n    \n            var icon_547d4e5aff39fdc695ca43f5b70a99c9 = L.AwesomeMarkers.icon(\n                {&quot;extraClasses&quot;: &quot;fa-rotate-0&quot;, &quot;icon&quot;: &quot;info-sign&quot;, &quot;iconColor&quot;: &quot;green&quot;, &quot;markerColor&quot;: &quot;white&quot;, &quot;prefix&quot;: &quot;glyphicon&quot;}\n            );\n            marker_2027db0f30cb849189af3cc57de12ad5.setIcon(icon_547d4e5aff39fdc695ca43f5b70a99c9);\n        \n    \n            var marker_e60baa3520d3cbce39eb48038f00c161 = L.marker(\n                [28.57325457, -80.64689529],\n                {}\n            ).addTo(marker_cluster_dedd7febf2d41b4ababe7364f638909e);\n        \n    \n            var icon_06081540ecf1bd0d7d5fdc86c041ad15 = L.AwesomeMarkers.icon(\n                {&quot;extraClasses&quot;: &quot;fa-rotate-0&quot;, &quot;icon&quot;: &quot;info-sign&quot;, &quot;iconColor&quot;: &quot;green&quot;, &quot;markerColor&quot;: &quot;white&quot;, &quot;prefix&quot;: &quot;glyphicon&quot;}\n            );\n            marker_e60baa3520d3cbce39eb48038f00c161.setIcon(icon_06081540ecf1bd0d7d5fdc86c041ad15);\n        \n    \n            var marker_63e9624484827bf9bf8b2234de671b03 = L.marker(\n                [28.57325457, -80.64689529],\n                {}\n            ).addTo(marker_cluster_dedd7febf2d41b4ababe7364f638909e);\n        \n    \n            var icon_2824807b0870332e12840a03f5365a81 = L.AwesomeMarkers.icon(\n                {&quot;extraClasses&quot;: &quot;fa-rotate-0&quot;, &quot;icon&quot;: &quot;info-sign&quot;, &quot;iconColor&quot;: &quot;red&quot;, &quot;markerColor&quot;: &quot;white&quot;, &quot;prefix&quot;: &quot;glyphicon&quot;}\n            );\n            marker_63e9624484827bf9bf8b2234de671b03.setIcon(icon_2824807b0870332e12840a03f5365a81);\n        \n    \n            var marker_63e1ff0fea40a736baa164f2d31d86c3 = L.marker(\n                [28.57325457, -80.64689529],\n                {}\n            ).addTo(marker_cluster_dedd7febf2d41b4ababe7364f638909e);\n        \n    \n            var icon_4c7c39ba954335a74dd0bda2ed6cc174 = L.AwesomeMarkers.icon(\n                {&quot;extraClasses&quot;: &quot;fa-rotate-0&quot;, &quot;icon&quot;: &quot;info-sign&quot;, &quot;iconColor&quot;: &quot;green&quot;, &quot;markerColor&quot;: &quot;white&quot;, &quot;prefix&quot;: &quot;glyphicon&quot;}\n            );\n            marker_63e1ff0fea40a736baa164f2d31d86c3.setIcon(icon_4c7c39ba954335a74dd0bda2ed6cc174);\n        \n    \n            var marker_7d9cdf6ac9969c6211f303bbccb41f53 = L.marker(\n                [28.57325457, -80.64689529],\n                {}\n            ).addTo(marker_cluster_dedd7febf2d41b4ababe7364f638909e);\n        \n    \n            var icon_4767e2fb4acd5477832ce6fcf1861e39 = L.AwesomeMarkers.icon(\n                {&quot;extraClasses&quot;: &quot;fa-rotate-0&quot;, &quot;icon&quot;: &quot;info-sign&quot;, &quot;iconColor&quot;: &quot;green&quot;, &quot;markerColor&quot;: &quot;white&quot;, &quot;prefix&quot;: &quot;glyphicon&quot;}\n            );\n            marker_7d9cdf6ac9969c6211f303bbccb41f53.setIcon(icon_4767e2fb4acd5477832ce6fcf1861e39);\n        \n    \n            var marker_2e4fcc987f0c89b41127fdf77f8756b8 = L.marker(\n                [28.57325457, -80.64689529],\n                {}\n            ).addTo(marker_cluster_dedd7febf2d41b4ababe7364f638909e);\n        \n    \n            var icon_0de0e85579b8caf9f4918a73bda0964d = L.AwesomeMarkers.icon(\n                {&quot;extraClasses&quot;: &quot;fa-rotate-0&quot;, &quot;icon&quot;: &quot;info-sign&quot;, &quot;iconColor&quot;: &quot;green&quot;, &quot;markerColor&quot;: &quot;white&quot;, &quot;prefix&quot;: &quot;glyphicon&quot;}\n            );\n            marker_2e4fcc987f0c89b41127fdf77f8756b8.setIcon(icon_0de0e85579b8caf9f4918a73bda0964d);\n        \n    \n            var marker_899c6713985ab9efd318b924f912b5e6 = L.marker(\n                [28.57325457, -80.64689529],\n                {}\n            ).addTo(marker_cluster_dedd7febf2d41b4ababe7364f638909e);\n        \n    \n            var icon_e11a9b41aa07910a173a25aed0d96a42 = L.AwesomeMarkers.icon(\n                {&quot;extraClasses&quot;: &quot;fa-rotate-0&quot;, &quot;icon&quot;: &quot;info-sign&quot;, &quot;iconColor&quot;: &quot;green&quot;, &quot;markerColor&quot;: &quot;white&quot;, &quot;prefix&quot;: &quot;glyphicon&quot;}\n            );\n            marker_899c6713985ab9efd318b924f912b5e6.setIcon(icon_e11a9b41aa07910a173a25aed0d96a42);\n        \n    \n            var marker_792b9a90225885f0d6f23694d0beaa5f = L.marker(\n                [28.57325457, -80.64689529],\n                {}\n            ).addTo(marker_cluster_dedd7febf2d41b4ababe7364f638909e);\n        \n    \n            var icon_f474c33841bef88809cd4791806a9cad = L.AwesomeMarkers.icon(\n                {&quot;extraClasses&quot;: &quot;fa-rotate-0&quot;, &quot;icon&quot;: &quot;info-sign&quot;, &quot;iconColor&quot;: &quot;green&quot;, &quot;markerColor&quot;: &quot;white&quot;, &quot;prefix&quot;: &quot;glyphicon&quot;}\n            );\n            marker_792b9a90225885f0d6f23694d0beaa5f.setIcon(icon_f474c33841bef88809cd4791806a9cad);\n        \n    \n            var marker_73d365135facb9b5b973171b857d1bd6 = L.marker(\n                [28.56319718, -80.57682003],\n                {}\n            ).addTo(marker_cluster_dedd7febf2d41b4ababe7364f638909e);\n        \n    \n            var icon_01bc4e34171484cf867611ca48ffd229 = L.AwesomeMarkers.icon(\n                {&quot;extraClasses&quot;: &quot;fa-rotate-0&quot;, &quot;icon&quot;: &quot;info-sign&quot;, &quot;iconColor&quot;: &quot;green&quot;, &quot;markerColor&quot;: &quot;white&quot;, &quot;prefix&quot;: &quot;glyphicon&quot;}\n            );\n            marker_73d365135facb9b5b973171b857d1bd6.setIcon(icon_01bc4e34171484cf867611ca48ffd229);\n        \n    \n            var marker_593aa39956ef796c69c76c37bccfe80e = L.marker(\n                [28.56319718, -80.57682003],\n                {}\n            ).addTo(marker_cluster_dedd7febf2d41b4ababe7364f638909e);\n        \n    \n            var icon_2cc0319cd568c2d11b0f13e12db1fa85 = L.AwesomeMarkers.icon(\n                {&quot;extraClasses&quot;: &quot;fa-rotate-0&quot;, &quot;icon&quot;: &quot;info-sign&quot;, &quot;iconColor&quot;: &quot;green&quot;, &quot;markerColor&quot;: &quot;white&quot;, &quot;prefix&quot;: &quot;glyphicon&quot;}\n            );\n            marker_593aa39956ef796c69c76c37bccfe80e.setIcon(icon_2cc0319cd568c2d11b0f13e12db1fa85);\n        \n    \n            var marker_edc3c83540168f6c4b81214656a82b29 = L.marker(\n                [28.56319718, -80.57682003],\n                {}\n            ).addTo(marker_cluster_dedd7febf2d41b4ababe7364f638909e);\n        \n    \n            var icon_3af4d38a34f014477d95a1d4a8f2426b = L.AwesomeMarkers.icon(\n                {&quot;extraClasses&quot;: &quot;fa-rotate-0&quot;, &quot;icon&quot;: &quot;info-sign&quot;, &quot;iconColor&quot;: &quot;red&quot;, &quot;markerColor&quot;: &quot;white&quot;, &quot;prefix&quot;: &quot;glyphicon&quot;}\n            );\n            marker_edc3c83540168f6c4b81214656a82b29.setIcon(icon_3af4d38a34f014477d95a1d4a8f2426b);\n        \n    \n            var marker_a71cd5f05f09aa157d70b74b9ecf3ac7 = L.marker(\n                [28.56319718, -80.57682003],\n                {}\n            ).addTo(marker_cluster_dedd7febf2d41b4ababe7364f638909e);\n        \n    \n            var icon_6268e4f0a2f473bef0e629e4052576e3 = L.AwesomeMarkers.icon(\n                {&quot;extraClasses&quot;: &quot;fa-rotate-0&quot;, &quot;icon&quot;: &quot;info-sign&quot;, &quot;iconColor&quot;: &quot;red&quot;, &quot;markerColor&quot;: &quot;white&quot;, &quot;prefix&quot;: &quot;glyphicon&quot;}\n            );\n            marker_a71cd5f05f09aa157d70b74b9ecf3ac7.setIcon(icon_6268e4f0a2f473bef0e629e4052576e3);\n        \n    \n            var marker_c861aa66ebb28e4be9557c8124726af1 = L.marker(\n                [28.56319718, -80.57682003],\n                {}\n            ).addTo(marker_cluster_dedd7febf2d41b4ababe7364f638909e);\n        \n    \n            var icon_7c8a42357ac1de0a0d998fb86cb1678e = L.AwesomeMarkers.icon(\n                {&quot;extraClasses&quot;: &quot;fa-rotate-0&quot;, &quot;icon&quot;: &quot;info-sign&quot;, &quot;iconColor&quot;: &quot;red&quot;, &quot;markerColor&quot;: &quot;white&quot;, &quot;prefix&quot;: &quot;glyphicon&quot;}\n            );\n            marker_c861aa66ebb28e4be9557c8124726af1.setIcon(icon_7c8a42357ac1de0a0d998fb86cb1678e);\n        \n    \n            var marker_21036cad26219e52a0b331cabffd1a5b = L.marker(\n                [28.56319718, -80.57682003],\n                {}\n            ).addTo(marker_cluster_dedd7febf2d41b4ababe7364f638909e);\n        \n    \n            var icon_8d8d2c9fd0ac5a015484ebd895da05fe = L.AwesomeMarkers.icon(\n                {&quot;extraClasses&quot;: &quot;fa-rotate-0&quot;, &quot;icon&quot;: &quot;info-sign&quot;, &quot;iconColor&quot;: &quot;green&quot;, &quot;markerColor&quot;: &quot;white&quot;, &quot;prefix&quot;: &quot;glyphicon&quot;}\n            );\n            marker_21036cad26219e52a0b331cabffd1a5b.setIcon(icon_8d8d2c9fd0ac5a015484ebd895da05fe);\n        \n    \n            var marker_8831bc7f20f5bfb3fa10b698f9b03a85 = L.marker(\n                [28.56319718, -80.57682003],\n                {}\n            ).addTo(marker_cluster_dedd7febf2d41b4ababe7364f638909e);\n        \n    \n            var icon_c1f18d39f0dc868ec85b13aa8991932e = L.AwesomeMarkers.icon(\n                {&quot;extraClasses&quot;: &quot;fa-rotate-0&quot;, &quot;icon&quot;: &quot;info-sign&quot;, &quot;iconColor&quot;: &quot;red&quot;, &quot;markerColor&quot;: &quot;white&quot;, &quot;prefix&quot;: &quot;glyphicon&quot;}\n            );\n            marker_8831bc7f20f5bfb3fa10b698f9b03a85.setIcon(icon_c1f18d39f0dc868ec85b13aa8991932e);\n        \n&lt;/script&gt;\n&lt;/html&gt;\" style=\"position:absolute;width:100%;height:100%;left:0;top:0;border:none !important;\" allowfullscreen webkitallowfullscreen mozallowfullscreen></iframe></div></div>"
     },
     "execution_count": 44,
     "metadata": {},
     "output_type": "execute_result"
    }
   ],
   "source": [
    "# Add marker_cluster to current site_map\n",
    "site_map.add_child(marker_cluster)\n",
    "\n",
    "# for each row in spacex_df data frame\n",
    "# create a Marker object with its coordinate\n",
    "# and customize the Marker's icon property to indicate if this launch was successed or failed, \n",
    "# e.g., icon=folium.Icon(color='white', icon_color=row['marker_color']\n",
    "for index, record in spacex_df.iterrows():\n",
    "    # TODO: Create and add a Marker cluster to the site map\n",
    "    marker = folium.Marker(\n",
    "        (record['Lat'], record['Long']),\n",
    "        icon=folium.Icon(color='white', icon_color=record['marker_color'])\n",
    "    )\n",
    "    marker_cluster.add_child(marker)\n",
    "\n",
    "site_map"
   ]
  },
  {
   "cell_type": "markdown",
   "metadata": {},
   "source": [
    "Your updated map may look like the following screenshots:\n"
   ]
  },
  {
   "cell_type": "markdown",
   "metadata": {},
   "source": [
    "<center>\n",
    "    <img src=\"https://cf-courses-data.s3.us.cloud-object-storage.appdomain.cloud/IBM-DS0321EN-SkillsNetwork/labs/module_3/images/launch_site_marker_cluster.png\">\n",
    "</center>\n"
   ]
  },
  {
   "cell_type": "markdown",
   "metadata": {},
   "source": [
    "<center>\n",
    "    <img src=\"https://cf-courses-data.s3.us.cloud-object-storage.appdomain.cloud/IBM-DS0321EN-SkillsNetwork/labs/module_3/images/launch_site_marker_cluster_zoomed.png\">\n",
    "</center>\n"
   ]
  },
  {
   "cell_type": "markdown",
   "metadata": {},
   "source": [
    "From the color-labeled markers in marker clusters, you should be able to easily identify which launch sites have relatively high success rates.\n"
   ]
  },
  {
   "cell_type": "markdown",
   "metadata": {},
   "source": [
    "# TASK 3: Calculate the distances between a launch site to its proximities\n"
   ]
  },
  {
   "cell_type": "markdown",
   "metadata": {},
   "source": [
    "Next, we need to explore and analyze the proximities of launch sites.\n"
   ]
  },
  {
   "cell_type": "markdown",
   "metadata": {},
   "source": [
    "Let's first add a `MousePosition` on the map to get coordinate for a mouse over a point on the map. As such, while you are exploring the map, you can easily find the coordinates of any points of interests (such as railway)\n"
   ]
  },
  {
   "cell_type": "code",
   "execution_count": 45,
   "metadata": {
    "ExecuteTime": {
     "end_time": "2023-11-09T11:46:48.273259Z",
     "start_time": "2023-11-09T11:46:48.200567Z"
    }
   },
   "outputs": [
    {
     "data": {
      "text/plain": "<folium.folium.Map at 0x11d15f110>",
      "text/html": "<div style=\"width:100%;\"><div style=\"position:relative;width:100%;height:0;padding-bottom:60%;\"><span style=\"color:#565656\">Make this Notebook Trusted to load map: File -> Trust Notebook</span><iframe srcdoc=\"&lt;!DOCTYPE html&gt;\n&lt;html&gt;\n&lt;head&gt;\n    \n    &lt;meta http-equiv=&quot;content-type&quot; content=&quot;text/html; charset=UTF-8&quot; /&gt;\n    \n        &lt;script&gt;\n            L_NO_TOUCH = false;\n            L_DISABLE_3D = false;\n        &lt;/script&gt;\n    \n    &lt;style&gt;html, body {width: 100%;height: 100%;margin: 0;padding: 0;}&lt;/style&gt;\n    &lt;style&gt;#map {position:absolute;top:0;bottom:0;right:0;left:0;}&lt;/style&gt;\n    &lt;script src=&quot;https://cdn.jsdelivr.net/npm/leaflet@1.9.3/dist/leaflet.js&quot;&gt;&lt;/script&gt;\n    &lt;script src=&quot;https://code.jquery.com/jquery-1.12.4.min.js&quot;&gt;&lt;/script&gt;\n    &lt;script src=&quot;https://cdn.jsdelivr.net/npm/bootstrap@5.2.2/dist/js/bootstrap.bundle.min.js&quot;&gt;&lt;/script&gt;\n    &lt;script src=&quot;https://cdnjs.cloudflare.com/ajax/libs/Leaflet.awesome-markers/2.0.2/leaflet.awesome-markers.js&quot;&gt;&lt;/script&gt;\n    &lt;link rel=&quot;stylesheet&quot; href=&quot;https://cdn.jsdelivr.net/npm/leaflet@1.9.3/dist/leaflet.css&quot;/&gt;\n    &lt;link rel=&quot;stylesheet&quot; href=&quot;https://cdn.jsdelivr.net/npm/bootstrap@5.2.2/dist/css/bootstrap.min.css&quot;/&gt;\n    &lt;link rel=&quot;stylesheet&quot; href=&quot;https://netdna.bootstrapcdn.com/bootstrap/3.0.0/css/bootstrap.min.css&quot;/&gt;\n    &lt;link rel=&quot;stylesheet&quot; href=&quot;https://cdn.jsdelivr.net/npm/@fortawesome/fontawesome-free@6.2.0/css/all.min.css&quot;/&gt;\n    &lt;link rel=&quot;stylesheet&quot; href=&quot;https://cdnjs.cloudflare.com/ajax/libs/Leaflet.awesome-markers/2.0.2/leaflet.awesome-markers.css&quot;/&gt;\n    &lt;link rel=&quot;stylesheet&quot; href=&quot;https://cdn.jsdelivr.net/gh/python-visualization/folium/folium/templates/leaflet.awesome.rotate.min.css&quot;/&gt;\n    \n            &lt;meta name=&quot;viewport&quot; content=&quot;width=device-width,\n                initial-scale=1.0, maximum-scale=1.0, user-scalable=no&quot; /&gt;\n            &lt;style&gt;\n                #map_f6a5cee732f4c78af0497aa04d72f9ad {\n                    position: relative;\n                    width: 100.0%;\n                    height: 100.0%;\n                    left: 0.0%;\n                    top: 0.0%;\n                }\n                .leaflet-container { font-size: 1rem; }\n            &lt;/style&gt;\n        \n    &lt;script src=&quot;https://cdnjs.cloudflare.com/ajax/libs/leaflet.markercluster/1.1.0/leaflet.markercluster.js&quot;&gt;&lt;/script&gt;\n    &lt;link rel=&quot;stylesheet&quot; href=&quot;https://cdnjs.cloudflare.com/ajax/libs/leaflet.markercluster/1.1.0/MarkerCluster.css&quot;/&gt;\n    &lt;link rel=&quot;stylesheet&quot; href=&quot;https://cdnjs.cloudflare.com/ajax/libs/leaflet.markercluster/1.1.0/MarkerCluster.Default.css&quot;/&gt;\n    &lt;script src=&quot;https://cdn.jsdelivr.net/gh/ardhi/Leaflet.MousePosition/src/L.Control.MousePosition.min.js&quot;&gt;&lt;/script&gt;\n    &lt;link rel=&quot;stylesheet&quot; href=&quot;https://cdn.jsdelivr.net/gh/ardhi/Leaflet.MousePosition/src/L.Control.MousePosition.min.css&quot;/&gt;\n&lt;/head&gt;\n&lt;body&gt;\n    \n    \n            &lt;div class=&quot;folium-map&quot; id=&quot;map_f6a5cee732f4c78af0497aa04d72f9ad&quot; &gt;&lt;/div&gt;\n        \n&lt;/body&gt;\n&lt;script&gt;\n    \n    \n            var map_f6a5cee732f4c78af0497aa04d72f9ad = L.map(\n                &quot;map_f6a5cee732f4c78af0497aa04d72f9ad&quot;,\n                {\n                    center: [29.559684888503615, -95.0830971930759],\n                    crs: L.CRS.EPSG3857,\n                    zoom: 5,\n                    zoomControl: true,\n                    preferCanvas: false,\n                }\n            );\n\n            \n\n        \n    \n            var tile_layer_f9e58fdb2a08bc0695a454326ef3281c = L.tileLayer(\n                &quot;https://{s}.tile.openstreetmap.org/{z}/{x}/{y}.png&quot;,\n                {&quot;attribution&quot;: &quot;Data by \\u0026copy; \\u003ca target=\\&quot;_blank\\&quot; href=\\&quot;http://openstreetmap.org\\&quot;\\u003eOpenStreetMap\\u003c/a\\u003e, under \\u003ca target=\\&quot;_blank\\&quot; href=\\&quot;http://www.openstreetmap.org/copyright\\&quot;\\u003eODbL\\u003c/a\\u003e.&quot;, &quot;detectRetina&quot;: false, &quot;maxNativeZoom&quot;: 18, &quot;maxZoom&quot;: 18, &quot;minZoom&quot;: 0, &quot;noWrap&quot;: false, &quot;opacity&quot;: 1, &quot;subdomains&quot;: &quot;abc&quot;, &quot;tms&quot;: false}\n            ).addTo(map_f6a5cee732f4c78af0497aa04d72f9ad);\n        \n    \n            var circle_f3fad42c67286f8b16c78a11fd2a7db2 = L.circle(\n                [28.56230197, -80.57735648],\n                {&quot;bubblingMouseEvents&quot;: true, &quot;color&quot;: &quot;#d35400&quot;, &quot;dashArray&quot;: null, &quot;dashOffset&quot;: null, &quot;fill&quot;: true, &quot;fillColor&quot;: &quot;#d35400&quot;, &quot;fillOpacity&quot;: 0.2, &quot;fillRule&quot;: &quot;evenodd&quot;, &quot;lineCap&quot;: &quot;round&quot;, &quot;lineJoin&quot;: &quot;round&quot;, &quot;opacity&quot;: 1.0, &quot;radius&quot;: 1000, &quot;stroke&quot;: true, &quot;weight&quot;: 3}\n            ).addTo(map_f6a5cee732f4c78af0497aa04d72f9ad);\n        \n    \n        var popup_1a7e747e8e25e117f81f0ddb7b151afd = L.popup({&quot;maxWidth&quot;: &quot;100%&quot;});\n\n        \n            \n                var html_813283eb0a7def9dadf5ac66817ac741 = $(`&lt;div id=&quot;html_813283eb0a7def9dadf5ac66817ac741&quot; style=&quot;width: 100.0%; height: 100.0%;&quot;&gt;CCAFS LC-40&lt;/div&gt;`)[0];\n                popup_1a7e747e8e25e117f81f0ddb7b151afd.setContent(html_813283eb0a7def9dadf5ac66817ac741);\n            \n        \n\n        circle_f3fad42c67286f8b16c78a11fd2a7db2.bindPopup(popup_1a7e747e8e25e117f81f0ddb7b151afd)\n        ;\n\n        \n    \n    \n            var marker_54413c576aff8a0ec337e976ac276251 = L.marker(\n                [28.56230197, -80.57735648],\n                {}\n            ).addTo(map_f6a5cee732f4c78af0497aa04d72f9ad);\n        \n    \n            var div_icon_5c0ee23724911440f23ac4e894d33bff = L.divIcon({&quot;className&quot;: &quot;empty&quot;, &quot;html&quot;: &quot;\\u003cdiv style=\\&quot;font-size: 12; color:#d35400;\\&quot;\\u003e\\u003cb\\u003eCCAFS LC-40\\u003c/b\\u003e\\u003c/div\\u003e&quot;, &quot;iconAnchor&quot;: [0, 0], &quot;iconSize&quot;: [20, 20]});\n            marker_54413c576aff8a0ec337e976ac276251.setIcon(div_icon_5c0ee23724911440f23ac4e894d33bff);\n        \n    \n            var circle_8ff7c804a0b7fe267fc9b7e5597d8d78 = L.circle(\n                [28.56319718, -80.57682003],\n                {&quot;bubblingMouseEvents&quot;: true, &quot;color&quot;: &quot;#d35400&quot;, &quot;dashArray&quot;: null, &quot;dashOffset&quot;: null, &quot;fill&quot;: true, &quot;fillColor&quot;: &quot;#d35400&quot;, &quot;fillOpacity&quot;: 0.2, &quot;fillRule&quot;: &quot;evenodd&quot;, &quot;lineCap&quot;: &quot;round&quot;, &quot;lineJoin&quot;: &quot;round&quot;, &quot;opacity&quot;: 1.0, &quot;radius&quot;: 1000, &quot;stroke&quot;: true, &quot;weight&quot;: 3}\n            ).addTo(map_f6a5cee732f4c78af0497aa04d72f9ad);\n        \n    \n        var popup_885029632cda23b98c00df6a9dedfb66 = L.popup({&quot;maxWidth&quot;: &quot;100%&quot;});\n\n        \n            \n                var html_995b94f4f834e9e802f5738db33739ea = $(`&lt;div id=&quot;html_995b94f4f834e9e802f5738db33739ea&quot; style=&quot;width: 100.0%; height: 100.0%;&quot;&gt;CCAFS SLC-40&lt;/div&gt;`)[0];\n                popup_885029632cda23b98c00df6a9dedfb66.setContent(html_995b94f4f834e9e802f5738db33739ea);\n            \n        \n\n        circle_8ff7c804a0b7fe267fc9b7e5597d8d78.bindPopup(popup_885029632cda23b98c00df6a9dedfb66)\n        ;\n\n        \n    \n    \n            var marker_16eb4588ea0f10445c42d3d82f316893 = L.marker(\n                [28.56319718, -80.57682003],\n                {}\n            ).addTo(map_f6a5cee732f4c78af0497aa04d72f9ad);\n        \n    \n            var div_icon_6c935108609d3ade08f7c04be9d9e028 = L.divIcon({&quot;className&quot;: &quot;empty&quot;, &quot;html&quot;: &quot;\\u003cdiv style=\\&quot;font-size: 12; color:#d35400;\\&quot;\\u003e\\u003cb\\u003eCCAFS SLC-40\\u003c/b\\u003e\\u003c/div\\u003e&quot;, &quot;iconAnchor&quot;: [0, 0], &quot;iconSize&quot;: [20, 20]});\n            marker_16eb4588ea0f10445c42d3d82f316893.setIcon(div_icon_6c935108609d3ade08f7c04be9d9e028);\n        \n    \n            var circle_29411a35e445efe77e9a8863d253f757 = L.circle(\n                [28.57325457, -80.64689529],\n                {&quot;bubblingMouseEvents&quot;: true, &quot;color&quot;: &quot;#d35400&quot;, &quot;dashArray&quot;: null, &quot;dashOffset&quot;: null, &quot;fill&quot;: true, &quot;fillColor&quot;: &quot;#d35400&quot;, &quot;fillOpacity&quot;: 0.2, &quot;fillRule&quot;: &quot;evenodd&quot;, &quot;lineCap&quot;: &quot;round&quot;, &quot;lineJoin&quot;: &quot;round&quot;, &quot;opacity&quot;: 1.0, &quot;radius&quot;: 1000, &quot;stroke&quot;: true, &quot;weight&quot;: 3}\n            ).addTo(map_f6a5cee732f4c78af0497aa04d72f9ad);\n        \n    \n        var popup_d605e5600f1564a203cb17bae12b3245 = L.popup({&quot;maxWidth&quot;: &quot;100%&quot;});\n\n        \n            \n                var html_740f5670f49cb700138d0f35a8a40fd8 = $(`&lt;div id=&quot;html_740f5670f49cb700138d0f35a8a40fd8&quot; style=&quot;width: 100.0%; height: 100.0%;&quot;&gt;KSC LC-39A&lt;/div&gt;`)[0];\n                popup_d605e5600f1564a203cb17bae12b3245.setContent(html_740f5670f49cb700138d0f35a8a40fd8);\n            \n        \n\n        circle_29411a35e445efe77e9a8863d253f757.bindPopup(popup_d605e5600f1564a203cb17bae12b3245)\n        ;\n\n        \n    \n    \n            var marker_97884ba61cbfa00ad0cc42fce1887e94 = L.marker(\n                [28.57325457, -80.64689529],\n                {}\n            ).addTo(map_f6a5cee732f4c78af0497aa04d72f9ad);\n        \n    \n            var div_icon_6cb19151ab7f84e272afe0966b12a73e = L.divIcon({&quot;className&quot;: &quot;empty&quot;, &quot;html&quot;: &quot;\\u003cdiv style=\\&quot;font-size: 12; color:#d35400;\\&quot;\\u003e\\u003cb\\u003eKSC LC-39A\\u003c/b\\u003e\\u003c/div\\u003e&quot;, &quot;iconAnchor&quot;: [0, 0], &quot;iconSize&quot;: [20, 20]});\n            marker_97884ba61cbfa00ad0cc42fce1887e94.setIcon(div_icon_6cb19151ab7f84e272afe0966b12a73e);\n        \n    \n            var circle_92b91433f5b28cdd8adb4fea38ad039c = L.circle(\n                [34.63283416, -120.6107455],\n                {&quot;bubblingMouseEvents&quot;: true, &quot;color&quot;: &quot;#d35400&quot;, &quot;dashArray&quot;: null, &quot;dashOffset&quot;: null, &quot;fill&quot;: true, &quot;fillColor&quot;: &quot;#d35400&quot;, &quot;fillOpacity&quot;: 0.2, &quot;fillRule&quot;: &quot;evenodd&quot;, &quot;lineCap&quot;: &quot;round&quot;, &quot;lineJoin&quot;: &quot;round&quot;, &quot;opacity&quot;: 1.0, &quot;radius&quot;: 1000, &quot;stroke&quot;: true, &quot;weight&quot;: 3}\n            ).addTo(map_f6a5cee732f4c78af0497aa04d72f9ad);\n        \n    \n        var popup_277b8b6d3079abeadce38e3fac55a671 = L.popup({&quot;maxWidth&quot;: &quot;100%&quot;});\n\n        \n            \n                var html_65949f1e977c3a9fb1e80deb3fbb8215 = $(`&lt;div id=&quot;html_65949f1e977c3a9fb1e80deb3fbb8215&quot; style=&quot;width: 100.0%; height: 100.0%;&quot;&gt;VAFB SLC-4E&lt;/div&gt;`)[0];\n                popup_277b8b6d3079abeadce38e3fac55a671.setContent(html_65949f1e977c3a9fb1e80deb3fbb8215);\n            \n        \n\n        circle_92b91433f5b28cdd8adb4fea38ad039c.bindPopup(popup_277b8b6d3079abeadce38e3fac55a671)\n        ;\n\n        \n    \n    \n            var marker_68ec483a0300e07bc3111d49169972fe = L.marker(\n                [34.63283416, -120.6107455],\n                {}\n            ).addTo(map_f6a5cee732f4c78af0497aa04d72f9ad);\n        \n    \n            var div_icon_08037c41c3fa68d68671fdb0521b78b2 = L.divIcon({&quot;className&quot;: &quot;empty&quot;, &quot;html&quot;: &quot;\\u003cdiv style=\\&quot;font-size: 12; color:#d35400;\\&quot;\\u003e\\u003cb\\u003eVAFB SLC-4E\\u003c/b\\u003e\\u003c/div\\u003e&quot;, &quot;iconAnchor&quot;: [0, 0], &quot;iconSize&quot;: [20, 20]});\n            marker_68ec483a0300e07bc3111d49169972fe.setIcon(div_icon_08037c41c3fa68d68671fdb0521b78b2);\n        \n    \n            var marker_cluster_dedd7febf2d41b4ababe7364f638909e = L.markerClusterGroup(\n                {}\n            );\n            map_f6a5cee732f4c78af0497aa04d72f9ad.addLayer(marker_cluster_dedd7febf2d41b4ababe7364f638909e);\n        \n    \n            var marker_63740bf706cdef235a9aa286f8b54c24 = L.marker(\n                [28.56230197, -80.57735648],\n                {}\n            ).addTo(marker_cluster_dedd7febf2d41b4ababe7364f638909e);\n        \n    \n            var icon_2223d806bee1e2520cb89cab27dd60e1 = L.AwesomeMarkers.icon(\n                {&quot;extraClasses&quot;: &quot;fa-rotate-0&quot;, &quot;icon&quot;: &quot;info-sign&quot;, &quot;iconColor&quot;: &quot;red&quot;, &quot;markerColor&quot;: &quot;white&quot;, &quot;prefix&quot;: &quot;glyphicon&quot;}\n            );\n            marker_63740bf706cdef235a9aa286f8b54c24.setIcon(icon_2223d806bee1e2520cb89cab27dd60e1);\n        \n    \n            var marker_fc2e24d2a421b91491c4740daf7a0504 = L.marker(\n                [28.56230197, -80.57735648],\n                {}\n            ).addTo(marker_cluster_dedd7febf2d41b4ababe7364f638909e);\n        \n    \n            var icon_98c477988cdb606b45dc7dff8c6b69db = L.AwesomeMarkers.icon(\n                {&quot;extraClasses&quot;: &quot;fa-rotate-0&quot;, &quot;icon&quot;: &quot;info-sign&quot;, &quot;iconColor&quot;: &quot;red&quot;, &quot;markerColor&quot;: &quot;white&quot;, &quot;prefix&quot;: &quot;glyphicon&quot;}\n            );\n            marker_fc2e24d2a421b91491c4740daf7a0504.setIcon(icon_98c477988cdb606b45dc7dff8c6b69db);\n        \n    \n            var marker_394985bcfb846f8b57741b81949cfd6f = L.marker(\n                [28.56230197, -80.57735648],\n                {}\n            ).addTo(marker_cluster_dedd7febf2d41b4ababe7364f638909e);\n        \n    \n            var icon_191f082e81eb2571161e6c9f66b0a3a5 = L.AwesomeMarkers.icon(\n                {&quot;extraClasses&quot;: &quot;fa-rotate-0&quot;, &quot;icon&quot;: &quot;info-sign&quot;, &quot;iconColor&quot;: &quot;red&quot;, &quot;markerColor&quot;: &quot;white&quot;, &quot;prefix&quot;: &quot;glyphicon&quot;}\n            );\n            marker_394985bcfb846f8b57741b81949cfd6f.setIcon(icon_191f082e81eb2571161e6c9f66b0a3a5);\n        \n    \n            var marker_49e6dfbf1b845c7f9adc188943b7fc8c = L.marker(\n                [28.56230197, -80.57735648],\n                {}\n            ).addTo(marker_cluster_dedd7febf2d41b4ababe7364f638909e);\n        \n    \n            var icon_1f5a774991e59cca26a356db236ae231 = L.AwesomeMarkers.icon(\n                {&quot;extraClasses&quot;: &quot;fa-rotate-0&quot;, &quot;icon&quot;: &quot;info-sign&quot;, &quot;iconColor&quot;: &quot;red&quot;, &quot;markerColor&quot;: &quot;white&quot;, &quot;prefix&quot;: &quot;glyphicon&quot;}\n            );\n            marker_49e6dfbf1b845c7f9adc188943b7fc8c.setIcon(icon_1f5a774991e59cca26a356db236ae231);\n        \n    \n            var marker_c94bf8065a943d80dd4757055a33832a = L.marker(\n                [28.56230197, -80.57735648],\n                {}\n            ).addTo(marker_cluster_dedd7febf2d41b4ababe7364f638909e);\n        \n    \n            var icon_5586ee30c4a84b518500fca48a8d559d = L.AwesomeMarkers.icon(\n                {&quot;extraClasses&quot;: &quot;fa-rotate-0&quot;, &quot;icon&quot;: &quot;info-sign&quot;, &quot;iconColor&quot;: &quot;red&quot;, &quot;markerColor&quot;: &quot;white&quot;, &quot;prefix&quot;: &quot;glyphicon&quot;}\n            );\n            marker_c94bf8065a943d80dd4757055a33832a.setIcon(icon_5586ee30c4a84b518500fca48a8d559d);\n        \n    \n            var marker_d0674b188cac3cec758322804fef4a2a = L.marker(\n                [28.56230197, -80.57735648],\n                {}\n            ).addTo(marker_cluster_dedd7febf2d41b4ababe7364f638909e);\n        \n    \n            var icon_e18c51b87d7c876da3d93db007831744 = L.AwesomeMarkers.icon(\n                {&quot;extraClasses&quot;: &quot;fa-rotate-0&quot;, &quot;icon&quot;: &quot;info-sign&quot;, &quot;iconColor&quot;: &quot;red&quot;, &quot;markerColor&quot;: &quot;white&quot;, &quot;prefix&quot;: &quot;glyphicon&quot;}\n            );\n            marker_d0674b188cac3cec758322804fef4a2a.setIcon(icon_e18c51b87d7c876da3d93db007831744);\n        \n    \n            var marker_dde9c34a1f3cfb9269979681383156eb = L.marker(\n                [28.56230197, -80.57735648],\n                {}\n            ).addTo(marker_cluster_dedd7febf2d41b4ababe7364f638909e);\n        \n    \n            var icon_05e454623c372f69b1e17861bde6f1c4 = L.AwesomeMarkers.icon(\n                {&quot;extraClasses&quot;: &quot;fa-rotate-0&quot;, &quot;icon&quot;: &quot;info-sign&quot;, &quot;iconColor&quot;: &quot;red&quot;, &quot;markerColor&quot;: &quot;white&quot;, &quot;prefix&quot;: &quot;glyphicon&quot;}\n            );\n            marker_dde9c34a1f3cfb9269979681383156eb.setIcon(icon_05e454623c372f69b1e17861bde6f1c4);\n        \n    \n            var marker_dbb0d1098a8cbd03d580d89b952f5448 = L.marker(\n                [28.56230197, -80.57735648],\n                {}\n            ).addTo(marker_cluster_dedd7febf2d41b4ababe7364f638909e);\n        \n    \n            var icon_de51d0fea42eb910d82b11aba32b779a = L.AwesomeMarkers.icon(\n                {&quot;extraClasses&quot;: &quot;fa-rotate-0&quot;, &quot;icon&quot;: &quot;info-sign&quot;, &quot;iconColor&quot;: &quot;red&quot;, &quot;markerColor&quot;: &quot;white&quot;, &quot;prefix&quot;: &quot;glyphicon&quot;}\n            );\n            marker_dbb0d1098a8cbd03d580d89b952f5448.setIcon(icon_de51d0fea42eb910d82b11aba32b779a);\n        \n    \n            var marker_3f3ee4c6872df6747dc4ebd89f30efa2 = L.marker(\n                [28.56230197, -80.57735648],\n                {}\n            ).addTo(marker_cluster_dedd7febf2d41b4ababe7364f638909e);\n        \n    \n            var icon_8e63382e0ed998ddb64b4d8a90507634 = L.AwesomeMarkers.icon(\n                {&quot;extraClasses&quot;: &quot;fa-rotate-0&quot;, &quot;icon&quot;: &quot;info-sign&quot;, &quot;iconColor&quot;: &quot;red&quot;, &quot;markerColor&quot;: &quot;white&quot;, &quot;prefix&quot;: &quot;glyphicon&quot;}\n            );\n            marker_3f3ee4c6872df6747dc4ebd89f30efa2.setIcon(icon_8e63382e0ed998ddb64b4d8a90507634);\n        \n    \n            var marker_8676fb22647565a2b7b6844b6a384ede = L.marker(\n                [28.56230197, -80.57735648],\n                {}\n            ).addTo(marker_cluster_dedd7febf2d41b4ababe7364f638909e);\n        \n    \n            var icon_e9758b6220e9677f6f5a0233d718b73d = L.AwesomeMarkers.icon(\n                {&quot;extraClasses&quot;: &quot;fa-rotate-0&quot;, &quot;icon&quot;: &quot;info-sign&quot;, &quot;iconColor&quot;: &quot;red&quot;, &quot;markerColor&quot;: &quot;white&quot;, &quot;prefix&quot;: &quot;glyphicon&quot;}\n            );\n            marker_8676fb22647565a2b7b6844b6a384ede.setIcon(icon_e9758b6220e9677f6f5a0233d718b73d);\n        \n    \n            var marker_6fd4d51bc59b96413d3ea96d04d731e2 = L.marker(\n                [28.56230197, -80.57735648],\n                {}\n            ).addTo(marker_cluster_dedd7febf2d41b4ababe7364f638909e);\n        \n    \n            var icon_38fe344fb3e15233bf48ad8d01c60796 = L.AwesomeMarkers.icon(\n                {&quot;extraClasses&quot;: &quot;fa-rotate-0&quot;, &quot;icon&quot;: &quot;info-sign&quot;, &quot;iconColor&quot;: &quot;red&quot;, &quot;markerColor&quot;: &quot;white&quot;, &quot;prefix&quot;: &quot;glyphicon&quot;}\n            );\n            marker_6fd4d51bc59b96413d3ea96d04d731e2.setIcon(icon_38fe344fb3e15233bf48ad8d01c60796);\n        \n    \n            var marker_969e69a8556032f535fcd306d2b1d2f2 = L.marker(\n                [28.56230197, -80.57735648],\n                {}\n            ).addTo(marker_cluster_dedd7febf2d41b4ababe7364f638909e);\n        \n    \n            var icon_9bd86f9b7de11823c53de15416240128 = L.AwesomeMarkers.icon(\n                {&quot;extraClasses&quot;: &quot;fa-rotate-0&quot;, &quot;icon&quot;: &quot;info-sign&quot;, &quot;iconColor&quot;: &quot;red&quot;, &quot;markerColor&quot;: &quot;white&quot;, &quot;prefix&quot;: &quot;glyphicon&quot;}\n            );\n            marker_969e69a8556032f535fcd306d2b1d2f2.setIcon(icon_9bd86f9b7de11823c53de15416240128);\n        \n    \n            var marker_7070ec50c12eb8277300eaf7f913a498 = L.marker(\n                [28.56230197, -80.57735648],\n                {}\n            ).addTo(marker_cluster_dedd7febf2d41b4ababe7364f638909e);\n        \n    \n            var icon_5e9a43fe511032dced3dddab045fcb50 = L.AwesomeMarkers.icon(\n                {&quot;extraClasses&quot;: &quot;fa-rotate-0&quot;, &quot;icon&quot;: &quot;info-sign&quot;, &quot;iconColor&quot;: &quot;red&quot;, &quot;markerColor&quot;: &quot;white&quot;, &quot;prefix&quot;: &quot;glyphicon&quot;}\n            );\n            marker_7070ec50c12eb8277300eaf7f913a498.setIcon(icon_5e9a43fe511032dced3dddab045fcb50);\n        \n    \n            var marker_d18c90565ad8f436effca9a7b59b41c1 = L.marker(\n                [28.56230197, -80.57735648],\n                {}\n            ).addTo(marker_cluster_dedd7febf2d41b4ababe7364f638909e);\n        \n    \n            var icon_c8e5ba08c873bc40557d8fa9d2fad101 = L.AwesomeMarkers.icon(\n                {&quot;extraClasses&quot;: &quot;fa-rotate-0&quot;, &quot;icon&quot;: &quot;info-sign&quot;, &quot;iconColor&quot;: &quot;red&quot;, &quot;markerColor&quot;: &quot;white&quot;, &quot;prefix&quot;: &quot;glyphicon&quot;}\n            );\n            marker_d18c90565ad8f436effca9a7b59b41c1.setIcon(icon_c8e5ba08c873bc40557d8fa9d2fad101);\n        \n    \n            var marker_54ece4779193ffa437fb7b4e0bf52b64 = L.marker(\n                [28.56230197, -80.57735648],\n                {}\n            ).addTo(marker_cluster_dedd7febf2d41b4ababe7364f638909e);\n        \n    \n            var icon_879306bb51bff8d75549b099964db2e0 = L.AwesomeMarkers.icon(\n                {&quot;extraClasses&quot;: &quot;fa-rotate-0&quot;, &quot;icon&quot;: &quot;info-sign&quot;, &quot;iconColor&quot;: &quot;red&quot;, &quot;markerColor&quot;: &quot;white&quot;, &quot;prefix&quot;: &quot;glyphicon&quot;}\n            );\n            marker_54ece4779193ffa437fb7b4e0bf52b64.setIcon(icon_879306bb51bff8d75549b099964db2e0);\n        \n    \n            var marker_2da373d2cd01ecff4d55c35c2a22e9fe = L.marker(\n                [28.56230197, -80.57735648],\n                {}\n            ).addTo(marker_cluster_dedd7febf2d41b4ababe7364f638909e);\n        \n    \n            var icon_900f341a96e956aa68502bbd45f62b83 = L.AwesomeMarkers.icon(\n                {&quot;extraClasses&quot;: &quot;fa-rotate-0&quot;, &quot;icon&quot;: &quot;info-sign&quot;, &quot;iconColor&quot;: &quot;red&quot;, &quot;markerColor&quot;: &quot;white&quot;, &quot;prefix&quot;: &quot;glyphicon&quot;}\n            );\n            marker_2da373d2cd01ecff4d55c35c2a22e9fe.setIcon(icon_900f341a96e956aa68502bbd45f62b83);\n        \n    \n            var marker_a47bc3e40da491b23bb4efc24eac1223 = L.marker(\n                [28.56230197, -80.57735648],\n                {}\n            ).addTo(marker_cluster_dedd7febf2d41b4ababe7364f638909e);\n        \n    \n            var icon_081c6533518b6f9a7286dad054ec358d = L.AwesomeMarkers.icon(\n                {&quot;extraClasses&quot;: &quot;fa-rotate-0&quot;, &quot;icon&quot;: &quot;info-sign&quot;, &quot;iconColor&quot;: &quot;red&quot;, &quot;markerColor&quot;: &quot;white&quot;, &quot;prefix&quot;: &quot;glyphicon&quot;}\n            );\n            marker_a47bc3e40da491b23bb4efc24eac1223.setIcon(icon_081c6533518b6f9a7286dad054ec358d);\n        \n    \n            var marker_b27d5c7816cace69ce901d54bfcc8a26 = L.marker(\n                [28.56230197, -80.57735648],\n                {}\n            ).addTo(marker_cluster_dedd7febf2d41b4ababe7364f638909e);\n        \n    \n            var icon_aa0dbfa4479181c50b0b2222650d734e = L.AwesomeMarkers.icon(\n                {&quot;extraClasses&quot;: &quot;fa-rotate-0&quot;, &quot;icon&quot;: &quot;info-sign&quot;, &quot;iconColor&quot;: &quot;green&quot;, &quot;markerColor&quot;: &quot;white&quot;, &quot;prefix&quot;: &quot;glyphicon&quot;}\n            );\n            marker_b27d5c7816cace69ce901d54bfcc8a26.setIcon(icon_aa0dbfa4479181c50b0b2222650d734e);\n        \n    \n            var marker_1bf9b9a7fa8582ac3af70d8764abfd6c = L.marker(\n                [28.56230197, -80.57735648],\n                {}\n            ).addTo(marker_cluster_dedd7febf2d41b4ababe7364f638909e);\n        \n    \n            var icon_2f874165ac50e84077e425618b1e765f = L.AwesomeMarkers.icon(\n                {&quot;extraClasses&quot;: &quot;fa-rotate-0&quot;, &quot;icon&quot;: &quot;info-sign&quot;, &quot;iconColor&quot;: &quot;green&quot;, &quot;markerColor&quot;: &quot;white&quot;, &quot;prefix&quot;: &quot;glyphicon&quot;}\n            );\n            marker_1bf9b9a7fa8582ac3af70d8764abfd6c.setIcon(icon_2f874165ac50e84077e425618b1e765f);\n        \n    \n            var marker_5541f2d81c98cbe9193703ff49a560b5 = L.marker(\n                [28.56230197, -80.57735648],\n                {}\n            ).addTo(marker_cluster_dedd7febf2d41b4ababe7364f638909e);\n        \n    \n            var icon_a523555c3248265763fe3e29a1bf94c8 = L.AwesomeMarkers.icon(\n                {&quot;extraClasses&quot;: &quot;fa-rotate-0&quot;, &quot;icon&quot;: &quot;info-sign&quot;, &quot;iconColor&quot;: &quot;red&quot;, &quot;markerColor&quot;: &quot;white&quot;, &quot;prefix&quot;: &quot;glyphicon&quot;}\n            );\n            marker_5541f2d81c98cbe9193703ff49a560b5.setIcon(icon_a523555c3248265763fe3e29a1bf94c8);\n        \n    \n            var marker_17c9841ac7f67c565fdf6319d5179078 = L.marker(\n                [28.56230197, -80.57735648],\n                {}\n            ).addTo(marker_cluster_dedd7febf2d41b4ababe7364f638909e);\n        \n    \n            var icon_969e2efd259591c0d4efb87828c976e9 = L.AwesomeMarkers.icon(\n                {&quot;extraClasses&quot;: &quot;fa-rotate-0&quot;, &quot;icon&quot;: &quot;info-sign&quot;, &quot;iconColor&quot;: &quot;green&quot;, &quot;markerColor&quot;: &quot;white&quot;, &quot;prefix&quot;: &quot;glyphicon&quot;}\n            );\n            marker_17c9841ac7f67c565fdf6319d5179078.setIcon(icon_969e2efd259591c0d4efb87828c976e9);\n        \n    \n            var marker_3fb297078e3e67dd42198883e57edceb = L.marker(\n                [28.56230197, -80.57735648],\n                {}\n            ).addTo(marker_cluster_dedd7febf2d41b4ababe7364f638909e);\n        \n    \n            var icon_dbd646d589153bf69acd586ac6de3ee9 = L.AwesomeMarkers.icon(\n                {&quot;extraClasses&quot;: &quot;fa-rotate-0&quot;, &quot;icon&quot;: &quot;info-sign&quot;, &quot;iconColor&quot;: &quot;green&quot;, &quot;markerColor&quot;: &quot;white&quot;, &quot;prefix&quot;: &quot;glyphicon&quot;}\n            );\n            marker_3fb297078e3e67dd42198883e57edceb.setIcon(icon_dbd646d589153bf69acd586ac6de3ee9);\n        \n    \n            var marker_f0e7c72feb0b84eab232219f668c9df0 = L.marker(\n                [28.56230197, -80.57735648],\n                {}\n            ).addTo(marker_cluster_dedd7febf2d41b4ababe7364f638909e);\n        \n    \n            var icon_9f09fd46c4c4a20daa02a22e03a58358 = L.AwesomeMarkers.icon(\n                {&quot;extraClasses&quot;: &quot;fa-rotate-0&quot;, &quot;icon&quot;: &quot;info-sign&quot;, &quot;iconColor&quot;: &quot;green&quot;, &quot;markerColor&quot;: &quot;white&quot;, &quot;prefix&quot;: &quot;glyphicon&quot;}\n            );\n            marker_f0e7c72feb0b84eab232219f668c9df0.setIcon(icon_9f09fd46c4c4a20daa02a22e03a58358);\n        \n    \n            var marker_31d06aa91a191fcac544f41864bb9c64 = L.marker(\n                [28.56230197, -80.57735648],\n                {}\n            ).addTo(marker_cluster_dedd7febf2d41b4ababe7364f638909e);\n        \n    \n            var icon_e6a19d9d479ef90419279102551ff03d = L.AwesomeMarkers.icon(\n                {&quot;extraClasses&quot;: &quot;fa-rotate-0&quot;, &quot;icon&quot;: &quot;info-sign&quot;, &quot;iconColor&quot;: &quot;red&quot;, &quot;markerColor&quot;: &quot;white&quot;, &quot;prefix&quot;: &quot;glyphicon&quot;}\n            );\n            marker_31d06aa91a191fcac544f41864bb9c64.setIcon(icon_e6a19d9d479ef90419279102551ff03d);\n        \n    \n            var marker_d4ca9320136e9cffe99b5ea9edc8746f = L.marker(\n                [28.56230197, -80.57735648],\n                {}\n            ).addTo(marker_cluster_dedd7febf2d41b4ababe7364f638909e);\n        \n    \n            var icon_c8a747b94c61e60c7264d7cdf089a025 = L.AwesomeMarkers.icon(\n                {&quot;extraClasses&quot;: &quot;fa-rotate-0&quot;, &quot;icon&quot;: &quot;info-sign&quot;, &quot;iconColor&quot;: &quot;green&quot;, &quot;markerColor&quot;: &quot;white&quot;, &quot;prefix&quot;: &quot;glyphicon&quot;}\n            );\n            marker_d4ca9320136e9cffe99b5ea9edc8746f.setIcon(icon_c8a747b94c61e60c7264d7cdf089a025);\n        \n    \n            var marker_f999cc973b6dc59c5e6b8c8a0d620b9f = L.marker(\n                [28.56230197, -80.57735648],\n                {}\n            ).addTo(marker_cluster_dedd7febf2d41b4ababe7364f638909e);\n        \n    \n            var icon_e61000628abbcd1fff16ab1bcb22d83a = L.AwesomeMarkers.icon(\n                {&quot;extraClasses&quot;: &quot;fa-rotate-0&quot;, &quot;icon&quot;: &quot;info-sign&quot;, &quot;iconColor&quot;: &quot;green&quot;, &quot;markerColor&quot;: &quot;white&quot;, &quot;prefix&quot;: &quot;glyphicon&quot;}\n            );\n            marker_f999cc973b6dc59c5e6b8c8a0d620b9f.setIcon(icon_e61000628abbcd1fff16ab1bcb22d83a);\n        \n    \n            var marker_3e35b3b96725223b829f1236ad35dffb = L.marker(\n                [34.63283416, -120.6107455],\n                {}\n            ).addTo(marker_cluster_dedd7febf2d41b4ababe7364f638909e);\n        \n    \n            var icon_62e0518cd244c22e61c4256dbcb6d887 = L.AwesomeMarkers.icon(\n                {&quot;extraClasses&quot;: &quot;fa-rotate-0&quot;, &quot;icon&quot;: &quot;info-sign&quot;, &quot;iconColor&quot;: &quot;red&quot;, &quot;markerColor&quot;: &quot;white&quot;, &quot;prefix&quot;: &quot;glyphicon&quot;}\n            );\n            marker_3e35b3b96725223b829f1236ad35dffb.setIcon(icon_62e0518cd244c22e61c4256dbcb6d887);\n        \n    \n            var marker_4faa1a3191eb759a1992cb9d74ad2f3d = L.marker(\n                [34.63283416, -120.6107455],\n                {}\n            ).addTo(marker_cluster_dedd7febf2d41b4ababe7364f638909e);\n        \n    \n            var icon_27fcf0acbfcd03e2593e726e91dc90ae = L.AwesomeMarkers.icon(\n                {&quot;extraClasses&quot;: &quot;fa-rotate-0&quot;, &quot;icon&quot;: &quot;info-sign&quot;, &quot;iconColor&quot;: &quot;red&quot;, &quot;markerColor&quot;: &quot;white&quot;, &quot;prefix&quot;: &quot;glyphicon&quot;}\n            );\n            marker_4faa1a3191eb759a1992cb9d74ad2f3d.setIcon(icon_27fcf0acbfcd03e2593e726e91dc90ae);\n        \n    \n            var marker_d4646d86070c44f67be2c475d304798a = L.marker(\n                [34.63283416, -120.6107455],\n                {}\n            ).addTo(marker_cluster_dedd7febf2d41b4ababe7364f638909e);\n        \n    \n            var icon_ed444bca6b49e9cd29e0bf5abe706b92 = L.AwesomeMarkers.icon(\n                {&quot;extraClasses&quot;: &quot;fa-rotate-0&quot;, &quot;icon&quot;: &quot;info-sign&quot;, &quot;iconColor&quot;: &quot;green&quot;, &quot;markerColor&quot;: &quot;white&quot;, &quot;prefix&quot;: &quot;glyphicon&quot;}\n            );\n            marker_d4646d86070c44f67be2c475d304798a.setIcon(icon_ed444bca6b49e9cd29e0bf5abe706b92);\n        \n    \n            var marker_de75ea38a63df9ab9763f487fd385b02 = L.marker(\n                [34.63283416, -120.6107455],\n                {}\n            ).addTo(marker_cluster_dedd7febf2d41b4ababe7364f638909e);\n        \n    \n            var icon_4333dcd3f132810b2b3651a55e08e9a4 = L.AwesomeMarkers.icon(\n                {&quot;extraClasses&quot;: &quot;fa-rotate-0&quot;, &quot;icon&quot;: &quot;info-sign&quot;, &quot;iconColor&quot;: &quot;green&quot;, &quot;markerColor&quot;: &quot;white&quot;, &quot;prefix&quot;: &quot;glyphicon&quot;}\n            );\n            marker_de75ea38a63df9ab9763f487fd385b02.setIcon(icon_4333dcd3f132810b2b3651a55e08e9a4);\n        \n    \n            var marker_e2d6e0fb11ffeb900fb7af0ecee358d6 = L.marker(\n                [34.63283416, -120.6107455],\n                {}\n            ).addTo(marker_cluster_dedd7febf2d41b4ababe7364f638909e);\n        \n    \n            var icon_2782a43b4c9e5d0cdcd4dd54dc234285 = L.AwesomeMarkers.icon(\n                {&quot;extraClasses&quot;: &quot;fa-rotate-0&quot;, &quot;icon&quot;: &quot;info-sign&quot;, &quot;iconColor&quot;: &quot;green&quot;, &quot;markerColor&quot;: &quot;white&quot;, &quot;prefix&quot;: &quot;glyphicon&quot;}\n            );\n            marker_e2d6e0fb11ffeb900fb7af0ecee358d6.setIcon(icon_2782a43b4c9e5d0cdcd4dd54dc234285);\n        \n    \n            var marker_26086e82114bfb966e33f570bf2912e7 = L.marker(\n                [34.63283416, -120.6107455],\n                {}\n            ).addTo(marker_cluster_dedd7febf2d41b4ababe7364f638909e);\n        \n    \n            var icon_cb9eb5c0d84c24d805ae83da43e3f19d = L.AwesomeMarkers.icon(\n                {&quot;extraClasses&quot;: &quot;fa-rotate-0&quot;, &quot;icon&quot;: &quot;info-sign&quot;, &quot;iconColor&quot;: &quot;green&quot;, &quot;markerColor&quot;: &quot;white&quot;, &quot;prefix&quot;: &quot;glyphicon&quot;}\n            );\n            marker_26086e82114bfb966e33f570bf2912e7.setIcon(icon_cb9eb5c0d84c24d805ae83da43e3f19d);\n        \n    \n            var marker_a6ad893867f29ca46661d28ed79eda0d = L.marker(\n                [34.63283416, -120.6107455],\n                {}\n            ).addTo(marker_cluster_dedd7febf2d41b4ababe7364f638909e);\n        \n    \n            var icon_f114e9d108f41cfd3090ee678547cf61 = L.AwesomeMarkers.icon(\n                {&quot;extraClasses&quot;: &quot;fa-rotate-0&quot;, &quot;icon&quot;: &quot;info-sign&quot;, &quot;iconColor&quot;: &quot;red&quot;, &quot;markerColor&quot;: &quot;white&quot;, &quot;prefix&quot;: &quot;glyphicon&quot;}\n            );\n            marker_a6ad893867f29ca46661d28ed79eda0d.setIcon(icon_f114e9d108f41cfd3090ee678547cf61);\n        \n    \n            var marker_89424d01d97c72ffe36ca1e5f3b82551 = L.marker(\n                [34.63283416, -120.6107455],\n                {}\n            ).addTo(marker_cluster_dedd7febf2d41b4ababe7364f638909e);\n        \n    \n            var icon_8f99656ffe0ded0947534015139c32a3 = L.AwesomeMarkers.icon(\n                {&quot;extraClasses&quot;: &quot;fa-rotate-0&quot;, &quot;icon&quot;: &quot;info-sign&quot;, &quot;iconColor&quot;: &quot;red&quot;, &quot;markerColor&quot;: &quot;white&quot;, &quot;prefix&quot;: &quot;glyphicon&quot;}\n            );\n            marker_89424d01d97c72ffe36ca1e5f3b82551.setIcon(icon_8f99656ffe0ded0947534015139c32a3);\n        \n    \n            var marker_c605fdb9a0399eff8935c5ca03b41bcd = L.marker(\n                [34.63283416, -120.6107455],\n                {}\n            ).addTo(marker_cluster_dedd7febf2d41b4ababe7364f638909e);\n        \n    \n            var icon_f5bbaa1e2834d314f26dedf6c276ad83 = L.AwesomeMarkers.icon(\n                {&quot;extraClasses&quot;: &quot;fa-rotate-0&quot;, &quot;icon&quot;: &quot;info-sign&quot;, &quot;iconColor&quot;: &quot;red&quot;, &quot;markerColor&quot;: &quot;white&quot;, &quot;prefix&quot;: &quot;glyphicon&quot;}\n            );\n            marker_c605fdb9a0399eff8935c5ca03b41bcd.setIcon(icon_f5bbaa1e2834d314f26dedf6c276ad83);\n        \n    \n            var marker_109df51c51ce61562e915b205ba2e064 = L.marker(\n                [34.63283416, -120.6107455],\n                {}\n            ).addTo(marker_cluster_dedd7febf2d41b4ababe7364f638909e);\n        \n    \n            var icon_ac78e7c67db594ef8cb890df52196297 = L.AwesomeMarkers.icon(\n                {&quot;extraClasses&quot;: &quot;fa-rotate-0&quot;, &quot;icon&quot;: &quot;info-sign&quot;, &quot;iconColor&quot;: &quot;red&quot;, &quot;markerColor&quot;: &quot;white&quot;, &quot;prefix&quot;: &quot;glyphicon&quot;}\n            );\n            marker_109df51c51ce61562e915b205ba2e064.setIcon(icon_ac78e7c67db594ef8cb890df52196297);\n        \n    \n            var marker_6c04489c8a41202b627fd5734cc64d06 = L.marker(\n                [28.57325457, -80.64689529],\n                {}\n            ).addTo(marker_cluster_dedd7febf2d41b4ababe7364f638909e);\n        \n    \n            var icon_f0dba8aa8b2aea9d46a1d069f135a2b6 = L.AwesomeMarkers.icon(\n                {&quot;extraClasses&quot;: &quot;fa-rotate-0&quot;, &quot;icon&quot;: &quot;info-sign&quot;, &quot;iconColor&quot;: &quot;green&quot;, &quot;markerColor&quot;: &quot;white&quot;, &quot;prefix&quot;: &quot;glyphicon&quot;}\n            );\n            marker_6c04489c8a41202b627fd5734cc64d06.setIcon(icon_f0dba8aa8b2aea9d46a1d069f135a2b6);\n        \n    \n            var marker_5b04ccf123d03746ad483b99bbf1627d = L.marker(\n                [28.57325457, -80.64689529],\n                {}\n            ).addTo(marker_cluster_dedd7febf2d41b4ababe7364f638909e);\n        \n    \n            var icon_c5d656f3380a5682a2fdc02cfba39110 = L.AwesomeMarkers.icon(\n                {&quot;extraClasses&quot;: &quot;fa-rotate-0&quot;, &quot;icon&quot;: &quot;info-sign&quot;, &quot;iconColor&quot;: &quot;red&quot;, &quot;markerColor&quot;: &quot;white&quot;, &quot;prefix&quot;: &quot;glyphicon&quot;}\n            );\n            marker_5b04ccf123d03746ad483b99bbf1627d.setIcon(icon_c5d656f3380a5682a2fdc02cfba39110);\n        \n    \n            var marker_c26e77b1f47236ec08c4867d96682886 = L.marker(\n                [28.57325457, -80.64689529],\n                {}\n            ).addTo(marker_cluster_dedd7febf2d41b4ababe7364f638909e);\n        \n    \n            var icon_10ef79a8eee690b5c9c3b6e1be97f44f = L.AwesomeMarkers.icon(\n                {&quot;extraClasses&quot;: &quot;fa-rotate-0&quot;, &quot;icon&quot;: &quot;info-sign&quot;, &quot;iconColor&quot;: &quot;green&quot;, &quot;markerColor&quot;: &quot;white&quot;, &quot;prefix&quot;: &quot;glyphicon&quot;}\n            );\n            marker_c26e77b1f47236ec08c4867d96682886.setIcon(icon_10ef79a8eee690b5c9c3b6e1be97f44f);\n        \n    \n            var marker_528979a3a7fc7f8f27f40504397f5cec = L.marker(\n                [28.57325457, -80.64689529],\n                {}\n            ).addTo(marker_cluster_dedd7febf2d41b4ababe7364f638909e);\n        \n    \n            var icon_cb3f767e79c0f4d4f1fa6d377a7a5cbf = L.AwesomeMarkers.icon(\n                {&quot;extraClasses&quot;: &quot;fa-rotate-0&quot;, &quot;icon&quot;: &quot;info-sign&quot;, &quot;iconColor&quot;: &quot;green&quot;, &quot;markerColor&quot;: &quot;white&quot;, &quot;prefix&quot;: &quot;glyphicon&quot;}\n            );\n            marker_528979a3a7fc7f8f27f40504397f5cec.setIcon(icon_cb3f767e79c0f4d4f1fa6d377a7a5cbf);\n        \n    \n            var marker_8b3b3df5bdfaf42077a9d743ed4cdc4a = L.marker(\n                [28.57325457, -80.64689529],\n                {}\n            ).addTo(marker_cluster_dedd7febf2d41b4ababe7364f638909e);\n        \n    \n            var icon_96ede3716e3f2f8112f9deef75980171 = L.AwesomeMarkers.icon(\n                {&quot;extraClasses&quot;: &quot;fa-rotate-0&quot;, &quot;icon&quot;: &quot;info-sign&quot;, &quot;iconColor&quot;: &quot;red&quot;, &quot;markerColor&quot;: &quot;white&quot;, &quot;prefix&quot;: &quot;glyphicon&quot;}\n            );\n            marker_8b3b3df5bdfaf42077a9d743ed4cdc4a.setIcon(icon_96ede3716e3f2f8112f9deef75980171);\n        \n    \n            var marker_2027db0f30cb849189af3cc57de12ad5 = L.marker(\n                [28.57325457, -80.64689529],\n                {}\n            ).addTo(marker_cluster_dedd7febf2d41b4ababe7364f638909e);\n        \n    \n            var icon_547d4e5aff39fdc695ca43f5b70a99c9 = L.AwesomeMarkers.icon(\n                {&quot;extraClasses&quot;: &quot;fa-rotate-0&quot;, &quot;icon&quot;: &quot;info-sign&quot;, &quot;iconColor&quot;: &quot;green&quot;, &quot;markerColor&quot;: &quot;white&quot;, &quot;prefix&quot;: &quot;glyphicon&quot;}\n            );\n            marker_2027db0f30cb849189af3cc57de12ad5.setIcon(icon_547d4e5aff39fdc695ca43f5b70a99c9);\n        \n    \n            var marker_e60baa3520d3cbce39eb48038f00c161 = L.marker(\n                [28.57325457, -80.64689529],\n                {}\n            ).addTo(marker_cluster_dedd7febf2d41b4ababe7364f638909e);\n        \n    \n            var icon_06081540ecf1bd0d7d5fdc86c041ad15 = L.AwesomeMarkers.icon(\n                {&quot;extraClasses&quot;: &quot;fa-rotate-0&quot;, &quot;icon&quot;: &quot;info-sign&quot;, &quot;iconColor&quot;: &quot;green&quot;, &quot;markerColor&quot;: &quot;white&quot;, &quot;prefix&quot;: &quot;glyphicon&quot;}\n            );\n            marker_e60baa3520d3cbce39eb48038f00c161.setIcon(icon_06081540ecf1bd0d7d5fdc86c041ad15);\n        \n    \n            var marker_63e9624484827bf9bf8b2234de671b03 = L.marker(\n                [28.57325457, -80.64689529],\n                {}\n            ).addTo(marker_cluster_dedd7febf2d41b4ababe7364f638909e);\n        \n    \n            var icon_2824807b0870332e12840a03f5365a81 = L.AwesomeMarkers.icon(\n                {&quot;extraClasses&quot;: &quot;fa-rotate-0&quot;, &quot;icon&quot;: &quot;info-sign&quot;, &quot;iconColor&quot;: &quot;red&quot;, &quot;markerColor&quot;: &quot;white&quot;, &quot;prefix&quot;: &quot;glyphicon&quot;}\n            );\n            marker_63e9624484827bf9bf8b2234de671b03.setIcon(icon_2824807b0870332e12840a03f5365a81);\n        \n    \n            var marker_63e1ff0fea40a736baa164f2d31d86c3 = L.marker(\n                [28.57325457, -80.64689529],\n                {}\n            ).addTo(marker_cluster_dedd7febf2d41b4ababe7364f638909e);\n        \n    \n            var icon_4c7c39ba954335a74dd0bda2ed6cc174 = L.AwesomeMarkers.icon(\n                {&quot;extraClasses&quot;: &quot;fa-rotate-0&quot;, &quot;icon&quot;: &quot;info-sign&quot;, &quot;iconColor&quot;: &quot;green&quot;, &quot;markerColor&quot;: &quot;white&quot;, &quot;prefix&quot;: &quot;glyphicon&quot;}\n            );\n            marker_63e1ff0fea40a736baa164f2d31d86c3.setIcon(icon_4c7c39ba954335a74dd0bda2ed6cc174);\n        \n    \n            var marker_7d9cdf6ac9969c6211f303bbccb41f53 = L.marker(\n                [28.57325457, -80.64689529],\n                {}\n            ).addTo(marker_cluster_dedd7febf2d41b4ababe7364f638909e);\n        \n    \n            var icon_4767e2fb4acd5477832ce6fcf1861e39 = L.AwesomeMarkers.icon(\n                {&quot;extraClasses&quot;: &quot;fa-rotate-0&quot;, &quot;icon&quot;: &quot;info-sign&quot;, &quot;iconColor&quot;: &quot;green&quot;, &quot;markerColor&quot;: &quot;white&quot;, &quot;prefix&quot;: &quot;glyphicon&quot;}\n            );\n            marker_7d9cdf6ac9969c6211f303bbccb41f53.setIcon(icon_4767e2fb4acd5477832ce6fcf1861e39);\n        \n    \n            var marker_2e4fcc987f0c89b41127fdf77f8756b8 = L.marker(\n                [28.57325457, -80.64689529],\n                {}\n            ).addTo(marker_cluster_dedd7febf2d41b4ababe7364f638909e);\n        \n    \n            var icon_0de0e85579b8caf9f4918a73bda0964d = L.AwesomeMarkers.icon(\n                {&quot;extraClasses&quot;: &quot;fa-rotate-0&quot;, &quot;icon&quot;: &quot;info-sign&quot;, &quot;iconColor&quot;: &quot;green&quot;, &quot;markerColor&quot;: &quot;white&quot;, &quot;prefix&quot;: &quot;glyphicon&quot;}\n            );\n            marker_2e4fcc987f0c89b41127fdf77f8756b8.setIcon(icon_0de0e85579b8caf9f4918a73bda0964d);\n        \n    \n            var marker_899c6713985ab9efd318b924f912b5e6 = L.marker(\n                [28.57325457, -80.64689529],\n                {}\n            ).addTo(marker_cluster_dedd7febf2d41b4ababe7364f638909e);\n        \n    \n            var icon_e11a9b41aa07910a173a25aed0d96a42 = L.AwesomeMarkers.icon(\n                {&quot;extraClasses&quot;: &quot;fa-rotate-0&quot;, &quot;icon&quot;: &quot;info-sign&quot;, &quot;iconColor&quot;: &quot;green&quot;, &quot;markerColor&quot;: &quot;white&quot;, &quot;prefix&quot;: &quot;glyphicon&quot;}\n            );\n            marker_899c6713985ab9efd318b924f912b5e6.setIcon(icon_e11a9b41aa07910a173a25aed0d96a42);\n        \n    \n            var marker_792b9a90225885f0d6f23694d0beaa5f = L.marker(\n                [28.57325457, -80.64689529],\n                {}\n            ).addTo(marker_cluster_dedd7febf2d41b4ababe7364f638909e);\n        \n    \n            var icon_f474c33841bef88809cd4791806a9cad = L.AwesomeMarkers.icon(\n                {&quot;extraClasses&quot;: &quot;fa-rotate-0&quot;, &quot;icon&quot;: &quot;info-sign&quot;, &quot;iconColor&quot;: &quot;green&quot;, &quot;markerColor&quot;: &quot;white&quot;, &quot;prefix&quot;: &quot;glyphicon&quot;}\n            );\n            marker_792b9a90225885f0d6f23694d0beaa5f.setIcon(icon_f474c33841bef88809cd4791806a9cad);\n        \n    \n            var marker_73d365135facb9b5b973171b857d1bd6 = L.marker(\n                [28.56319718, -80.57682003],\n                {}\n            ).addTo(marker_cluster_dedd7febf2d41b4ababe7364f638909e);\n        \n    \n            var icon_01bc4e34171484cf867611ca48ffd229 = L.AwesomeMarkers.icon(\n                {&quot;extraClasses&quot;: &quot;fa-rotate-0&quot;, &quot;icon&quot;: &quot;info-sign&quot;, &quot;iconColor&quot;: &quot;green&quot;, &quot;markerColor&quot;: &quot;white&quot;, &quot;prefix&quot;: &quot;glyphicon&quot;}\n            );\n            marker_73d365135facb9b5b973171b857d1bd6.setIcon(icon_01bc4e34171484cf867611ca48ffd229);\n        \n    \n            var marker_593aa39956ef796c69c76c37bccfe80e = L.marker(\n                [28.56319718, -80.57682003],\n                {}\n            ).addTo(marker_cluster_dedd7febf2d41b4ababe7364f638909e);\n        \n    \n            var icon_2cc0319cd568c2d11b0f13e12db1fa85 = L.AwesomeMarkers.icon(\n                {&quot;extraClasses&quot;: &quot;fa-rotate-0&quot;, &quot;icon&quot;: &quot;info-sign&quot;, &quot;iconColor&quot;: &quot;green&quot;, &quot;markerColor&quot;: &quot;white&quot;, &quot;prefix&quot;: &quot;glyphicon&quot;}\n            );\n            marker_593aa39956ef796c69c76c37bccfe80e.setIcon(icon_2cc0319cd568c2d11b0f13e12db1fa85);\n        \n    \n            var marker_edc3c83540168f6c4b81214656a82b29 = L.marker(\n                [28.56319718, -80.57682003],\n                {}\n            ).addTo(marker_cluster_dedd7febf2d41b4ababe7364f638909e);\n        \n    \n            var icon_3af4d38a34f014477d95a1d4a8f2426b = L.AwesomeMarkers.icon(\n                {&quot;extraClasses&quot;: &quot;fa-rotate-0&quot;, &quot;icon&quot;: &quot;info-sign&quot;, &quot;iconColor&quot;: &quot;red&quot;, &quot;markerColor&quot;: &quot;white&quot;, &quot;prefix&quot;: &quot;glyphicon&quot;}\n            );\n            marker_edc3c83540168f6c4b81214656a82b29.setIcon(icon_3af4d38a34f014477d95a1d4a8f2426b);\n        \n    \n            var marker_a71cd5f05f09aa157d70b74b9ecf3ac7 = L.marker(\n                [28.56319718, -80.57682003],\n                {}\n            ).addTo(marker_cluster_dedd7febf2d41b4ababe7364f638909e);\n        \n    \n            var icon_6268e4f0a2f473bef0e629e4052576e3 = L.AwesomeMarkers.icon(\n                {&quot;extraClasses&quot;: &quot;fa-rotate-0&quot;, &quot;icon&quot;: &quot;info-sign&quot;, &quot;iconColor&quot;: &quot;red&quot;, &quot;markerColor&quot;: &quot;white&quot;, &quot;prefix&quot;: &quot;glyphicon&quot;}\n            );\n            marker_a71cd5f05f09aa157d70b74b9ecf3ac7.setIcon(icon_6268e4f0a2f473bef0e629e4052576e3);\n        \n    \n            var marker_c861aa66ebb28e4be9557c8124726af1 = L.marker(\n                [28.56319718, -80.57682003],\n                {}\n            ).addTo(marker_cluster_dedd7febf2d41b4ababe7364f638909e);\n        \n    \n            var icon_7c8a42357ac1de0a0d998fb86cb1678e = L.AwesomeMarkers.icon(\n                {&quot;extraClasses&quot;: &quot;fa-rotate-0&quot;, &quot;icon&quot;: &quot;info-sign&quot;, &quot;iconColor&quot;: &quot;red&quot;, &quot;markerColor&quot;: &quot;white&quot;, &quot;prefix&quot;: &quot;glyphicon&quot;}\n            );\n            marker_c861aa66ebb28e4be9557c8124726af1.setIcon(icon_7c8a42357ac1de0a0d998fb86cb1678e);\n        \n    \n            var marker_21036cad26219e52a0b331cabffd1a5b = L.marker(\n                [28.56319718, -80.57682003],\n                {}\n            ).addTo(marker_cluster_dedd7febf2d41b4ababe7364f638909e);\n        \n    \n            var icon_8d8d2c9fd0ac5a015484ebd895da05fe = L.AwesomeMarkers.icon(\n                {&quot;extraClasses&quot;: &quot;fa-rotate-0&quot;, &quot;icon&quot;: &quot;info-sign&quot;, &quot;iconColor&quot;: &quot;green&quot;, &quot;markerColor&quot;: &quot;white&quot;, &quot;prefix&quot;: &quot;glyphicon&quot;}\n            );\n            marker_21036cad26219e52a0b331cabffd1a5b.setIcon(icon_8d8d2c9fd0ac5a015484ebd895da05fe);\n        \n    \n            var marker_8831bc7f20f5bfb3fa10b698f9b03a85 = L.marker(\n                [28.56319718, -80.57682003],\n                {}\n            ).addTo(marker_cluster_dedd7febf2d41b4ababe7364f638909e);\n        \n    \n            var icon_c1f18d39f0dc868ec85b13aa8991932e = L.AwesomeMarkers.icon(\n                {&quot;extraClasses&quot;: &quot;fa-rotate-0&quot;, &quot;icon&quot;: &quot;info-sign&quot;, &quot;iconColor&quot;: &quot;red&quot;, &quot;markerColor&quot;: &quot;white&quot;, &quot;prefix&quot;: &quot;glyphicon&quot;}\n            );\n            marker_8831bc7f20f5bfb3fa10b698f9b03a85.setIcon(icon_c1f18d39f0dc868ec85b13aa8991932e);\n        \n    \n            var mouse_position_90b8685d370a7fb6046fd766c030eaf3 = new L.Control.MousePosition(\n                {&quot;emptyString&quot;: &quot;NaN&quot;, &quot;lngFirst&quot;: false, &quot;numDigits&quot;: 20, &quot;position&quot;: &quot;topright&quot;, &quot;prefix&quot;: &quot;Lat:&quot;, &quot;separator&quot;: &quot; Long: &quot;}\n            );\n            mouse_position_90b8685d370a7fb6046fd766c030eaf3.options[&quot;latFormatter&quot;] =\n                function(num) {return L.Util.formatNum(num, 5);};;\n            mouse_position_90b8685d370a7fb6046fd766c030eaf3.options[&quot;lngFormatter&quot;] =\n                function(num) {return L.Util.formatNum(num, 5);};;\n            map_f6a5cee732f4c78af0497aa04d72f9ad.addControl(mouse_position_90b8685d370a7fb6046fd766c030eaf3);\n        \n&lt;/script&gt;\n&lt;/html&gt;\" style=\"position:absolute;width:100%;height:100%;left:0;top:0;border:none !important;\" allowfullscreen webkitallowfullscreen mozallowfullscreen></iframe></div></div>"
     },
     "execution_count": 45,
     "metadata": {},
     "output_type": "execute_result"
    }
   ],
   "source": [
    "# Add Mouse Position to get the coordinate (Lat, Long) for a mouse over on the map\n",
    "formatter = \"function(num) {return L.Util.formatNum(num, 5);};\"\n",
    "mouse_position = MousePosition(\n",
    "    position='topright',\n",
    "    separator=' Long: ',\n",
    "    empty_string='NaN',\n",
    "    lng_first=False,\n",
    "    num_digits=20,\n",
    "    prefix='Lat:',\n",
    "    lat_formatter=formatter,\n",
    "    lng_formatter=formatter,\n",
    ")\n",
    "\n",
    "site_map.add_child(mouse_position)\n",
    "site_map"
   ]
  },
  {
   "cell_type": "markdown",
   "metadata": {},
   "source": [
    "Now zoom in to a launch site and explore its proximity to see if you can easily find any railway, highway, coastline, etc. Move your mouse to these points and mark down their coordinates (shown on the top-left) in order to the distance to the launch site.\n"
   ]
  },
  {
   "cell_type": "markdown",
   "metadata": {},
   "source": [
    "You can calculate the distance between two points on the map based on their `Lat` and `Long` values using the following method:\n"
   ]
  },
  {
   "cell_type": "code",
   "execution_count": 46,
   "metadata": {
    "ExecuteTime": {
     "end_time": "2023-11-09T11:46:54.380352Z",
     "start_time": "2023-11-09T11:46:54.364663Z"
    }
   },
   "outputs": [],
   "source": [
    "from math import sin, cos, sqrt, atan2, radians\n",
    "\n",
    "def calculate_distance(lat1, lon1, lat2, lon2):\n",
    "    # approximate radius of earth in km\n",
    "    R = 6373.0\n",
    "\n",
    "    lat1 = radians(lat1)\n",
    "    lon1 = radians(lon1)\n",
    "    lat2 = radians(lat2)\n",
    "    lon2 = radians(lon2)\n",
    "\n",
    "    dlon = lon2 - lon1\n",
    "    dlat = lat2 - lat1\n",
    "\n",
    "    a = sin(dlat / 2)**2 + cos(lat1) * cos(lat2) * sin(dlon / 2)**2\n",
    "    c = 2 * atan2(sqrt(a), sqrt(1 - a))\n",
    "\n",
    "    distance = R * c\n",
    "    return distance"
   ]
  },
  {
   "cell_type": "markdown",
   "metadata": {},
   "source": [
    "_TODO:_ Mark down a point on the closest coastline using MousePosition and calculate the distance between the coastline point and the launch site.\n"
   ]
  },
  {
   "cell_type": "code",
   "execution_count": 48,
   "metadata": {
    "ExecuteTime": {
     "end_time": "2023-11-09T11:47:52.094180Z",
     "start_time": "2023-11-09T11:47:52.080028Z"
    }
   },
   "outputs": [
    {
     "name": "stdout",
     "output_type": "stream",
     "text": [
      "0.0\n"
     ]
    }
   ],
   "source": [
    "# find coordinate of the closet coastline\n",
    "# e.g.,: Lat: 28.56367  Lon: -80.57163\n",
    "# distance_coastline = calculate_distance(launch_site_lat, launch_site_lon, coastline_lat, coastline_lon)\n",
    "distance_coastline = calculate_distance(28.56367, -80.57163, 28.56367, -80.57163)\n",
    "print(distance_coastline)"
   ]
  },
  {
   "cell_type": "markdown",
   "metadata": {},
   "source": [
    "_TODO:_ After obtained its coordinate, create a `folium.Marker` to show the distance\n"
   ]
  },
  {
   "cell_type": "code",
   "execution_count": null,
   "metadata": {},
   "outputs": [],
   "source": [
    "# Create and add a folium.Marker on your selected closest coastline point on the map\n",
    "# Display the distance between coastline point and launch site using the icon property \n",
    "# for example\n",
    "# distance_marker = folium.Marker(\n",
    "#    coordinate,\n",
    "#    icon=DivIcon(\n",
    "#        icon_size=(20,20),\n",
    "#        icon_anchor=(0,0),\n",
    "#        html='<div style=\"font-size: 12; color:#d35400;\"><b>%s</b></div>' % \"{:10.2f} KM\".format(distance),\n",
    "#        )\n",
    "#    )"
   ]
  },
  {
   "cell_type": "markdown",
   "metadata": {},
   "source": [
    "_TODO:_ Draw a `PolyLine` between a launch site to the selected coastline point\n"
   ]
  },
  {
   "cell_type": "code",
   "execution_count": null,
   "metadata": {},
   "outputs": [],
   "source": [
    "# Create a `folium.PolyLine` object using the coastline coordinates and launch site coordinate\n",
    "# lines=folium.PolyLine(locations=coordinates, weight=1)\n",
    "site_map.add_child(lines)"
   ]
  },
  {
   "cell_type": "markdown",
   "metadata": {},
   "source": [
    "Your updated map with distance line should look like the following screenshot:\n"
   ]
  },
  {
   "cell_type": "markdown",
   "metadata": {},
   "source": [
    "<center>\n",
    "    <img src=\"https://cf-courses-data.s3.us.cloud-object-storage.appdomain.cloud/IBM-DS0321EN-SkillsNetwork/labs/module_3/images/launch_site_marker_distance.png\">\n",
    "</center>\n"
   ]
  },
  {
   "cell_type": "markdown",
   "metadata": {},
   "source": [
    "_TODO:_ Similarly, you can draw a line betwee a launch site to its closest city, railway, highway, etc. You need to use `MousePosition` to find the their coordinates on the map first\n"
   ]
  },
  {
   "cell_type": "markdown",
   "metadata": {},
   "source": [
    "A railway map symbol may look like this:\n"
   ]
  },
  {
   "cell_type": "markdown",
   "metadata": {},
   "source": [
    "<center>\n",
    "    <img src=\"https://cf-courses-data.s3.us.cloud-object-storage.appdomain.cloud/IBM-DS0321EN-SkillsNetwork/labs/module_3/images/railway.png\">\n",
    "</center>\n"
   ]
  },
  {
   "cell_type": "markdown",
   "metadata": {},
   "source": [
    "A highway map symbol may look like this:\n"
   ]
  },
  {
   "cell_type": "markdown",
   "metadata": {},
   "source": [
    "<center>\n",
    "    <img src=\"https://cf-courses-data.s3.us.cloud-object-storage.appdomain.cloud/IBM-DS0321EN-SkillsNetwork/labs/module_3/images/highway.png\">\n",
    "</center>\n"
   ]
  },
  {
   "cell_type": "markdown",
   "metadata": {},
   "source": [
    "A city map symbol may look like this:\n"
   ]
  },
  {
   "cell_type": "markdown",
   "metadata": {},
   "source": [
    "<center>\n",
    "    <img src=\"https://cf-courses-data.s3.us.cloud-object-storage.appdomain.cloud/IBM-DS0321EN-SkillsNetwork/labs/module_3/images/city.png\">\n",
    "</center>\n"
   ]
  },
  {
   "cell_type": "code",
   "execution_count": null,
   "metadata": {},
   "outputs": [],
   "source": [
    "# Create a marker with distance to a closest city, railway, highway, etc.\n",
    "# Draw a line between the marker to the launch site\n"
   ]
  },
  {
   "cell_type": "code",
   "execution_count": null,
   "metadata": {},
   "outputs": [],
   "source": []
  },
  {
   "cell_type": "code",
   "execution_count": null,
   "metadata": {},
   "outputs": [],
   "source": []
  },
  {
   "cell_type": "markdown",
   "metadata": {},
   "source": [
    "After you plot distance lines to the proximities, you can answer the following questions easily:\n",
    "- Are launch sites in close proximity to railways?\n",
    "- Are launch sites in close proximity to highways?\n",
    "- Are launch sites in close proximity to coastline?\n",
    "- Do launch sites keep certain distance away from cities?\n",
    "\n",
    "Also please try to explain your findings.\n"
   ]
  },
  {
   "cell_type": "markdown",
   "metadata": {},
   "source": [
    "# Next Steps:\n",
    "\n",
    "Now you have discovered many interesting insights related to the launch sites' location using folium, in a very interactive way. Next, you will need to build a dashboard using Ploty Dash on detailed launch records.\n"
   ]
  },
  {
   "cell_type": "markdown",
   "metadata": {},
   "source": [
    "## Authors\n"
   ]
  },
  {
   "cell_type": "markdown",
   "metadata": {},
   "source": [
    "[Yan Luo](https://www.linkedin.com/in/yan-luo-96288783/?utm_medium=Exinfluencer&utm_source=Exinfluencer&utm_content=000026UJ&utm_term=10006555&utm_id=NA-SkillsNetwork-Channel-SkillsNetworkCoursesIBMDS0321ENSkillsNetwork865-2023-01-01)\n"
   ]
  },
  {
   "cell_type": "markdown",
   "metadata": {},
   "source": [
    "### Other Contributors\n"
   ]
  },
  {
   "cell_type": "markdown",
   "metadata": {},
   "source": [
    "Joseph Santarcangelo\n"
   ]
  },
  {
   "cell_type": "markdown",
   "metadata": {},
   "source": [
    "## Change Log\n"
   ]
  },
  {
   "cell_type": "markdown",
   "metadata": {},
   "source": [
    "|Date (YYYY-MM-DD)|Version|Changed By|Change Description|\n",
    "|-|-|-|-|\n",
    "|2021-05-26|1.0|Yan|Created the initial version|\n"
   ]
  },
  {
   "cell_type": "markdown",
   "metadata": {},
   "source": [
    "Copyright © 2021 IBM Corporation. All rights reserved.\n"
   ]
  }
 ],
 "metadata": {
  "kernelspec": {
   "name": "python3",
   "language": "python",
   "display_name": "Python 3 (ipykernel)"
  },
  "language_info": {
   "name": ""
  }
 },
 "nbformat": 4,
 "nbformat_minor": 4
}
