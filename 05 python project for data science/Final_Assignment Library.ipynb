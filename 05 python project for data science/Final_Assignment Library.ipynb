{
 "cells": [
  {
   "cell_type": "markdown",
   "metadata": {},
   "source": [
    "<center>\n",
    "    <img src=\"https://cf-courses-data.s3.us.cloud-object-storage.appdomain.cloud/IBMDeveloperSkillsNetwork-PY0220EN-SkillsNetwork/labs/project/Images/SN_logo.png\" width=\"300\" alt=\"cognitiveclass.ai logo\">\n",
    "</center>\n"
   ]
  },
  {
   "cell_type": "markdown",
   "metadata": {},
   "source": [
    "<h1>Extracting Stock Data Using a Python Library</h1>\n"
   ]
  },
  {
   "cell_type": "markdown",
   "metadata": {},
   "source": [
    "A company's stock share is a piece of the company more precisely:\n",
    "<p><b>A stock (also known as equity) is a security that represents the ownership of a fraction of a corporation. This\n",
    "entitles the owner of the stock to a proportion of the corporation's assets and profits equal to how much stock they own. Units of stock are called \"shares.\" [1]</p></b>\n",
    "\n",
    "An investor can buy a stock and sell it later. If the stock price increases, the investor profits, If it decreases,the investor with incur a loss.  Determining the stock price is complex; it depends on the number of outstanding shares, the size of the company's future profits, and much more. People trade stocks throughout the day the stock ticker is a report of the price of a certain stock, updated continuously throughout the trading session by the various stock market exchanges. \n",
    "<p>You are a data scientist working for a hedge fund; it's your job to determine any suspicious stock activity. In this lab you will extract stock data using a Python library. We will use the <coode>yfinance</code> library, it allows us to extract data for stocks returning data in a pandas dataframe. You will use the lab to extract.</p>\n"
   ]
  },
  {
   "cell_type": "markdown",
   "metadata": {},
   "source": [
    "<h2>Table of Contents</h2>\n",
    "<div class=\"alert alert-block alert-info\" style=\"margin-top: 20px\">\n",
    "    <ul>\n",
    "        <li>Using yfinance to Extract Stock Info</li>\n",
    "        <li>Using yfinance to Extract Historical Share Price Data</li>\n",
    "        <li>Using yfinance to Extract Historical Dividends Data</li>\n",
    "        <li>Exercise</li>\n",
    "    </ul>\n",
    "<p>\n",
    "    Estimated Time Needed: <strong>30 min</strong></p>\n",
    "</div>\n",
    "\n",
    "<hr>\n"
   ]
  },
  {
   "cell_type": "code",
   "metadata": {},
   "outputs": [],
   "source": [
    "#!pip install yfinance==0.2.4\n",
    "#!pip install pandas==1.3.3"
   ]
  },
  {
   "cell_type": "code",
   "metadata": {
    "ExecuteTime": {
     "end_time": "2023-08-29T14:02:10.906886Z",
     "start_time": "2023-08-29T14:02:08.285926Z"
    }
   },
   "outputs": [],
   "source": [
    "import yfinance as yf\n",
    "import pandas as pd"
   ],
   "execution_count": 1
  },
  {
   "cell_type": "markdown",
   "metadata": {},
   "source": [
    "## Using the yfinance Library to Extract Stock Data\n"
   ]
  },
  {
   "cell_type": "markdown",
   "metadata": {},
   "source": [
    "Using the `Ticker` module we can create an object that will allow us to access functions to extract data. To do this we need to provide the ticker symbol for the stock, here the company is Apple and the ticker symbol is `AAPL`.\n"
   ]
  },
  {
   "cell_type": "code",
   "metadata": {
    "ExecuteTime": {
     "end_time": "2023-08-29T14:03:00.457682Z",
     "start_time": "2023-08-29T14:03:00.450894Z"
    }
   },
   "outputs": [],
   "source": [
    "apple = yf.Ticker(\"AAPL\")"
   ],
   "execution_count": 2
  },
  {
   "cell_type": "markdown",
   "metadata": {},
   "source": [
    "Now we can access functions and variables to extract the type of data we need. You can view them and what they represent here https://aroussi.com/post/python-yahoo-finance.\n"
   ]
  },
  {
   "cell_type": "code",
   "metadata": {
    "ExecuteTime": {
     "end_time": "2023-08-29T14:03:56.241888Z",
     "start_time": "2023-08-29T14:03:54.143729Z"
    }
   },
   "outputs": [
    {
     "name": "stdout",
     "output_type": "stream",
     "text": [
      "--2023-08-29 22:03:54--  https://cf-courses-data.s3.us.cloud-object-storage.appdomain.cloud/IBMDeveloperSkillsNetwork-PY0220EN-SkillsNetwork/data/apple.json\r\n",
      "Resolving cf-courses-data.s3.us.cloud-object-storage.appdomain.cloud (cf-courses-data.s3.us.cloud-object-storage.appdomain.cloud)... 169.45.118.108\r\n",
      "Connecting to cf-courses-data.s3.us.cloud-object-storage.appdomain.cloud (cf-courses-data.s3.us.cloud-object-storage.appdomain.cloud)|169.45.118.108|:443... connected.\r\n",
      "HTTP request sent, awaiting response... 200 OK\r\n",
      "Length: 5699 (5.6K) [application/json]\r\n",
      "Saving to: ‘apple.json’\r\n",
      "\r\n",
      "apple.json          100%[===================>]   5.57K  --.-KB/s    in 0s      \r\n",
      "\r\n",
      "2023-08-29 22:03:56 (418 MB/s) - ‘apple.json’ saved [5699/5699]\r\n",
      "\r\n"
     ]
    }
   ],
   "source": [
    "!wget https://cf-courses-data.s3.us.cloud-object-storage.appdomain.cloud/IBMDeveloperSkillsNetwork-PY0220EN-SkillsNetwork/data/apple.json"
   ],
   "execution_count": 3
  },
  {
   "cell_type": "markdown",
   "metadata": {},
   "source": [
    "### Stock Info\n"
   ]
  },
  {
   "cell_type": "markdown",
   "metadata": {},
   "source": [
    "Using the attribute  <code>info</code> we can extract information about the stock as a Python dictionary.\n"
   ]
  },
  {
   "cell_type": "code",
   "metadata": {
    "ExecuteTime": {
     "end_time": "2023-08-29T14:04:57.756871Z",
     "start_time": "2023-08-29T14:04:57.750953Z"
    }
   },
   "outputs": [
    {
     "data": {
      "text/plain": "{'zip': '95014',\n 'sector': 'Technology',\n 'fullTimeEmployees': 100000,\n 'longBusinessSummary': 'Apple Inc. designs, manufactures, and markets smartphones, personal computers, tablets, wearables, and accessories worldwide. It also sells various related services. In addition, the company offers iPhone, a line of smartphones; Mac, a line of personal computers; iPad, a line of multi-purpose tablets; AirPods Max, an over-ear wireless headphone; and wearables, home, and accessories comprising AirPods, Apple TV, Apple Watch, Beats products, HomePod, and iPod touch. Further, it provides AppleCare support services; cloud services store services; and operates various platforms, including the App Store that allow customers to discover and download applications and digital content, such as books, music, video, games, and podcasts. Additionally, the company offers various services, such as Apple Arcade, a game subscription service; Apple Music, which offers users a curated listening experience with on-demand radio stations; Apple News+, a subscription news and magazine service; Apple TV+, which offers exclusive original content; Apple Card, a co-branded credit card; and Apple Pay, a cashless payment service, as well as licenses its intellectual property. The company serves consumers, and small and mid-sized businesses; and the education, enterprise, and government markets. It distributes third-party applications for its products through the App Store. The company also sells its products through its retail and online stores, and direct sales force; and third-party cellular network carriers, wholesalers, retailers, and resellers. Apple Inc. was incorporated in 1977 and is headquartered in Cupertino, California.',\n 'city': 'Cupertino',\n 'phone': '408 996 1010',\n 'state': 'CA',\n 'country': 'United States',\n 'companyOfficers': [],\n 'website': 'https://www.apple.com',\n 'maxAge': 1,\n 'address1': 'One Apple Park Way',\n 'industry': 'Consumer Electronics',\n 'ebitdaMargins': 0.33890998,\n 'profitMargins': 0.26579002,\n 'grossMargins': 0.43019,\n 'operatingCashflow': 112241000448,\n 'revenueGrowth': 0.112,\n 'operatingMargins': 0.309,\n 'ebitda': 128217997312,\n 'targetLowPrice': 160,\n 'recommendationKey': 'buy',\n 'grossProfits': 152836000000,\n 'freeCashflow': 80153247744,\n 'targetMedianPrice': 199.5,\n 'currentPrice': 177.77,\n 'earningsGrowth': 0.25,\n 'currentRatio': 1.038,\n 'returnOnAssets': 0.19875,\n 'numberOfAnalystOpinions': 44,\n 'targetMeanPrice': 193.53,\n 'debtToEquity': 170.714,\n 'returnOnEquity': 1.45567,\n 'targetHighPrice': 215,\n 'totalCash': 63913000960,\n 'totalDebt': 122797998080,\n 'totalRevenue': 378323009536,\n 'totalCashPerShare': 3.916,\n 'financialCurrency': 'USD',\n 'revenuePerShare': 22.838,\n 'quickRatio': 0.875,\n 'recommendationMean': 1.8,\n 'exchange': 'NMS',\n 'shortName': 'Apple Inc.',\n 'longName': 'Apple Inc.',\n 'exchangeTimezoneName': 'America/New_York',\n 'exchangeTimezoneShortName': 'EDT',\n 'isEsgPopulated': False,\n 'gmtOffSetMilliseconds': '-14400000',\n 'quoteType': 'EQUITY',\n 'symbol': 'AAPL',\n 'messageBoardId': 'finmb_24937',\n 'market': 'us_market',\n 'annualHoldingsTurnover': None,\n 'enterpriseToRevenue': 7.824,\n 'beta3Year': None,\n 'enterpriseToEbitda': 23.086,\n '52WeekChange': 0.4549594,\n 'morningStarRiskRating': None,\n 'forwardEps': 6.56,\n 'revenueQuarterlyGrowth': None,\n 'sharesOutstanding': 16319399936,\n 'fundInceptionDate': None,\n 'annualReportExpenseRatio': None,\n 'totalAssets': None,\n 'bookValue': 4.402,\n 'sharesShort': 111286790,\n 'sharesPercentSharesOut': 0.0068,\n 'fundFamily': None,\n 'lastFiscalYearEnd': 1632528000,\n 'heldPercentInstitutions': 0.59397,\n 'netIncomeToCommon': 100554997760,\n 'trailingEps': 6.015,\n 'lastDividendValue': 0.22,\n 'SandP52WeekChange': 0.15217662,\n 'priceToBook': 40.38392,\n 'heldPercentInsiders': 0.0007,\n 'nextFiscalYearEnd': 1695600000,\n 'yield': None,\n 'mostRecentQuarter': 1640390400,\n 'shortRatio': 1.21,\n 'sharesShortPreviousMonthDate': 1644883200,\n 'floatShares': 16302795170,\n 'beta': 1.185531,\n 'enterpriseValue': 2959991898112,\n 'priceHint': 2,\n 'threeYearAverageReturn': None,\n 'lastSplitDate': 1598832000,\n 'lastSplitFactor': '4:1',\n 'legalType': None,\n 'lastDividendDate': 1643932800,\n 'morningStarOverallRating': None,\n 'earningsQuarterlyGrowth': 0.204,\n 'priceToSalesTrailing12Months': 7.668314,\n 'dateShortInterest': 1647302400,\n 'pegRatio': 1.94,\n 'ytdReturn': None,\n 'forwardPE': 27.099087,\n 'lastCapGain': None,\n 'shortPercentOfFloat': 0.0068,\n 'sharesShortPriorMonth': 108944701,\n 'impliedSharesOutstanding': 0,\n 'category': None,\n 'fiveYearAverageReturn': None,\n 'previousClose': 178.96,\n 'regularMarketOpen': 178.55,\n 'twoHundredDayAverage': 156.03505,\n 'trailingAnnualDividendYield': 0.004833482,\n 'payoutRatio': 0.1434,\n 'volume24Hr': None,\n 'regularMarketDayHigh': 179.61,\n 'navPrice': None,\n 'averageDailyVolume10Day': 93823630,\n 'regularMarketPreviousClose': 178.96,\n 'fiftyDayAverage': 166.498,\n 'trailingAnnualDividendRate': 0.865,\n 'open': 178.55,\n 'toCurrency': None,\n 'averageVolume10days': 93823630,\n 'expireDate': None,\n 'algorithm': None,\n 'dividendRate': 0.88,\n 'exDividendDate': 1643932800,\n 'circulatingSupply': None,\n 'startDate': None,\n 'regularMarketDayLow': 176.7,\n 'currency': 'USD',\n 'trailingPE': 29.55445,\n 'regularMarketVolume': 92633154,\n 'lastMarket': None,\n 'maxSupply': None,\n 'openInterest': None,\n 'marketCap': 2901099675648,\n 'volumeAllCurrencies': None,\n 'strikePrice': None,\n 'averageVolume': 95342043,\n 'dayLow': 176.7,\n 'ask': 178.53,\n 'askSize': 800,\n 'volume': 92633154,\n 'fiftyTwoWeekHigh': 182.94,\n 'fromCurrency': None,\n 'fiveYearAvgDividendYield': 1.13,\n 'fiftyTwoWeekLow': 122.25,\n 'bid': 178.4,\n 'tradeable': False,\n 'dividendYield': 0.005,\n 'bidSize': 3200,\n 'dayHigh': 179.61,\n 'regularMarketPrice': 177.77,\n 'preMarketPrice': 178.38,\n 'logo_url': 'https://logo.clearbit.com/apple.com'}"
     },
     "execution_count": 4,
     "metadata": {},
     "output_type": "execute_result"
    }
   ],
   "source": [
    "import json\n",
    "with open('apple.json') as json_file:\n",
    "    apple_info = json.load(json_file)\n",
    "    # Print the type of data variable    \n",
    "    #print(\"Type:\", type(apple_info))\n",
    "apple_info"
   ],
   "execution_count": 4
  },
  {
   "cell_type": "markdown",
   "metadata": {},
   "source": [
    "We can get the <code>'country'</code> using the key country\n"
   ]
  },
  {
   "cell_type": "code",
   "metadata": {
    "ExecuteTime": {
     "end_time": "2023-08-29T14:05:09.114955Z",
     "start_time": "2023-08-29T14:05:09.106505Z"
    }
   },
   "outputs": [
    {
     "data": {
      "text/plain": "'United States'"
     },
     "execution_count": 5,
     "metadata": {},
     "output_type": "execute_result"
    }
   ],
   "source": [
    "apple_info['country']"
   ],
   "execution_count": 5
  },
  {
   "cell_type": "markdown",
   "metadata": {},
   "source": [
    "### Extracting Share Price\n"
   ]
  },
  {
   "cell_type": "markdown",
   "metadata": {},
   "source": [
    "A share is the single smallest part of a company's stock  that you can buy, the prices of these shares fluctuate over time. Using the <code>history()</code> method we can get the share price of the stock over a certain period of time. Using the `period` parameter we can set how far back from the present to get data. The options for `period` are 1 day (1d), 5d, 1 month (1mo) , 3mo, 6mo, 1 year (1y), 2y, 5y, 10y, ytd, and max.\n"
   ]
  },
  {
   "cell_type": "code",
   "metadata": {
    "ExecuteTime": {
     "end_time": "2023-08-29T14:06:07.476888Z",
     "start_time": "2023-08-29T14:05:56.200552Z"
    }
   },
   "outputs": [],
   "source": [
    "apple_share_price_data = apple.history(period=\"max\")"
   ],
   "execution_count": 6
  },
  {
   "cell_type": "markdown",
   "metadata": {},
   "source": [
    "The format that the data is returned in is a Pandas DataFrame. With the `Date` as the index the share `Open`, `High`, `Low`, `Close`, `Volume`, and `Stock Splits` are given for each day.\n"
   ]
  },
  {
   "cell_type": "code",
   "metadata": {
    "ExecuteTime": {
     "end_time": "2023-08-29T14:06:27.495081Z",
     "start_time": "2023-08-29T14:06:27.481529Z"
    }
   },
   "outputs": [
    {
     "data": {
      "text/plain": "                               Open      High       Low     Close     Volume  \\\nDate                                                                           \n1980-12-12 00:00:00-05:00  0.099450  0.099882  0.099450  0.099450  469033600   \n1980-12-15 00:00:00-05:00  0.094694  0.094694  0.094261  0.094261  175884800   \n1980-12-16 00:00:00-05:00  0.087775  0.087775  0.087343  0.087343  105728000   \n1980-12-17 00:00:00-05:00  0.089504  0.089937  0.089504  0.089504   86441600   \n1980-12-18 00:00:00-05:00  0.092099  0.092532  0.092099  0.092099   73449600   \n\n                           Dividends  Stock Splits  \nDate                                                \n1980-12-12 00:00:00-05:00        0.0           0.0  \n1980-12-15 00:00:00-05:00        0.0           0.0  \n1980-12-16 00:00:00-05:00        0.0           0.0  \n1980-12-17 00:00:00-05:00        0.0           0.0  \n1980-12-18 00:00:00-05:00        0.0           0.0  ",
      "text/html": "<div>\n<style scoped>\n    .dataframe tbody tr th:only-of-type {\n        vertical-align: middle;\n    }\n\n    .dataframe tbody tr th {\n        vertical-align: top;\n    }\n\n    .dataframe thead th {\n        text-align: right;\n    }\n</style>\n<table border=\"1\" class=\"dataframe\">\n  <thead>\n    <tr style=\"text-align: right;\">\n      <th></th>\n      <th>Open</th>\n      <th>High</th>\n      <th>Low</th>\n      <th>Close</th>\n      <th>Volume</th>\n      <th>Dividends</th>\n      <th>Stock Splits</th>\n    </tr>\n    <tr>\n      <th>Date</th>\n      <th></th>\n      <th></th>\n      <th></th>\n      <th></th>\n      <th></th>\n      <th></th>\n      <th></th>\n    </tr>\n  </thead>\n  <tbody>\n    <tr>\n      <th>1980-12-12 00:00:00-05:00</th>\n      <td>0.099450</td>\n      <td>0.099882</td>\n      <td>0.099450</td>\n      <td>0.099450</td>\n      <td>469033600</td>\n      <td>0.0</td>\n      <td>0.0</td>\n    </tr>\n    <tr>\n      <th>1980-12-15 00:00:00-05:00</th>\n      <td>0.094694</td>\n      <td>0.094694</td>\n      <td>0.094261</td>\n      <td>0.094261</td>\n      <td>175884800</td>\n      <td>0.0</td>\n      <td>0.0</td>\n    </tr>\n    <tr>\n      <th>1980-12-16 00:00:00-05:00</th>\n      <td>0.087775</td>\n      <td>0.087775</td>\n      <td>0.087343</td>\n      <td>0.087343</td>\n      <td>105728000</td>\n      <td>0.0</td>\n      <td>0.0</td>\n    </tr>\n    <tr>\n      <th>1980-12-17 00:00:00-05:00</th>\n      <td>0.089504</td>\n      <td>0.089937</td>\n      <td>0.089504</td>\n      <td>0.089504</td>\n      <td>86441600</td>\n      <td>0.0</td>\n      <td>0.0</td>\n    </tr>\n    <tr>\n      <th>1980-12-18 00:00:00-05:00</th>\n      <td>0.092099</td>\n      <td>0.092532</td>\n      <td>0.092099</td>\n      <td>0.092099</td>\n      <td>73449600</td>\n      <td>0.0</td>\n      <td>0.0</td>\n    </tr>\n  </tbody>\n</table>\n</div>"
     },
     "execution_count": 7,
     "metadata": {},
     "output_type": "execute_result"
    }
   ],
   "source": [
    "apple_share_price_data.head()"
   ],
   "execution_count": 7
  },
  {
   "cell_type": "markdown",
   "metadata": {},
   "source": [
    "We can reset the index of the DataFrame with the `reset_index` function. We also set the `inplace` paramter to `True` so the change takes place to the DataFrame itself.\n"
   ]
  },
  {
   "cell_type": "code",
   "metadata": {
    "ExecuteTime": {
     "end_time": "2023-08-29T14:06:59.495540Z",
     "start_time": "2023-08-29T14:06:59.467466Z"
    }
   },
   "outputs": [],
   "source": [
    "apple_share_price_data.reset_index(inplace=True)"
   ],
   "execution_count": 8
  },
  {
   "cell_type": "code",
   "execution_count": 9,
   "outputs": [
    {
     "name": "stdout",
     "output_type": "stream",
     "text": [
      "<class 'pandas.core.frame.DataFrame'>\n",
      "RangeIndex: 10767 entries, 0 to 10766\n",
      "Data columns (total 8 columns):\n",
      " #   Column        Non-Null Count  Dtype                           \n",
      "---  ------        --------------  -----                           \n",
      " 0   Date          10767 non-null  datetime64[ns, America/New_York]\n",
      " 1   Open          10767 non-null  float64                         \n",
      " 2   High          10767 non-null  float64                         \n",
      " 3   Low           10767 non-null  float64                         \n",
      " 4   Close         10767 non-null  float64                         \n",
      " 5   Volume        10767 non-null  int64                           \n",
      " 6   Dividends     10767 non-null  float64                         \n",
      " 7   Stock Splits  10767 non-null  float64                         \n",
      "dtypes: datetime64[ns, America/New_York](1), float64(6), int64(1)\n",
      "memory usage: 673.1 KB\n"
     ]
    }
   ],
   "source": [
    "apple_share_price_data.info()"
   ],
   "metadata": {
    "collapsed": false,
    "ExecuteTime": {
     "end_time": "2023-08-29T14:07:23.821640Z",
     "start_time": "2023-08-29T14:07:23.748176Z"
    }
   }
  },
  {
   "cell_type": "code",
   "execution_count": 10,
   "outputs": [
    {
     "data": {
      "text/plain": "               Open          High           Low         Close        Volume  \\\ncount  10767.000000  10767.000000  10767.000000  10767.000000  1.076700e+04   \nmean      18.027591     18.229034     17.833358     18.038962  3.236011e+08   \nstd       39.099119     39.548527     38.677075     39.130781  3.368652e+08   \nmin        0.038483      0.038483      0.038050      0.038050  0.000000e+00   \n25%        0.239255      0.244750      0.234177      0.239981  1.180244e+08   \n50%        0.413215      0.420136      0.406006      0.413215  2.111536e+08   \n75%       15.801377     15.963229     15.652245     15.864752  4.035990e+08   \nmax      195.975362    197.962667    195.016650    196.185074  7.421641e+09   \n\n          Dividends  Stock Splits  \ncount  10767.000000  10767.000000  \nmean       0.000701      0.001579  \nstd        0.011166      0.084556  \nmin        0.000000      0.000000  \n25%        0.000000      0.000000  \n50%        0.000000      0.000000  \n75%        0.000000      0.000000  \nmax        0.240000      7.000000  ",
      "text/html": "<div>\n<style scoped>\n    .dataframe tbody tr th:only-of-type {\n        vertical-align: middle;\n    }\n\n    .dataframe tbody tr th {\n        vertical-align: top;\n    }\n\n    .dataframe thead th {\n        text-align: right;\n    }\n</style>\n<table border=\"1\" class=\"dataframe\">\n  <thead>\n    <tr style=\"text-align: right;\">\n      <th></th>\n      <th>Open</th>\n      <th>High</th>\n      <th>Low</th>\n      <th>Close</th>\n      <th>Volume</th>\n      <th>Dividends</th>\n      <th>Stock Splits</th>\n    </tr>\n  </thead>\n  <tbody>\n    <tr>\n      <th>count</th>\n      <td>10767.000000</td>\n      <td>10767.000000</td>\n      <td>10767.000000</td>\n      <td>10767.000000</td>\n      <td>1.076700e+04</td>\n      <td>10767.000000</td>\n      <td>10767.000000</td>\n    </tr>\n    <tr>\n      <th>mean</th>\n      <td>18.027591</td>\n      <td>18.229034</td>\n      <td>17.833358</td>\n      <td>18.038962</td>\n      <td>3.236011e+08</td>\n      <td>0.000701</td>\n      <td>0.001579</td>\n    </tr>\n    <tr>\n      <th>std</th>\n      <td>39.099119</td>\n      <td>39.548527</td>\n      <td>38.677075</td>\n      <td>39.130781</td>\n      <td>3.368652e+08</td>\n      <td>0.011166</td>\n      <td>0.084556</td>\n    </tr>\n    <tr>\n      <th>min</th>\n      <td>0.038483</td>\n      <td>0.038483</td>\n      <td>0.038050</td>\n      <td>0.038050</td>\n      <td>0.000000e+00</td>\n      <td>0.000000</td>\n      <td>0.000000</td>\n    </tr>\n    <tr>\n      <th>25%</th>\n      <td>0.239255</td>\n      <td>0.244750</td>\n      <td>0.234177</td>\n      <td>0.239981</td>\n      <td>1.180244e+08</td>\n      <td>0.000000</td>\n      <td>0.000000</td>\n    </tr>\n    <tr>\n      <th>50%</th>\n      <td>0.413215</td>\n      <td>0.420136</td>\n      <td>0.406006</td>\n      <td>0.413215</td>\n      <td>2.111536e+08</td>\n      <td>0.000000</td>\n      <td>0.000000</td>\n    </tr>\n    <tr>\n      <th>75%</th>\n      <td>15.801377</td>\n      <td>15.963229</td>\n      <td>15.652245</td>\n      <td>15.864752</td>\n      <td>4.035990e+08</td>\n      <td>0.000000</td>\n      <td>0.000000</td>\n    </tr>\n    <tr>\n      <th>max</th>\n      <td>195.975362</td>\n      <td>197.962667</td>\n      <td>195.016650</td>\n      <td>196.185074</td>\n      <td>7.421641e+09</td>\n      <td>0.240000</td>\n      <td>7.000000</td>\n    </tr>\n  </tbody>\n</table>\n</div>"
     },
     "execution_count": 10,
     "metadata": {},
     "output_type": "execute_result"
    }
   ],
   "source": [
    "apple_share_price_data.describe()"
   ],
   "metadata": {
    "collapsed": false,
    "ExecuteTime": {
     "end_time": "2023-08-29T14:07:42.869241Z",
     "start_time": "2023-08-29T14:07:42.796217Z"
    }
   }
  },
  {
   "cell_type": "markdown",
   "metadata": {},
   "source": [
    "We can plot the `Open` price against the `Date`:\n"
   ]
  },
  {
   "cell_type": "code",
   "metadata": {
    "ExecuteTime": {
     "end_time": "2023-08-29T14:08:29.647053Z",
     "start_time": "2023-08-29T14:08:27.475799Z"
    }
   },
   "outputs": [
    {
     "data": {
      "text/plain": "<Axes: xlabel='Date'>"
     },
     "execution_count": 11,
     "metadata": {},
     "output_type": "execute_result"
    },
    {
     "data": {
      "text/plain": "<Figure size 640x480 with 1 Axes>",
      "image/png": "[encoded data removed]"
     },
     "metadata": {},
     "output_type": "display_data"
    }
   ],
   "source": [
    "apple_share_price_data.plot(x=\"Date\", y=\"Open\")"
   ],
   "execution_count": 11
  },
  {
   "cell_type": "markdown",
   "metadata": {},
   "source": [
    "### Extracting Dividends\n"
   ]
  },
  {
   "cell_type": "markdown",
   "metadata": {},
   "source": [
    "Dividends are the distribution of a companys profits to shareholders. In this case they are defined as an amount of money returned per share an investor owns. Using the variable `dividends` we can get a dataframe of the data. The period of the data is given by the period defined in the 'history` function.\n"
   ]
  },
  {
   "cell_type": "code",
   "metadata": {
    "ExecuteTime": {
     "end_time": "2023-08-29T14:08:58.438100Z",
     "start_time": "2023-08-29T14:08:58.428919Z"
    }
   },
   "outputs": [
    {
     "data": {
      "text/plain": "Date\n1987-05-11 00:00:00-04:00    0.000536\n1987-08-10 00:00:00-04:00    0.000536\n1987-11-17 00:00:00-05:00    0.000714\n1988-02-12 00:00:00-05:00    0.000714\n1988-05-16 00:00:00-04:00    0.000714\n                               ...   \n2022-08-05 00:00:00-04:00    0.230000\n2022-11-04 00:00:00-04:00    0.230000\n2023-02-10 00:00:00-05:00    0.230000\n2023-05-12 00:00:00-04:00    0.240000\n2023-08-11 00:00:00-04:00    0.240000\nName: Dividends, Length: 80, dtype: float64"
     },
     "execution_count": 12,
     "metadata": {},
     "output_type": "execute_result"
    }
   ],
   "source": [
    "apple.dividends"
   ],
   "execution_count": 12
  },
  {
   "cell_type": "markdown",
   "metadata": {},
   "source": [
    "We can plot the dividends overtime:\n"
   ]
  },
  {
   "cell_type": "code",
   "metadata": {
    "ExecuteTime": {
     "end_time": "2023-08-29T14:09:07.162355Z",
     "start_time": "2023-08-29T14:09:06.776161Z"
    }
   },
   "outputs": [
    {
     "data": {
      "text/plain": "<Axes: xlabel='Date'>"
     },
     "execution_count": 13,
     "metadata": {},
     "output_type": "execute_result"
    },
    {
     "data": {
      "text/plain": "<Figure size 640x480 with 1 Axes>",
      "image/png": "[encoded data removed]"
     },
     "metadata": {},
     "output_type": "display_data"
    }
   ],
   "source": [
    "apple.dividends.plot()"
   ],
   "execution_count": 13
  },
  {
   "cell_type": "markdown",
   "metadata": {},
   "source": [
    "## Exercise \n"
   ]
  },
  {
   "cell_type": "markdown",
   "metadata": {},
   "source": [
    "Now using the `Ticker` module create an object for AMD (Advanced Micro Devices) with the ticker symbol is `AMD` called; name the object <code>amd</code>.\n"
   ]
  },
  {
   "cell_type": "code",
   "execution_count": 21,
   "outputs": [],
   "source": [
    "amd = yf.Ticker(\"AMD\")"
   ],
   "metadata": {
    "collapsed": false,
    "ExecuteTime": {
     "end_time": "2023-08-29T14:12:29.271155Z",
     "start_time": "2023-08-29T14:12:29.259315Z"
    }
   }
  },
  {
   "cell_type": "code",
   "metadata": {
    "ExecuteTime": {
     "end_time": "2023-08-29T14:09:38.312980Z",
     "start_time": "2023-08-29T14:09:36.420335Z"
    }
   },
   "outputs": [
    {
     "name": "stdout",
     "output_type": "stream",
     "text": [
      "--2023-08-29 22:09:36--  https://cf-courses-data.s3.us.cloud-object-storage.appdomain.cloud/IBMDeveloperSkillsNetwork-PY0220EN-SkillsNetwork/data/amd.json\r\n",
      "Resolving cf-courses-data.s3.us.cloud-object-storage.appdomain.cloud (cf-courses-data.s3.us.cloud-object-storage.appdomain.cloud)... 169.45.118.108\r\n",
      "Connecting to cf-courses-data.s3.us.cloud-object-storage.appdomain.cloud (cf-courses-data.s3.us.cloud-object-storage.appdomain.cloud)|169.45.118.108|:443... connected.\r\n",
      "HTTP request sent, awaiting response... 200 OK\r\n",
      "Length: 5838 (5.7K) [application/json]\r\n",
      "Saving to: ‘amd.json’\r\n",
      "\r\n",
      "amd.json            100%[===================>]   5.70K  --.-KB/s    in 0s      \r\n",
      "\r\n",
      "2023-08-29 22:09:38 (371 MB/s) - ‘amd.json’ saved [5838/5838]\r\n",
      "\r\n"
     ]
    }
   ],
   "source": [
    "!wget https://cf-courses-data.s3.us.cloud-object-storage.appdomain.cloud/IBMDeveloperSkillsNetwork-PY0220EN-SkillsNetwork/data/amd.json"
   ],
   "execution_count": 14
  },
  {
   "cell_type": "code",
   "metadata": {
    "ExecuteTime": {
     "end_time": "2023-08-29T14:09:44.061963Z",
     "start_time": "2023-08-29T14:09:44.047383Z"
    }
   },
   "outputs": [
    {
     "data": {
      "text/plain": "{'zip': '95054',\n 'sector': 'Technology',\n 'fullTimeEmployees': 15500,\n 'longBusinessSummary': 'Advanced Micro Devices, Inc. operates as a semiconductor company worldwide. The company operates in two segments, Computing and Graphics; and Enterprise, Embedded and Semi-Custom. Its products include x86 microprocessors as an accelerated processing unit, chipsets, discrete and integrated graphics processing units (GPUs), data center and professional GPUs, and development services; and server and embedded processors, and semi-custom System-on-Chip (SoC) products, development services, and technology for game consoles. The company provides processors for desktop and notebook personal computers under the AMD Ryzen, AMD Ryzen PRO, Ryzen Threadripper, Ryzen Threadripper PRO, AMD Athlon, AMD Athlon PRO, AMD FX, AMD A-Series, and AMD PRO A-Series processors brands; discrete GPUs for desktop and notebook PCs under the AMD Radeon graphics, AMD Embedded Radeon graphics brands; and professional graphics products under the AMD Radeon Pro and AMD FirePro graphics brands. It also offers Radeon Instinct, Radeon PRO V-series, and AMD Instinct accelerators for servers; chipsets under the AMD trademark; microprocessors for servers under the AMD EPYC; embedded processor solutions under the AMD Athlon, AMD Geode, AMD Ryzen, AMD EPYC, AMD R-Series, and G-Series processors brands; and customer-specific solutions based on AMD CPU, GPU, and multi-media technologies, as well as semi-custom SoC products. It serves original equipment manufacturers, public cloud service providers, original design manufacturers, system integrators, independent distributors, online retailers, and add-in-board manufacturers through its direct sales force, independent distributors, and sales representatives. The company was incorporated in 1969 and is headquartered in Santa Clara, California.',\n 'city': 'Santa Clara',\n 'phone': '408 749 4000',\n 'state': 'CA',\n 'country': 'United States',\n 'companyOfficers': [],\n 'website': 'https://www.amd.com',\n 'maxAge': 1,\n 'address1': '2485 Augustine Drive',\n 'industry': 'Semiconductors',\n 'ebitdaMargins': 0.24674,\n 'profitMargins': 0.19240999,\n 'grossMargins': 0.48248002,\n 'operatingCashflow': 3520999936,\n 'revenueGrowth': 0.488,\n 'operatingMargins': 0.22198,\n 'ebitda': 4055000064,\n 'targetLowPrice': 107,\n 'recommendationKey': 'buy',\n 'grossProfits': 7929000000,\n 'freeCashflow': 3122749952,\n 'targetMedianPrice': 150,\n 'currentPrice': 119.22,\n 'earningsGrowth': -0.454,\n 'currentRatio': 2.024,\n 'returnOnAssets': 0.21327,\n 'numberOfAnalystOpinions': 38,\n 'targetMeanPrice': 152.02,\n 'debtToEquity': 9.764,\n 'returnOnEquity': 0.47428,\n 'targetHighPrice': 200,\n 'totalCash': 3608000000,\n 'totalDebt': 732000000,\n 'totalRevenue': 16433999872,\n 'totalCashPerShare': 3.008,\n 'financialCurrency': 'USD',\n 'revenuePerShare': 13.548,\n 'quickRatio': 1.49,\n 'recommendationMean': 2.2,\n 'exchange': 'NMS',\n 'shortName': 'Advanced Micro Devices, Inc.',\n 'longName': 'Advanced Micro Devices, Inc.',\n 'exchangeTimezoneName': 'America/New_York',\n 'exchangeTimezoneShortName': 'EDT',\n 'isEsgPopulated': False,\n 'gmtOffSetMilliseconds': '-14400000',\n 'quoteType': 'EQUITY',\n 'symbol': 'AMD',\n 'messageBoardId': 'finmb_168864',\n 'market': 'us_market',\n 'annualHoldingsTurnover': None,\n 'enterpriseToRevenue': 8.525,\n 'beta3Year': None,\n 'enterpriseToEbitda': 34.551,\n '52WeekChange': 0.51966953,\n 'morningStarRiskRating': None,\n 'forwardEps': 4.72,\n 'revenueQuarterlyGrowth': None,\n 'sharesOutstanding': 1627360000,\n 'fundInceptionDate': None,\n 'annualReportExpenseRatio': None,\n 'totalAssets': None,\n 'bookValue': 6.211,\n 'sharesShort': 27776129,\n 'sharesPercentSharesOut': 0.0171,\n 'fundFamily': None,\n 'lastFiscalYearEnd': 1640390400,\n 'heldPercentInstitutions': 0.52896,\n 'netIncomeToCommon': 3161999872,\n 'trailingEps': 2.57,\n 'lastDividendValue': 0.005,\n 'SandP52WeekChange': 0.15217662,\n 'priceToBook': 19.194977,\n 'heldPercentInsiders': 0.00328,\n 'nextFiscalYearEnd': 1703462400,\n 'yield': None,\n 'mostRecentQuarter': 1640390400,\n 'shortRatio': 0.24,\n 'sharesShortPreviousMonthDate': 1644883200,\n 'floatShares': 1193798619,\n 'beta': 1.848425,\n 'enterpriseValue': 140104957952,\n 'priceHint': 2,\n 'threeYearAverageReturn': None,\n 'lastSplitDate': 966902400,\n 'lastSplitFactor': '2:1',\n 'legalType': None,\n 'lastDividendDate': 798940800,\n 'morningStarOverallRating': None,\n 'earningsQuarterlyGrowth': -0.453,\n 'priceToSalesTrailing12Months': 11.805638,\n 'dateShortInterest': 1647302400,\n 'pegRatio': 0.99,\n 'ytdReturn': None,\n 'forwardPE': 25.258476,\n 'lastCapGain': None,\n 'shortPercentOfFloat': 0.0171,\n 'sharesShortPriorMonth': 88709340,\n 'impliedSharesOutstanding': 0,\n 'category': None,\n 'fiveYearAverageReturn': None,\n 'previousClose': 123.23,\n 'regularMarketOpen': 123.04,\n 'twoHundredDayAverage': 116.6998,\n 'trailingAnnualDividendYield': 0,\n 'payoutRatio': 0,\n 'volume24Hr': None,\n 'regularMarketDayHigh': 125.66,\n 'navPrice': None,\n 'averageDailyVolume10Day': 102167370,\n 'regularMarketPreviousClose': 123.23,\n 'fiftyDayAverage': 115.95,\n 'trailingAnnualDividendRate': 0,\n 'open': 123.04,\n 'toCurrency': None,\n 'averageVolume10days': 102167370,\n 'expireDate': None,\n 'algorithm': None,\n 'dividendRate': None,\n 'exDividendDate': 798940800,\n 'circulatingSupply': None,\n 'startDate': None,\n 'regularMarketDayLow': 118.59,\n 'currency': 'USD',\n 'trailingPE': 46.389107,\n 'regularMarketVolume': 99476946,\n 'lastMarket': None,\n 'maxSupply': None,\n 'openInterest': None,\n 'marketCap': 194013855744,\n 'volumeAllCurrencies': None,\n 'strikePrice': None,\n 'averageVolume': 102428813,\n 'dayLow': 118.59,\n 'ask': 117.24,\n 'askSize': 1100,\n 'volume': 99476946,\n 'fiftyTwoWeekHigh': 164.46,\n 'fromCurrency': None,\n 'fiveYearAvgDividendYield': None,\n 'fiftyTwoWeekLow': 72.5,\n 'bid': 117.24,\n 'tradeable': False,\n 'dividendYield': None,\n 'bidSize': 900,\n 'dayHigh': 125.66,\n 'regularMarketPrice': 119.22,\n 'preMarketPrice': 116.98,\n 'logo_url': 'https://logo.clearbit.com/amd.com'}"
     },
     "execution_count": 15,
     "metadata": {},
     "output_type": "execute_result"
    }
   ],
   "source": [
    "import json\n",
    "with open('amd.json') as json_file:\n",
    "    amd_info = json.load(json_file)\n",
    "    # Print the type of data variable    \n",
    "    #print(\"Type:\", type(apple_info))\n",
    "amd_info"
   ],
   "execution_count": 15
  },
  {
   "cell_type": "markdown",
   "metadata": {},
   "source": [
    "<b>Question 1</b> Use the key  <code>'country'</code> to find the country the stock belongs to, remember it as it will be a quiz question.\n"
   ]
  },
  {
   "cell_type": "code",
   "metadata": {
    "ExecuteTime": {
     "end_time": "2023-08-29T14:10:00.565285Z",
     "start_time": "2023-08-29T14:10:00.551490Z"
    }
   },
   "outputs": [
    {
     "data": {
      "text/plain": "'United States'"
     },
     "execution_count": 16,
     "metadata": {},
     "output_type": "execute_result"
    }
   ],
   "source": [
    "amd_info['country']"
   ],
   "execution_count": 16
  },
  {
   "cell_type": "markdown",
   "metadata": {},
   "source": [
    "<b>Question 2</b> Use the key  <code>'sector'</code> to find the sector the stock belongs to, remember it as it will be a quiz question.\n"
   ]
  },
  {
   "cell_type": "code",
   "metadata": {
    "ExecuteTime": {
     "end_time": "2023-08-29T14:10:30.709875Z",
     "start_time": "2023-08-29T14:10:30.699440Z"
    }
   },
   "outputs": [
    {
     "data": {
      "text/plain": "'Technology'"
     },
     "execution_count": 17,
     "metadata": {},
     "output_type": "execute_result"
    }
   ],
   "source": [
    "amd_info['sector']"
   ],
   "execution_count": 17
  },
  {
   "cell_type": "markdown",
   "metadata": {},
   "source": [
    "<b>Question 3</b> Obtain stock data for AMD using the `history` function, set the `period` to max. Find the `Volume` traded on the first day (first row).\n"
   ]
  },
  {
   "cell_type": "code",
   "metadata": {
    "ExecuteTime": {
     "end_time": "2023-08-29T14:12:49.105687Z",
     "start_time": "2023-08-29T14:12:48.399384Z"
    }
   },
   "outputs": [
    {
     "data": {
      "text/plain": "                                 Open        High         Low       Close  \\\nDate                                                                        \n1980-03-17 00:00:00-05:00    0.000000    3.302083    3.125000    3.145833   \n1980-03-18 00:00:00-05:00    0.000000    3.125000    2.937500    3.031250   \n1980-03-19 00:00:00-05:00    0.000000    3.083333    3.020833    3.041667   \n1980-03-20 00:00:00-05:00    0.000000    3.062500    3.010417    3.010417   \n1980-03-21 00:00:00-05:00    0.000000    3.020833    2.906250    2.916667   \n...                               ...         ...         ...         ...   \n2023-08-23 00:00:00-04:00  105.650002  110.080002  105.000000  109.430000   \n2023-08-24 00:00:00-04:00  111.059998  111.639999  100.870003  101.800003   \n2023-08-25 00:00:00-04:00  101.169998  104.120003   99.580002  102.250000   \n2023-08-28 00:00:00-04:00  103.470001  104.070000  100.889999  102.610001   \n2023-08-29 00:00:00-04:00  102.110001  104.370003  101.790001  103.870003   \n\n                              Volume  Dividends  Stock Splits  \nDate                                                           \n1980-03-17 00:00:00-05:00     219600        0.0           0.0  \n1980-03-18 00:00:00-05:00     727200        0.0           0.0  \n1980-03-19 00:00:00-05:00     295200        0.0           0.0  \n1980-03-20 00:00:00-05:00     159600        0.0           0.0  \n1980-03-21 00:00:00-05:00     130800        0.0           0.0  \n...                              ...        ...           ...  \n2023-08-23 00:00:00-04:00   54656300        0.0           0.0  \n2023-08-24 00:00:00-04:00  109179100        0.0           0.0  \n2023-08-25 00:00:00-04:00   74729800        0.0           0.0  \n2023-08-28 00:00:00-04:00   55337300        0.0           0.0  \n2023-08-29 00:00:00-04:00   12370639        0.0           0.0  \n\n[10956 rows x 7 columns]",
      "text/html": "<div>\n<style scoped>\n    .dataframe tbody tr th:only-of-type {\n        vertical-align: middle;\n    }\n\n    .dataframe tbody tr th {\n        vertical-align: top;\n    }\n\n    .dataframe thead th {\n        text-align: right;\n    }\n</style>\n<table border=\"1\" class=\"dataframe\">\n  <thead>\n    <tr style=\"text-align: right;\">\n      <th></th>\n      <th>Open</th>\n      <th>High</th>\n      <th>Low</th>\n      <th>Close</th>\n      <th>Volume</th>\n      <th>Dividends</th>\n      <th>Stock Splits</th>\n    </tr>\n    <tr>\n      <th>Date</th>\n      <th></th>\n      <th></th>\n      <th></th>\n      <th></th>\n      <th></th>\n      <th></th>\n      <th></th>\n    </tr>\n  </thead>\n  <tbody>\n    <tr>\n      <th>1980-03-17 00:00:00-05:00</th>\n      <td>0.000000</td>\n      <td>3.302083</td>\n      <td>3.125000</td>\n      <td>3.145833</td>\n      <td>219600</td>\n      <td>0.0</td>\n      <td>0.0</td>\n    </tr>\n    <tr>\n      <th>1980-03-18 00:00:00-05:00</th>\n      <td>0.000000</td>\n      <td>3.125000</td>\n      <td>2.937500</td>\n      <td>3.031250</td>\n      <td>727200</td>\n      <td>0.0</td>\n      <td>0.0</td>\n    </tr>\n    <tr>\n      <th>1980-03-19 00:00:00-05:00</th>\n      <td>0.000000</td>\n      <td>3.083333</td>\n      <td>3.020833</td>\n      <td>3.041667</td>\n      <td>295200</td>\n      <td>0.0</td>\n      <td>0.0</td>\n    </tr>\n    <tr>\n      <th>1980-03-20 00:00:00-05:00</th>\n      <td>0.000000</td>\n      <td>3.062500</td>\n      <td>3.010417</td>\n      <td>3.010417</td>\n      <td>159600</td>\n      <td>0.0</td>\n      <td>0.0</td>\n    </tr>\n    <tr>\n      <th>1980-03-21 00:00:00-05:00</th>\n      <td>0.000000</td>\n      <td>3.020833</td>\n      <td>2.906250</td>\n      <td>2.916667</td>\n      <td>130800</td>\n      <td>0.0</td>\n      <td>0.0</td>\n    </tr>\n    <tr>\n      <th>...</th>\n      <td>...</td>\n      <td>...</td>\n      <td>...</td>\n      <td>...</td>\n      <td>...</td>\n      <td>...</td>\n      <td>...</td>\n    </tr>\n    <tr>\n      <th>2023-08-23 00:00:00-04:00</th>\n      <td>105.650002</td>\n      <td>110.080002</td>\n      <td>105.000000</td>\n      <td>109.430000</td>\n      <td>54656300</td>\n      <td>0.0</td>\n      <td>0.0</td>\n    </tr>\n    <tr>\n      <th>2023-08-24 00:00:00-04:00</th>\n      <td>111.059998</td>\n      <td>111.639999</td>\n      <td>100.870003</td>\n      <td>101.800003</td>\n      <td>109179100</td>\n      <td>0.0</td>\n      <td>0.0</td>\n    </tr>\n    <tr>\n      <th>2023-08-25 00:00:00-04:00</th>\n      <td>101.169998</td>\n      <td>104.120003</td>\n      <td>99.580002</td>\n      <td>102.250000</td>\n      <td>74729800</td>\n      <td>0.0</td>\n      <td>0.0</td>\n    </tr>\n    <tr>\n      <th>2023-08-28 00:00:00-04:00</th>\n      <td>103.470001</td>\n      <td>104.070000</td>\n      <td>100.889999</td>\n      <td>102.610001</td>\n      <td>55337300</td>\n      <td>0.0</td>\n      <td>0.0</td>\n    </tr>\n    <tr>\n      <th>2023-08-29 00:00:00-04:00</th>\n      <td>102.110001</td>\n      <td>104.370003</td>\n      <td>101.790001</td>\n      <td>103.870003</td>\n      <td>12370639</td>\n      <td>0.0</td>\n      <td>0.0</td>\n    </tr>\n  </tbody>\n</table>\n<p>10956 rows × 7 columns</p>\n</div>"
     },
     "execution_count": 22,
     "metadata": {},
     "output_type": "execute_result"
    }
   ],
   "source": [
    "amd.history(period=\"max\")"
   ],
   "execution_count": 22
  },
  {
   "cell_type": "markdown",
   "metadata": {},
   "source": [
    "<h2>About the Authors:</h2> \n",
    "\n",
    "<a href=\"https://www.linkedin.com/in/joseph-s-50398b136/?utm_medium=Exinfluencer&utm_source=Exinfluencer&utm_content=000026UJ&utm_term=10006555&utm_id=NA-SkillsNetwork-Channel-SkillsNetworkCoursesIBMDeveloperSkillsNetworkPY0220ENSkillsNetwork900-2022-01-01\">Joseph Santarcangelo</a> has a PhD in Electrical Engineering, his research focused on using machine learning, signal processing, and computer vision to determine how videos impact human cognition. Joseph has been working for IBM since he completed his PhD.\n",
    "\n",
    "Azim Hirjani\n"
   ]
  },
  {
   "cell_type": "markdown",
   "metadata": {},
   "source": [
    "## Change Log\n",
    "\n",
    "| Date (YYYY-MM-DD) | Version | Changed By    | Change Description        |\n",
    "| ----------------- | ------- | ------------- | ------------------------- |\n",
    "| 2020-11-10        | 1.1     | Malika Singla | Deleted the Optional part |\n",
    "| 2020-08-27        | 1.0     | Malika Singla | Added lab to GitLab       |\n",
    "\n",
    "<hr>\n",
    "\n",
    "## <h3 align=\"center\"> © IBM Corporation 2020. All rights reserved. <h3/>\n",
    "\n",
    "<p>\n"
   ]
  }
 ],
 "metadata": {
  "kernelspec": {
   "name": "python3",
   "language": "python",
   "display_name": "Python 3 (ipykernel)"
  },
  "language_info": {
   "name": ""
  }
 },
 "nbformat": 4,
 "nbformat_minor": 4
}
